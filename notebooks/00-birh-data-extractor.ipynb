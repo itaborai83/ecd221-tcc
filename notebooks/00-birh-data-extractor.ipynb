{
 "cells": [
  {
   "cell_type": "markdown",
   "id": "3fd98376",
   "metadata": {},
   "source": [
    "# CARGA DE DADOS DO BIRH\n",
    "---\n",
    "O BIRH é a base de dados integrada de RH da Petrobras.\n",
    "\n",
    "Esta base de dados será consultada para extração de dados corporativos não sensíveis dos usuários\n"
   ]
  },
  {
   "cell_type": "code",
   "execution_count": null,
   "id": "fa32defe",
   "metadata": {},
   "outputs": [],
   "source": [
    "import os\n",
    "import os.path\n",
    "import cx_Oracle\n",
    "import sqlalchemy\n",
    "import pandas as pd"
   ]
  },
  {
   "cell_type": "markdown",
   "id": "d79802bf",
   "metadata": {},
   "source": [
    "As variáveis de ambiente abaixo precisam ser configuradas antes da execução deste notebook. Vide o arquivo **setenv.ps1.example**"
   ]
  },
  {
   "cell_type": "code",
   "execution_count": null,
   "id": "e8d27a3e",
   "metadata": {},
   "outputs": [],
   "source": [
    "oracle_host       = os.environ['ORACLE_HOST']\n",
    "oracle_port       = os.environ['ORACLE_PORT']\n",
    "oracle_service    = os.environ['ORACLE_SERVICE']\n",
    "oracle_user       = os.environ['ORACLE_USER']\n",
    "oracle_password   = os.environ['ORACLE_PASSWORD']\n",
    "oracle_home       = os.environ['ORACLE_HOME']"
   ]
  },
  {
   "cell_type": "markdown",
   "id": "2271293d",
   "metadata": {},
   "source": [
    "A biblioteca cx_Oracle requer a instação de um Oracle Client contendo bibliotecas C necessária para comunicação com o servidor.\n",
    "\n",
    "A maneira mais fácil de atender esse requisito é por meio da instalação do Oracle Instant Client, que pode ser baixada e descompactada na pasta do próprio projeto.\n",
    "\n",
    "Segue link abaixo:\n",
    "\n",
    "https://www.oracle.com/br/database/technologies/instant-client/winx64-64-downloads.html\n",
    "\n",
    "Após instalação, é necessário indicar na instalação da biblioteca onde a mesma encontra-se"
   ]
  },
  {
   "cell_type": "code",
   "execution_count": null,
   "id": "1164a9d5",
   "metadata": {},
   "outputs": [],
   "source": [
    "cx_Oracle.init_oracle_client(lib_dir=oracle_home)"
   ]
  },
  {
   "cell_type": "markdown",
   "id": "978080f2",
   "metadata": {},
   "source": [
    "A consulta abaixo retorna a lista de usuários com chave ativa, trazendo tanto funcionários próprios como concusrsados.\n",
    "\n",
    "Nenhuma informação sensível sobre os mesmos está sendo retornada, nem mesmo o nome nome das pessoas"
   ]
  },
  {
   "cell_type": "code",
   "execution_count": null,
   "id": "7193031d",
   "metadata": {},
   "outputs": [],
   "source": [
    "SQL_DADOS_BIRH = \"\"\"\n",
    "    SELECT  a.fotr_cd_chave                                     AS chave_usuario\n",
    "    ,       UPPER(a.tift_nm_tipo_forca_trabalho)                AS tipo_usuario\n",
    "    ,       a.lota_cd_centro_custo                              AS centro_custo\n",
    "    ,       NVL(REGEXP_SUBSTR(\n",
    "                unor_sg_unidade_organizacional\n",
    "            ,   '(^[^/]+)'\n",
    "            ,   1     -- Start at the first character\n",
    "            ,   1     -- Get the first match\n",
    "            ,   NULL  -- Case sensitive\n",
    "            ,   1     -- Return the first capture group\n",
    "            ), 'n/a')                                           AS lotacao_topo\n",
    "    ,       NVL(UPPER(a.unor_sg_unidade_organizacional), 'n/a') AS sigla_lotacao\n",
    "    ,       NVL(UPPER(a.unor_nm_unidade_organizacional), 'n/a') AS nome_lotacao\n",
    "    ,       NVL(UPPER(a.carg_nm_cargo), 'n/a')                  AS cargo\n",
    "    ,       NVL(UPPER(a.enfa_nm_enfase), 'n/a')                 AS enfase\n",
    "    ,       NVL(UPPER(a.func_nm_funcao), 'n/a')                 AS funcao\n",
    "    ,       UPPER(a.sind_nm_sindicato)                          AS sindicato\n",
    "    ,       UPPER(a.arrh_nm_area_rh)                            AS area_rh\n",
    "    ,       UPPER(a.ftre_nm_imovel_subarea_rh)                  AS imovel\n",
    "    ,       UPPER(a.lone_nm_local_negocio)                      AS local_negocio\n",
    "    ,       UPPER(a.grap_nm_grupo_ativ_prest_serv)              AS grupo_prestacao_servico\n",
    "    ,       UPPER(a.retr_ds_regime_trab_permanente)             AS regime_trabalho\n",
    "    ,       UPPER(a.emgp_nm_empresa_contrato)                   AS empresa_contrato\n",
    "    ,       UPPER(a.prtl_in_tipo_localizacao)                   AS tipo_localizacao\n",
    "    ,       a.pcse_in_status_cracha                             AS status_cracha\n",
    "    ,       a.pcse_in_situacao_cracha                           AS situacao_cracha\n",
    "    FROM    tcrp.MV_BIRH_FOTR_PRSE_VIGENTE a -- MVIEW do BIRH Força de Trabalho & Prestadores de Serviços Vigentes\n",
    "    WHERE   a.emgp_cd_sap_empresa                   = '1000'\n",
    "    AND     a.fotr_in_estado_chave                  = 'A'\n",
    "    AND     a.siat_cd_situacao                      = 'A'\n",
    "\"\"\""
   ]
  },
  {
   "cell_type": "markdown",
   "id": "1b727658",
   "metadata": {},
   "source": [
    "Estabelecimento da conexão usando sqlalchemy. A função **pandas.read_sql** utiliza sqlalchemy para conversar com qualquer banco de dados (além do sqlite)"
   ]
  },
  {
   "cell_type": "code",
   "execution_count": null,
   "id": "72aeaa8f",
   "metadata": {},
   "outputs": [],
   "source": [
    "oracle_dsn        = cx_Oracle.makedsn(oracle_host, oracle_port , oracle_service).replace('SID', 'SERVICE_NAME')\n",
    "oracle_connstring = f'oracle://{oracle_user}:{oracle_password}@{oracle_dsn}'\n",
    "engine            = sqlalchemy.create_engine(oracle_connstring)\n",
    "conn              = engine.connect()"
   ]
  },
  {
   "cell_type": "markdown",
   "id": "99f50c7b",
   "metadata": {},
   "source": [
    "Extração do conjunto de dados"
   ]
  },
  {
   "cell_type": "code",
   "execution_count": null,
   "id": "aa73c052",
   "metadata": {},
   "outputs": [],
   "source": [
    "birh_df = pd.read_sql(SQL_DADOS_BIRH, conn)\n",
    "birh_df.info(verbose=True, show_counts=True)"
   ]
  },
  {
   "cell_type": "markdown",
   "id": "4748ffb1",
   "metadata": {},
   "source": [
    "Salvando o conjunto de dados como um arquivo parquet para poder posteriormente consultá-lo usando a biblioteca **DuckDB**"
   ]
  },
  {
   "cell_type": "code",
   "execution_count": null,
   "id": "2c544141",
   "metadata": {},
   "outputs": [],
   "source": [
    "birh_df.to_parquet(os.environ['BIRH_DATA'])"
   ]
  },
  {
   "cell_type": "code",
   "execution_count": null,
   "id": "3be80d20",
   "metadata": {},
   "outputs": [],
   "source": [
    "print(f\"arquivo do BIRH gerado -> {os.environ['BIRH_DATA']}\")"
   ]
  }
 ],
 "metadata": {
  "language_info": {
   "name": "python"
  }
 },
 "nbformat": 4,
 "nbformat_minor": 5
}
