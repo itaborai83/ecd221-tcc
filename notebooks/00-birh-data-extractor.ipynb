{
 "cells": [
  {
   "cell_type": "markdown",
   "id": "3fd98376",
   "metadata": {},
   "source": [
    "# CARGA DE DADOS DO BIRH\n",
    "---\n",
    "O BIRH é a base de dados integrada de RH da Petrobras.\n",
    "\n",
    "Esta base de dados será consultada para extração de dados corporativos não sensíveis dos usuários\n"
   ]
  },
  {
   "cell_type": "code",
   "execution_count": 1,
   "id": "fa32defe",
   "metadata": {},
   "outputs": [],
   "source": [
    "import os\n",
    "import os.path\n",
    "import cx_Oracle\n",
    "import sqlalchemy\n",
    "import pandas as pd\n",
    "import duckdb"
   ]
  },
  {
   "cell_type": "markdown",
   "id": "d79802bf",
   "metadata": {},
   "source": [
    "As variáveis de ambiente abaixo precisam ser configuradas antes da execução deste notebook. Vide o arquivo **setenv.ps1.example**"
   ]
  },
  {
   "cell_type": "code",
   "execution_count": 2,
   "id": "e8d27a3e",
   "metadata": {},
   "outputs": [],
   "source": [
    "oracle_host       = os.environ['ORACLE_HOST']\n",
    "oracle_port       = os.environ['ORACLE_PORT']\n",
    "oracle_service    = os.environ['ORACLE_SERVICE']\n",
    "oracle_user       = os.environ['ORACLE_USER']\n",
    "oracle_password   = os.environ['ORACLE_PASSWORD']\n",
    "oracle_home       = os.environ['ORACLE_HOME']"
   ]
  },
  {
   "cell_type": "markdown",
   "id": "2271293d",
   "metadata": {},
   "source": [
    "A biblioteca cx_Oracle requer a instação de um Oracle Client contendo bibliotecas C necessária para comunicação com o servidor.\n",
    "\n",
    "A maneira mais fácil de atender esse requisito é por meio da instalação do Oracle Instant Client, que pode ser baixada e descompactada na pasta do próprio projeto.\n",
    "\n",
    "Segue link abaixo:\n",
    "\n",
    "https://www.oracle.com/br/database/technologies/instant-client/winx64-64-downloads.html\n",
    "\n",
    "Após instalação, é necessário indicar na instalação da biblioteca onde a mesma encontra-se"
   ]
  },
  {
   "cell_type": "code",
   "execution_count": 3,
   "id": "1164a9d5",
   "metadata": {},
   "outputs": [],
   "source": [
    "cx_Oracle.init_oracle_client(lib_dir=oracle_home)"
   ]
  },
  {
   "cell_type": "markdown",
   "id": "978080f2",
   "metadata": {},
   "source": [
    "A consulta abaixo retorna a lista de usuários com chave ativa, trazendo tanto funcionários próprios como concusrsados.\n",
    "\n",
    "Nenhuma informação sensível sobre os mesmos está sendo retornada, nem mesmo o nome nome das pessoas"
   ]
  },
  {
   "cell_type": "code",
   "execution_count": 4,
   "id": "7193031d",
   "metadata": {},
   "outputs": [],
   "source": [
    "SQL_DADOS_BIRH = \"\"\"\n",
    "    SELECT  a.fotr_cd_chave                                     AS chave_usuario\n",
    "    ,       UPPER(a.tift_nm_tipo_forca_trabalho)                AS tipo_usuario\n",
    "    ,       a.lota_cd_centro_custo                              AS centro_custo\n",
    "    ,       NVL(REGEXP_SUBSTR(\n",
    "                unor_sg_unidade_organizacional\n",
    "            ,   '(^[^/]+)'\n",
    "            ,   1     -- Start at the first character\n",
    "            ,   1     -- Get the first match\n",
    "            ,   NULL  -- Case sensitive\n",
    "            ,   1     -- Return the first capture group\n",
    "            ), 'n/a')                                           AS lotacao_topo\n",
    "    ,       NVL(UPPER(a.unor_sg_unidade_organizacional), 'n/a') AS sigla_lotacao\n",
    "    ,       NVL(UPPER(a.unor_nm_unidade_organizacional), 'n/a') AS nome_lotacao\n",
    "    ,       NVL(UPPER(a.carg_nm_cargo), 'n/a')                  AS cargo\n",
    "    ,       NVL(UPPER(a.enfa_nm_enfase), 'n/a')                 AS enfase\n",
    "    ,       NVL(UPPER(a.func_nm_funcao), 'n/a')                 AS funcao\n",
    "    ,       UPPER(a.sind_nm_sindicato)                          AS sindicato\n",
    "    ,       UPPER(a.arrh_nm_area_rh)                            AS area_rh\n",
    "    ,       UPPER(a.ftre_nm_imovel_subarea_rh)                  AS imovel\n",
    "    ,       UPPER(a.lone_nm_local_negocio)                      AS local_negocio\n",
    "    ,       UPPER(a.grap_nm_grupo_ativ_prest_serv)              AS grupo_prestacao_servico\n",
    "    ,       UPPER(a.retr_ds_regime_trab_permanente)             AS regime_trabalho\n",
    "    ,       UPPER(a.emgp_nm_empresa_contrato)                   AS empresa_contrato\n",
    "    ,       UPPER(a.prtl_in_tipo_localizacao)                   AS tipo_localizacao\n",
    "    ,       a.pcse_in_status_cracha                             AS status_cracha\n",
    "    ,       a.pcse_in_situacao_cracha                           AS situacao_cracha\n",
    "    FROM    tcrp.MV_BIRH_FOTR_PRSE_VIGENTE a -- MVIEW do BIRH Força de Trabalho & Prestadores de Serviços Vigentes\n",
    "    WHERE   a.emgp_cd_sap_empresa                   = '1000'\n",
    "    AND     a.fotr_in_estado_chave                  = 'A'\n",
    "    AND     a.siat_cd_situacao                      = 'A'\n",
    "\"\"\"\n",
    "\n",
    "SQL_OBJETOS_CONTRATOS = \"\"\"\n",
    "    SELECT  a.unor_sg_unid_org_ger              AS sigla_lotacao\n",
    "    ,       a.cont_tx_objeto                    AS objeto_contrato\n",
    "    FROM    tcrp.mv_bictr_contrato_petr_k a\n",
    "    WHERE   a.cont_in_ativo                     = 'S'\n",
    "    AND     a.cont_tx_objeto                    IS NOT NULL\n",
    "    AND     a.unor_sg_unid_org_ger              IS NOT NULL\n",
    "    --\n",
    "    UNION\n",
    "    --\n",
    "    SELECT  b.unor_sg_unid_org_fiscal           AS sigla_lotacao            \n",
    "    ,       a.cont_tx_objeto                    AS objeto_contrato\n",
    "    FROM    tcrp.mv_bictr_contrato_petr_k a\n",
    "            --\n",
    "            INNER JOIN tcrp.mv_bictr_fiscal_petr_k b\n",
    "            ON\ta.emgp_cd_sap_empresa           = b.emgp_cd_sap_empresa\n",
    "            AND\ta.cont_cd_contrato_sap          = b.cont_cd_contrato_sap\n",
    "            AND\tb.fico_in_manutencao            = 'I'\n",
    "            --\n",
    "    WHERE   a.cont_in_ativo                     = 'S'\n",
    "    AND     a.cont_tx_objeto                    IS NOT NULL\n",
    "    AND     b.unor_sg_unid_org_fiscal           IS NOT NULL\n",
    "    --\n",
    "    ORDER   BY sigla_lotacao\n",
    "    ,       objeto_contrato\n",
    "\"\"\"\n",
    "\n",
    "SQL_CURSOS = \"\"\"\n",
    "    SELECT  /*+ ALL_ROWS */\n",
    "            ustr_cd_chave_usuario                       AS chave_usuario\n",
    "    ,       UPPER(itct_nm_titulo_item_curso)            AS curso\n",
    "    FROM    tcrp.mv_birh_item_usuario a\n",
    "\"\"\""
   ]
  },
  {
   "cell_type": "markdown",
   "id": "1b727658",
   "metadata": {},
   "source": [
    "Estabelecimento da conexão usando sqlalchemy. A função **pandas.read_sql** utiliza sqlalchemy para conversar com qualquer banco de dados (além do sqlite)"
   ]
  },
  {
   "cell_type": "code",
   "execution_count": 5,
   "id": "72aeaa8f",
   "metadata": {},
   "outputs": [],
   "source": [
    "oracle_dsn        = cx_Oracle.makedsn(oracle_host, oracle_port , oracle_service).replace('SID', 'SERVICE_NAME')\n",
    "oracle_connstring = f'oracle://{oracle_user}:{oracle_password}@{oracle_dsn}'\n",
    "engine            = sqlalchemy.create_engine(oracle_connstring)\n",
    "conn              = engine.connect()"
   ]
  },
  {
   "cell_type": "markdown",
   "id": "99f50c7b",
   "metadata": {},
   "source": [
    "Extração do conjunto de dados"
   ]
  },
  {
   "cell_type": "code",
   "execution_count": 6,
   "id": "aa73c052",
   "metadata": {},
   "outputs": [
    {
     "name": "stdout",
     "output_type": "stream",
     "text": [
      "<class 'pandas.core.frame.DataFrame'>\n",
      "RangeIndex: 91830 entries, 0 to 91829\n",
      "Data columns (total 19 columns):\n",
      " #   Column                   Non-Null Count  Dtype \n",
      "---  ------                   --------------  ----- \n",
      " 0   chave_usuario            91798 non-null  object\n",
      " 1   tipo_usuario             91830 non-null  object\n",
      " 2   centro_custo             39913 non-null  object\n",
      " 3   lotacao_topo             91830 non-null  object\n",
      " 4   sigla_lotacao            91830 non-null  object\n",
      " 5   nome_lotacao             91830 non-null  object\n",
      " 6   cargo                    91830 non-null  object\n",
      " 7   enfase                   91830 non-null  object\n",
      " 8   funcao                   91830 non-null  object\n",
      " 9   sindicato                39415 non-null  object\n",
      " 10  area_rh                  91296 non-null  object\n",
      " 11  imovel                   91296 non-null  object\n",
      " 12  local_negocio            91293 non-null  object\n",
      " 13  grupo_prestacao_servico  51150 non-null  object\n",
      " 14  regime_trabalho          76661 non-null  object\n",
      " 15  empresa_contrato         91192 non-null  object\n",
      " 16  tipo_localizacao         51250 non-null  object\n",
      " 17  status_cracha            51256 non-null  object\n",
      " 18  situacao_cracha          51256 non-null  object\n",
      "dtypes: object(19)\n",
      "memory usage: 13.3+ MB\n"
     ]
    }
   ],
   "source": [
    "_birh_df = pd.read_sql(SQL_DADOS_BIRH, conn)\n",
    "_birh_df.info(verbose=True, show_counts=True)"
   ]
  },
  {
   "cell_type": "code",
   "execution_count": 7,
   "id": "ab68ec40",
   "metadata": {},
   "outputs": [
    {
     "name": "stdout",
     "output_type": "stream",
     "text": [
      "<class 'pandas.core.frame.DataFrame'>\n",
      "RangeIndex: 26123 entries, 0 to 26122\n",
      "Data columns (total 2 columns):\n",
      " #   Column           Non-Null Count  Dtype \n",
      "---  ------           --------------  ----- \n",
      " 0   sigla_lotacao    26123 non-null  object\n",
      " 1   objeto_contrato  26123 non-null  object\n",
      "dtypes: object(2)\n",
      "memory usage: 408.3+ KB\n"
     ]
    }
   ],
   "source": [
    "objetos_contratos_df = pd.read_sql(SQL_OBJETOS_CONTRATOS, conn)\n",
    "objetos_contratos_df.info(verbose=True, show_counts=True)"
   ]
  },
  {
   "cell_type": "code",
   "execution_count": null,
   "id": "ef46fe10",
   "metadata": {},
   "outputs": [],
   "source": [
    "cursos_df = pd.read_sql(SQL_CURSOS, conn)\n",
    "cursos_df.info(verbose=True, show_counts=True)"
   ]
  },
  {
   "cell_type": "code",
   "execution_count": null,
   "id": "807f77ca",
   "metadata": {},
   "outputs": [],
   "source": [
    "conn_duckdb = duckdb.connect(':memory:')\n",
    "sql = \"\"\"\n",
    "WITH cte_objetos AS (\n",
    "    SELECT  a.sigla_lotacao\n",
    "    ,       LIST(DISTINCT a.objeto_contrato) AS objetos_contratos\n",
    "    FROM    objetos_contratos_df AS a\n",
    "    GROUP   BY a.sigla_lotacao    \n",
    ")\n",
    ", cte_cursos AS (\n",
    "    SELECT  a.chave_usuario\n",
    "    ,       LIST(DISTINCT a.curso) AS cursos\n",
    "    FROM    cursos_df AS a\n",
    "    GROUP   BY a.chave_usuario    \n",
    ")\n",
    "SELECT  a.chave_usuario\n",
    ",       a.tipo_usuario\n",
    ",       a.centro_custo\n",
    ",       a.lotacao_topo\n",
    ",       a.sigla_lotacao\n",
    ",       a.nome_lotacao\n",
    ",       a.cargo\n",
    ",       a.enfase\n",
    ",       a.funcao\n",
    ",       a.sindicato\n",
    ",       a.area_rh\n",
    ",       a.imovel\n",
    ",       a.local_negocio\n",
    ",       a.grupo_prestacao_servico\n",
    ",       a.regime_trabalho\n",
    ",       a.empresa_contrato\n",
    ",       a.tipo_localizacao\n",
    ",       a.status_cracha\n",
    ",       a.situacao_cracha\n",
    ",       COALESCE(b.objetos_contratos, []) AS objetos_contratos\n",
    ",       COALESCE(c.cursos, [])            AS cursos\n",
    "FROM    _birh_df a\n",
    "        --\n",
    "        LEFT OUTER JOIN cte_objetos b\n",
    "        ON  a.sigla_lotacao         = b.sigla_lotacao\n",
    "        --\n",
    "        LEFT OUTER JOIN cte_cursos c\n",
    "        ON  a.chave_usuario         = c.chave_usuario\n",
    "\"\"\"\n",
    "birh_df = conn_duckdb.execute(sql).fetchdf()\n",
    "birh_df.info(verbose=True, show_counts=True)"
   ]
  },
  {
   "cell_type": "markdown",
   "id": "4748ffb1",
   "metadata": {},
   "source": [
    "Salvando o conjunto de dados como um arquivo parquet para poder posteriormente consultá-lo usando a biblioteca **DuckDB**"
   ]
  },
  {
   "cell_type": "code",
   "execution_count": null,
   "id": "2c544141",
   "metadata": {},
   "outputs": [],
   "source": [
    "birh_df.to_parquet(os.environ['BIRH_DATA'])"
   ]
  },
  {
   "cell_type": "code",
   "execution_count": null,
   "id": "3be80d20",
   "metadata": {},
   "outputs": [],
   "source": [
    "print(f\"arquivo do BIRH gerado -> {os.environ['BIRH_DATA']}\")"
   ]
  }
 ],
 "metadata": {
  "kernelspec": {
   "display_name": "Python 3 (ipykernel)",
   "language": "python",
   "name": "python3"
  },
  "language_info": {
   "codemirror_mode": {
    "name": "ipython",
    "version": 3
   },
   "file_extension": ".py",
   "mimetype": "text/x-python",
   "name": "python",
   "nbconvert_exporter": "python",
   "pygments_lexer": "ipython3",
   "version": "3.10.10"
  }
 },
 "nbformat": 4,
 "nbformat_minor": 5
}
