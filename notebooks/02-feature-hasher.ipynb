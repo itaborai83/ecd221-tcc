{
 "cells": [
  {
   "cell_type": "markdown",
   "id": "1a446520",
   "metadata": {},
   "source": [
    "# HASHING DE FEATURES\n",
    "---\n",
    "O conjunto de dados é estritamente categórico possuindo alta cardinalidade, estando sujeito também a adição e remoção de novos perfis e atribuições a qualquer momento.\n",
    "\n",
    "Este trabalho objetiva construir um recomendador de perfis que:\n",
    "\n",
    "1 - Não requeira qualquer tipo de ajuste manual dos dados processados quando ocorrerem modificações no conjunto de perfis existente e de suas atribuições.\n",
    "\n",
    "2 - Consiga lidar com uma ordem de magnitude a mais dos perfis existentes (de milhares para milhões), pois isto possibilitaria realizar a recomendação de, além de perfis dos SAP, também de direitos controlados pelo IdentityIQ e grupos do Active Directory.\n",
    "\n",
    "Tomado em conjunto os requisitos acima, constatou-se que a técnica conhecida como feature hashing associada ao uso de shingling atende ao cenário proposto.\n"
   ]
  },
  {
   "cell_type": "code",
   "execution_count": 1,
   "id": "8caba265",
   "metadata": {},
   "outputs": [],
   "source": [
    "import numpy as np\n",
    "import os\n",
    "import duckdb\n",
    "import pandas as pd\n",
    "import hashlib\n",
    "import math\n",
    "import scipy.sparse\n",
    "import bpe\n",
    "from unidecode import unidecode\n",
    "from pprint import pprint"
   ]
  },
  {
   "cell_type": "markdown",
   "id": "5ebd739c",
   "metadata": {},
   "source": [
    "As variáveis de ambiente abaixo precisam ser configuradas antes da execução deste notebook. Vide o arquivo **setenv.ps1.example**"
   ]
  },
  {
   "cell_type": "code",
   "execution_count": 2,
   "id": "e0fcc650",
   "metadata": {},
   "outputs": [],
   "source": [
    "DATASET                     = os.environ['DATASET']\n",
    "HASHED_FEATURE_COUNT        = int(os.environ['HASHED_FEATURE_COUNT'])\n",
    "HASHED_FEATURES             = os.environ['HASHED_FEATURES']\n",
    "HASHED_FEATURES_IDX         = os.environ[\"HASHED_FEATURES_IDX\"]"
   ]
  },
  {
   "cell_type": "markdown",
   "id": "512d5917",
   "metadata": {},
   "source": [
    "Esta é uma lista de stop tokens que o processo extração de features de variáveis textuais irá ignorar. Ademais, somente serão considerados tokens com MIN_TOKEN_COUNT caracteres"
   ]
  },
  {
   "cell_type": "code",
   "execution_count": 3,
   "id": "907b71f7",
   "metadata": {},
   "outputs": [],
   "source": [
    "MIN_TOKEN_COUNT = 4\n",
    "STOP_TOKENS = set([\n",
    "    # remove tokens de controle do encoder\n",
    "    '__eow', '__sow', '__unk', '__pad'\n",
    "])\n",
    "\n",
    "def filter_tokens(tokens):\n",
    "    for token in tokens:\n",
    "        if len(token) < 4 or token in STOP_TOKENS:\n",
    "            continue\n",
    "        yield token"
   ]
  },
  {
   "cell_type": "markdown",
   "id": "3efecf03",
   "metadata": {},
   "source": [
    "Leitura do conjunto de dados contendo as informações da base integrada de RH e as atribuições de perfis"
   ]
  },
  {
   "cell_type": "code",
   "execution_count": 4,
   "id": "6235e899",
   "metadata": {},
   "outputs": [
    {
     "name": "stdout",
     "output_type": "stream",
     "text": [
      "<class 'pandas.core.frame.DataFrame'>\n",
      "RangeIndex: 91798 entries, 0 to 91797\n",
      "Data columns (total 22 columns):\n",
      " #   Column                   Non-Null Count  Dtype \n",
      "---  ------                   --------------  ----- \n",
      " 0   chave_usuario            91798 non-null  object\n",
      " 1   tipo_usuario             91798 non-null  object\n",
      " 2   centro_custo             39913 non-null  object\n",
      " 3   lotacao_topo             91798 non-null  object\n",
      " 4   sigla_lotacao            91798 non-null  object\n",
      " 5   nome_lotacao             91798 non-null  object\n",
      " 6   cargo                    91798 non-null  object\n",
      " 7   enfase                   91798 non-null  object\n",
      " 8   funcao                   91798 non-null  object\n",
      " 9   sindicato                39415 non-null  object\n",
      " 10  area_rh                  91264 non-null  object\n",
      " 11  imovel                   91264 non-null  object\n",
      " 12  local_negocio            91261 non-null  object\n",
      " 13  grupo_prestacao_servico  51118 non-null  object\n",
      " 14  regime_trabalho          76638 non-null  object\n",
      " 15  empresa_contrato         91160 non-null  object\n",
      " 16  tipo_localizacao         51218 non-null  object\n",
      " 17  status_cracha            51224 non-null  object\n",
      " 18  situacao_cracha          51224 non-null  object\n",
      " 19  objetos_contratos        91798 non-null  object\n",
      " 20  cursos                   91798 non-null  object\n",
      " 21  roles                    91798 non-null  object\n",
      "dtypes: object(22)\n",
      "memory usage: 15.4+ MB\n"
     ]
    }
   ],
   "source": [
    "dataset_df = pd.read_parquet(DATASET)\n",
    "dataset_df.info(verbose=True, show_counts=True)"
   ]
  },
  {
   "cell_type": "code",
   "execution_count": 5,
   "id": "6ff3b213",
   "metadata": {},
   "outputs": [],
   "source": [
    "def clean_text(s):\n",
    "    return unidecode(s).lower()\n",
    "\n",
    "def iternestedvalues(dataset_df, property_name):\n",
    "    for objs in dataset_df[property_name]:\n",
    "        for obj in objs:\n",
    "            yield obj"
   ]
  },
  {
   "cell_type": "code",
   "execution_count": 6,
   "id": "a3312353",
   "metadata": {},
   "outputs": [
    {
     "data": {
      "text/plain": [
       "['tic', '/', 'corp', '/', 'rjti', '/', 'pn', '-', 'ci']"
      ]
     },
     "execution_count": 6,
     "metadata": {},
     "output_type": "execute_result"
    }
   ],
   "source": [
    "siglas        = dataset_df['sigla_lotacao'].tolist()\n",
    "siglas_set    = set(siglas)\n",
    "sigla_encoder = bpe.Encoder()\n",
    "sigla_encoder.fit(siglas)\n",
    "list(sigla_encoder.tokenize('TIC/CORP/RJTI/PN-CI'))"
   ]
  },
  {
   "cell_type": "code",
   "execution_count": 7,
   "id": "eaf466a7",
   "metadata": {},
   "outputs": [
    {
     "data": {
      "text/plain": [
       "['gestao', 'da', 'disponibilidade', 'de', 'recursos', 'e', 'servicos']"
      ]
     },
     "execution_count": 7,
     "metadata": {},
     "output_type": "execute_result"
    }
   ],
   "source": [
    "nomes_lotacao         = dataset_df['nome_lotacao'].tolist()\n",
    "nome_lotacao_encoder = bpe.Encoder()\n",
    "nome_lotacao_encoder.fit(nomes_lotacao)\n",
    "list(nome_lotacao_encoder.tokenize('GESTAO DA DISPONIBILIDADE DE RECURSOS E SERVICOS'))"
   ]
  },
  {
   "cell_type": "code",
   "execution_count": 8,
   "id": "d872bd9b",
   "metadata": {},
   "outputs": [
    {
     "data": {
      "text/plain": [
       "['assistente', 'tecnico', 'executivo', 'diretoria']"
      ]
     },
     "execution_count": 8,
     "metadata": {},
     "output_type": "execute_result"
    }
   ],
   "source": [
    "cargos = dataset_df['cargo'].tolist()\n",
    "cargo_encoder = bpe.Encoder()\n",
    "cargo_encoder.fit(cargos)\n",
    "list(cargo_encoder.tokenize('ASSISTENTE TECNICO EXECUTIVO DIRETORIA'))"
   ]
  },
  {
   "cell_type": "code",
   "execution_count": 9,
   "id": "7a11c9a0",
   "metadata": {},
   "outputs": [
    {
     "data": {
      "text/plain": [
       "['pcr', 'nt', 'suprimento', 'de', 'bens', 'e', 'servicos', 'mecanica']"
      ]
     },
     "execution_count": 9,
     "metadata": {},
     "output_type": "execute_result"
    }
   ],
   "source": [
    "enfases = dataset_df['enfase'].tolist()\n",
    "enfase_encoder = bpe.Encoder()\n",
    "enfase_encoder.fit(enfases)\n",
    "list(enfase_encoder.tokenize('PCR NT SUPRIMENTO DE BENS E SERVICOS MECANICA'))"
   ]
  },
  {
   "cell_type": "code",
   "execution_count": 10,
   "id": "79c9bcf4",
   "metadata": {},
   "outputs": [
    {
     "data": {
      "text/plain": [
       "['coordenador', '(', 'a', ')', 'de', 'turno']"
      ]
     },
     "execution_count": 10,
     "metadata": {},
     "output_type": "execute_result"
    }
   ],
   "source": [
    "funcoes = dataset_df['funcao'].tolist()\n",
    "funcao_encoder = bpe.Encoder()\n",
    "funcao_encoder.fit(funcoes)\n",
    "list(funcao_encoder.tokenize('COORDENADOR(A) DE TURNO'))"
   ]
  },
  {
   "cell_type": "code",
   "execution_count": 11,
   "id": "b1b2aed3",
   "metadata": {},
   "outputs": [
    {
     "data": {
      "text/plain": [
       "['mkm', 'rio', 'prestacao', 'de', 'servicos', 'ltda', 'me']"
      ]
     },
     "execution_count": 11,
     "metadata": {},
     "output_type": "execute_result"
    }
   ],
   "source": [
    "empresas_contrato = dataset_df['empresa_contrato'].fillna('n/a').tolist()\n",
    "empresa_contrato_encoder = bpe.Encoder()\n",
    "empresa_contrato_encoder.fit(empresas_contrato)\n",
    "list(empresa_contrato_encoder.tokenize('MKM RIO PRESTACAO DE SERVICOS LTDA ME'))"
   ]
  },
  {
   "cell_type": "code",
   "execution_count": 12,
   "id": "bca49413",
   "metadata": {},
   "outputs": [
    {
     "data": {
      "text/plain": [
       "['licenciamento',\n",
       " 'de',\n",
       " 'uso',\n",
       " ',',\n",
       " 'manutenção',\n",
       " 'e',\n",
       " 'suporte',\n",
       " 'técnico',\n",
       " 'dos',\n",
       " 'softwares',\n",
       " 'e',\n",
       " '-',\n",
       " '__sow',\n",
       " 'tr',\n",
       " 'ac',\n",
       " '__eow',\n",
       " 'e',\n",
       " '__sow',\n",
       " 'se',\n",
       " 'cu',\n",
       " 'rs',\n",
       " 'ea',\n",
       " 'rc',\n",
       " 'h',\n",
       " '__eow']"
      ]
     },
     "execution_count": 12,
     "metadata": {},
     "output_type": "execute_result"
    }
   ],
   "source": [
    "objetos         = list(iternestedvalues(dataset_df, 'objetos_contratos'))\n",
    "objetos_set     = set(objetos)\n",
    "objetos_encoder = bpe.Encoder()\n",
    "objetos_encoder.fit(objetos)\n",
    "list(objetos_encoder.tokenize('LICENCIAMENTO DE USO, MANUTENÇÃO E SUPORTE TÉCNICO DOS SOFTWARES E-TRAC E SECURSEARCH'))"
   ]
  },
  {
   "cell_type": "code",
   "execution_count": 13,
   "id": "36d58b38",
   "metadata": {},
   "outputs": [
    {
     "data": {
      "text/plain": [
       "[\"'\",\n",
       " 'tm',\n",
       " '-',\n",
       " 'listas',\n",
       " 'de',\n",
       " 'objetos',\n",
       " 'de',\n",
       " 'transporte',\n",
       " '[',\n",
       " 'saptmstmp15',\n",
       " ']']"
      ]
     },
     "execution_count": 13,
     "metadata": {},
     "output_type": "execute_result"
    }
   ],
   "source": [
    "cursos         = list(iternestedvalues(dataset_df, 'cursos'))\n",
    "cursos_set     = set(cursos)\n",
    "cursos_encoder = bpe.Encoder()\n",
    "cursos_encoder.fit(cursos)\n",
    "list(cursos_encoder.tokenize(\"'TM - LISTAS DE OBJETOS DE TRANSPORTE [SAPTMSTMP15]\"))"
   ]
  },
  {
   "cell_type": "code",
   "execution_count": 14,
   "id": "8b641b43",
   "metadata": {},
   "outputs": [
    {
     "data": {
      "text/plain": [
       "['z',\n",
       " ':',\n",
       " '__sow',\n",
       " 'fi',\n",
       " '_a',\n",
       " 'a_',\n",
       " 'pb',\n",
       " '00',\n",
       " '1_',\n",
       " 'ex',\n",
       " 'e_',\n",
       " 'co',\n",
       " 'n_',\n",
       " 're',\n",
       " 'l_',\n",
       " 'im',\n",
       " 'ob',\n",
       " '__eow']"
      ]
     },
     "execution_count": 14,
     "metadata": {},
     "output_type": "execute_result"
    }
   ],
   "source": [
    "roles         = list(iternestedvalues(dataset_df, 'roles'))\n",
    "roles_set     = set(roles)\n",
    "roles_encoder = bpe.Encoder()\n",
    "roles_encoder.fit(roles)\n",
    "list(roles_encoder.tokenize(\"Z:FI_AA_PB001_EXE_CON_REL_IMOB\"))"
   ]
  },
  {
   "cell_type": "markdown",
   "id": "796e6a19",
   "metadata": {},
   "source": [
    "Abaixo, segue as configurações de que campos serão processados usando a técnica de *shingling*.\n",
    "\n",
    "Constatamos que um mecanismo de pesos para os diferentes atributos pode eventualmente ser útil para realização do ajuste fino do classificador, mas dado a natureza exploratória desse trabalho, este mecanismo não foi utilizado."
   ]
  },
  {
   "cell_type": "code",
   "execution_count": 15,
   "id": "ac7979ed",
   "metadata": {},
   "outputs": [],
   "source": [
    "EXCLUDED_FEATURES           = set(['chave_usuario',])\n",
    "DEFAULT_FEATURE_WEIGHT      = 1\n",
    "FEATURE_WEIGHTS             = {'sigla_lotacao' : 3, 'cursos': 0.125, 'objetos_contratos': 0.25}\n",
    "TOKENIZERS                  = {\n",
    "    'sigla_lotacao'         : sigla_encoder\n",
    ",   'nome_lotacao'          : nome_lotacao_encoder\n",
    ",   'objetos_contratos'     : objetos_encoder\n",
    ",   'cursos'                : cursos_encoder\n",
    ",   'roles'                 : roles_encoder\n",
    ",   'nome_lotacao'          : nome_lotacao_encoder \n",
    ",   'cargo'                 : cargo_encoder\n",
    ",   'enfase'                : enfase_encoder\n",
    ",   'funcao'                : funcao_encoder\n",
    ",   'empresa_contrato'      : empresa_contrato_encoder\n",
    "}"
   ]
  },
  {
   "cell_type": "code",
   "execution_count": 16,
   "id": "a9e6b60d",
   "metadata": {},
   "outputs": [
    {
     "name": "stdout",
     "output_type": "stream",
     "text": [
      "['analista', 'de', 'sistemas', 'senior']\n",
      "['analista', 'de', 'sistemas', 'pleno']\n",
      "['inspetor', '(', 'a', ')', 'de', 'seguranca', 'interna', 'pleno']\n"
     ]
    }
   ],
   "source": [
    "print(cargo_encoder.tokenize(\"ANALISTA DE SISTEMAS SENIOR\"))\n",
    "print(cargo_encoder.tokenize(\"ANALISTA DE SISTEMAS PLENO\"))\n",
    "print(cargo_encoder.tokenize(\"INSPETOR(A) DE SEGURANCA INTERNA PLENO\"))"
   ]
  },
  {
   "cell_type": "code",
   "execution_count": 17,
   "id": "c33def3a",
   "metadata": {},
   "outputs": [],
   "source": [
    "def hash_string(s):\n",
    "    buf        = str(s).encode()\n",
    "    sha1       = hashlib.sha1(buf)\n",
    "    md5        = hashlib.md5(buf)\n",
    "    hash_value = int(sha1.hexdigest(), base=16)\n",
    "    sign_value = int(md5.hexdigest(), base=16)\n",
    "    sign       = -1 if abs(sign_value % 2) == 1 else 1 \n",
    "    result     = sign * hash_value \n",
    "    return result"
   ]
  },
  {
   "cell_type": "markdown",
   "id": "9c6a58f1",
   "metadata": {},
   "source": [
    "Abaixo, calculamos o hash de um feature categórico. O feature é codificado como **\"&lt;nome do feature&gt;::&lt;valor do feature&gt;\"**"
   ]
  },
  {
   "cell_type": "code",
   "execution_count": 18,
   "id": "55c3563c",
   "metadata": {},
   "outputs": [
    {
     "name": "stdout",
     "output_type": "stream",
     "text": [
      "\n",
      "valor                  : sigla_lotacao::TIC/CORP/DSCESI/DS-PDDS\n",
      "hash_lotacao           : 580521354414209253383885614425930233875981244812\n",
      "abs(hash_lotacao) % 64 : 12\n",
      "\n"
     ]
    }
   ],
   "source": [
    "n = 64\n",
    "valor_original = \"sigla_lotacao::TIC/CORP/DSCESI/DS-PDDS\"\n",
    "hash_lotacao = hash_string(valor_original)\n",
    "hash_original_mod_n = abs(hash_lotacao) % n \n",
    "print(f\"\"\"\n",
    "valor                  : {valor_original}\n",
    "hash_lotacao           : {hash_lotacao}\n",
    "abs(hash_lotacao) % {n} : {hash_original_mod_n}\n",
    "\"\"\")"
   ]
  },
  {
   "cell_type": "markdown",
   "id": "ea80005b",
   "metadata": {},
   "source": [
    "Abaixo, calculamos uma alteração em um feature que provoque uma colisão com o primeiro hash, mas não do segundo "
   ]
  },
  {
   "cell_type": "code",
   "execution_count": 19,
   "id": "acf98b97",
   "metadata": {},
   "outputs": [
    {
     "name": "stdout",
     "output_type": "stream",
     "text": [
      "\n",
      "valor                  : tipo_usuario::PRESTADOR DE SERVIÇOafk\n",
      "hash_colisao           : -152937679684757113643692380177006773294535406668\n",
      "abs(hash_colisao) % 64 : 12\n",
      "\n"
     ]
    }
   ],
   "source": [
    "valor_inicial = \"tipo_usuario::PRESTADOR DE SERVIÇO\"\n",
    "hash_colisao = None\n",
    "chs = \"abcdefghijklmnopqrstuvwxyzABCDEFGHIJKLMNOPQRSTUVWXYZ!?.,\"\n",
    "for ch1 in chs:\n",
    "    if hash_colisao is not None:\n",
    "        break\n",
    "    for ch2 in chs:\n",
    "        if hash_colisao is not None:\n",
    "            break\n",
    "        for ch3 in chs:\n",
    "            valor_final = valor_inicial + ch1 + ch2 + ch3\n",
    "            hash = hash_string(valor_final)\n",
    "            if hash < 0 and abs(hash) % n == hash_original_mod_n:\n",
    "                hash_colisao = hash\n",
    "                break\n",
    "print(f\"\"\"\n",
    "valor                  : {valor_final}\n",
    "hash_colisao           : {hash_colisao}\n",
    "abs(hash_colisao) % {n} : {abs(hash_colisao) % n}\n",
    "\"\"\")"
   ]
  },
  {
   "cell_type": "markdown",
   "id": "0084db0a",
   "metadata": {},
   "source": [
    "Neste cenário fictício, ambas as features seriam mapeadas para a posição 12 de um vetor de tamanho 16 (tamanho arbitrariamente reduzido para provocar colisão neste cenário artificial).\n",
    "\n",
    "Neste caso, o efeito da colisão é mitigado pela diferença de sinais. Vide detalhes na parte teórica do trabalho.\n",
    "\n",
    "Segue abaixo as funções utilizado para realizar o feature hashing com e sem *shingling*"
   ]
  },
  {
   "cell_type": "code",
   "execution_count": 20,
   "id": "961a0706",
   "metadata": {},
   "outputs": [],
   "source": [
    "def hash_feature(name, value, p=DEFAULT_FEATURE_WEIGHT):\n",
    "    if value is None or value == \"\" or value == 0:\n",
    "        return []\n",
    "    feature = f\"{name}::{value}\"\n",
    "    return feature, hash_string(feature), p"
   ]
  },
  {
   "cell_type": "code",
   "execution_count": 21,
   "id": "968874cf",
   "metadata": {},
   "outputs": [
    {
     "name": "stdout",
     "output_type": "stream",
     "text": [
      "\n",
      "feature : sigla_lotacao::TIC/CORP/DSCESI/DS-PDDS\n",
      "hashes  : 580521354414209253383885614425930233875981244812\n",
      "p       : 1\n",
      "\n"
     ]
    }
   ],
   "source": [
    "feature, hashes, p = hash_feature(\"sigla_lotacao\", \"TIC/CORP/DSCESI/DS-PDDS\")\n",
    "print(f\"\"\"\n",
    "feature : {feature}\n",
    "hashes  : {hashes}\n",
    "p       : {p}\n",
    "\"\"\")"
   ]
  },
  {
   "cell_type": "code",
   "execution_count": 22,
   "id": "77064990",
   "metadata": {},
   "outputs": [
    {
     "name": "stdout",
     "output_type": "stream",
     "text": [
      "\n",
      "feature : tipo_usuario::PRESTADOR DE SERVIÇOafk\n",
      "hashes  : -152937679684757113643692380177006773294535406668\n",
      "p       : 1\n",
      "\n"
     ]
    }
   ],
   "source": [
    "feature, hashes, p = hash_feature(\"tipo_usuario\", \"PRESTADOR DE SERVIÇOafk\")\n",
    "print(f\"\"\"\n",
    "feature : {feature}\n",
    "hashes  : {hashes}\n",
    "p       : {p}\n",
    "\"\"\")"
   ]
  },
  {
   "cell_type": "code",
   "execution_count": 23,
   "id": "e56818b1",
   "metadata": {},
   "outputs": [],
   "source": [
    "def hash_tokens(tokenizer, name, value, p):\n",
    "    if value is None or value == \"\" or value == 0:\n",
    "        return []\n",
    "    tokens    = list(filter_tokens(tokenizer.tokenize(value)))\n",
    "    hashes    = []\n",
    "    features  = []\n",
    "    for token in tokens:\n",
    "        if len(token) < 4 or token in STOP_TOKENS:\n",
    "            continue\n",
    "        feature = f\"{name}::{token}\"\n",
    "        h = hash_string(feature)\n",
    "        features.append(feature)\n",
    "        hashes.append(h)\n",
    "    \n",
    "    token_count = len(tokens)\n",
    "    if token_count == 0:\n",
    "        return []\n",
    "    total_tokens_size = sum([len(token) for token in tokens])\n",
    "    ps = [ len(token) / total_tokens_size for token in tokens ]    \n",
    "    return list(zip(features, hashes, ps))"
   ]
  },
  {
   "cell_type": "code",
   "execution_count": 24,
   "id": "283f775c",
   "metadata": {},
   "outputs": [
    {
     "data": {
      "text/plain": [
       "[('sigla_lotacao::corp',\n",
       "  1195458149619987768667806989226000270421411538951,\n",
       "  0.2857142857142857),\n",
       " ('sigla_lotacao::dscesi',\n",
       "  425021426705904005561851342121354676834907806866,\n",
       "  0.42857142857142855),\n",
       " ('sigla_lotacao::pdds',\n",
       "  133469625148378281707186843726286609828382815863,\n",
       "  0.2857142857142857)]"
      ]
     },
     "execution_count": 24,
     "metadata": {},
     "output_type": "execute_result"
    }
   ],
   "source": [
    "list(hash_tokens(sigla_encoder, 'sigla_lotacao', \"TIC/CORP/DSCESI/DS-PDDS\", 3))"
   ]
  },
  {
   "cell_type": "markdown",
   "id": "ecfe151c",
   "metadata": {},
   "source": [
    "A função abaixo é a funçaõ que recebe um dicionário contendo os dados dos usuários assim como uma lista de roles (como um atributo multi-valorado) e retorna uma lista de tuplas no formato (nome da feature, hash da feature, peso da feature) utilizado para preenchimento da matriz numérica que será utilizada para cômputo posterior do KNN"
   ]
  },
  {
   "cell_type": "code",
   "execution_count": 25,
   "id": "a4b438a7",
   "metadata": {},
   "outputs": [],
   "source": [
    "def hash_row(row):\n",
    "    result = []\n",
    "    for key, values in row.items():\n",
    "        if key in EXCLUDED_FEATURES:\n",
    "            continue\n",
    "        p = FEATURE_WEIGHTS.get(key, DEFAULT_FEATURE_WEIGHT)\n",
    "        tokenizer = TOKENIZERS.get(key)\n",
    "        if not isinstance(values, (list, np.ndarray)):\n",
    "            values = [values]\n",
    "        \n",
    "        for value in values:\n",
    "            # handle token features\n",
    "            if tokenizer:\n",
    "                feature_hashes_p = hash_tokens(tokenizer, key, value, p)\n",
    "                result.extend(feature_hashes_p)\n",
    "                feature_hash_p = hash_feature(value, p)\n",
    "                result.append(feature_hash_p)\n",
    "            # handle non token features\n",
    "            feature_hash_p = hash_feature(key, value)\n",
    "            if feature_hash_p:\n",
    "                result.append(feature_hash_p)\n",
    "    return result"
   ]
  },
  {
   "cell_type": "markdown",
   "id": "fdba0dd3",
   "metadata": {},
   "source": [
    "Segue abaixo a saída do *featurer hahser* & *shingler*. O número de features resultantes para este usuário é de 33.\n",
    "\n",
    "Este número varia de usuário para usuário e é importante que seja utilizado uma representação esparsa da matriz de dados a serem processados."
   ]
  },
  {
   "cell_type": "code",
   "execution_count": 26,
   "id": "28a10a72",
   "metadata": {},
   "outputs": [
    {
     "name": "stdout",
     "output_type": "stream",
     "text": [
      "Chave do usuário processado: U4UL\n",
      "[('tipo_usuario::EMPREGADO', -1143454999077322132947551267231288994892033570655, 1),\n",
      " ('centro_custo::ST75AT1B00', -1133144768198451777642148719479341277461087595357, 1),\n",
      " ('lotacao_topo::TIC', 883719330180455605187708388056895414972581655255, 1),\n",
      " ('sigla_lotacao::corp', 1195458149619987768667806989226000270421411538951, 0.2857142857142857),\n",
      " ('sigla_lotacao::dscesi', 425021426705904005561851342121354676834907806866, 0.42857142857142855),\n",
      " ('sigla_lotacao::pdds', 133469625148378281707186843726286609828382815863, 0.2857142857142857),\n",
      " ('TIC/CORP/DSCESI/DS-PDDS::3', 1133575202906053290731170417700924316681270882046, 1),\n",
      " ('sigla_lotacao::TIC/CORP/DSCESI/DS-PDDS', 580521354414209253383885614425930233875981244812, 1),\n",
      " ('nome_lotacao::desenvolvimento', -1278184407418124290890518553362925331031159140932, 0.22388059701492538),\n",
      " ('nome_lotacao::sustentacao', 200760901399190560466531582212897972524479874849, 0.16417910447761194),\n",
      " ('nome_lotacao::para', -855436841235004665383966913585725481452074092662, 0.05970149253731343),\n",
      " ('nome_lotacao::areas', 838343049801279444000628931447961017930861322965, 0.07462686567164178),\n",
      " ('nome_lotacao::presidencia', 1055188017844691485776823545612281210587637625597, 0.16417910447761194),\n",
      " ('nome_lotacao::desempenho', 715218263775576489978705809630173674805490102515, 0.14925373134328357),\n",
      " ('nome_lotacao::suprimentos', 608091845426839622791608398772816660379143995584, 0.16417910447761194),\n",
      " ('DESENVOLVIMENTO E SUSTENTACAO PARA AREAS DA PRESIDENCIA, DGC, DESEMPENHO E SUPRIMENTOS::1', -1047810380251511783493251525318363155037765907736, 1),\n",
      " ('nome_lotacao::DESENVOLVIMENTO E SUSTENTACAO PARA AREAS DA PRESIDENCIA, DGC, DESEMPENHO E SUPRIMENTOS', -378118631766635756717178793471758309466816006599, 1),\n",
      " ('cargo::prof', 639036558722912032068336377965533954829162173410, 0.125),\n",
      " ('cargo::petrobras', -1309157571856157665244544158521516333286105224600, 0.28125),\n",
      " ('cargo::nivel', 18126840512913042059864361143763707646456079896, 0.15625),\n",
      " ('cargo::superior', 457135599388580628763205010082295185734756994764, 0.25),\n",
      " ('cargo::senior', 754049671202349977846679625271300316809475952267, 0.1875),\n",
      " ('PROF. PETROBRAS DE NIVEL SUPERIOR SENIOR::1', -292245451515166523451683249366456107576858044427, 1),\n",
      " ('cargo::PROF. PETROBRAS DE NIVEL SUPERIOR SENIOR', 1249871142505440875276667808539795923336599226402, 1),\n",
      " ('enfase::analise', 1259843113844765894377478275256265946375967452964, 0.30434782608695654),\n",
      " ('enfase::sistemas', -1195940888632001710322213542201888179652786414560, 0.34782608695652173),\n",
      " ('enfase::software', -911345749872273637609878901963105912035085310446, 0.34782608695652173),\n",
      " ('PCR NS ANALISE DE SISTEMAS ENG SOFTWARE::1', 1048689309082259595892458076798766266143283982829, 1),\n",
      " ('enfase::PCR NS ANALISE DE SISTEMAS ENG SOFTWARE', 1318023573396303889862721058187149964822964827650, 1),\n",
      " ('n/a::1', -1243581065549964018495490125320643268326762949589, 1),\n",
      " ('funcao::n/a', -113497363075550702426643551364997006182542412518, 1),\n",
      " ('sindicato::SINDIPETRO/RJ', -719010716884604073925897807742100797624301267196, 1),\n",
      " ('area_rh::RIO DE JANEIRO', -1037136565844150377169243614312942668173564652491, 1),\n",
      " ('imovel::EDIHB', 637437066404560481458200205096349963686937672192, 1),\n",
      " ('local_negocio::PETROBRAS EDIHB', 839011932361261941135628806500536163316424094019, 1),\n",
      " ('regime_trabalho::ADMINISTRATIVO', 804816837966151626313586631297663831059215456518, 1),\n",
      " ('empresa_contrato::petrobras', 276182653426605066488652305346990373650781588752, 1.0),\n",
      " ('PETROBRAS::1', 692824194783259533133986827055979024957715631053, 1),\n",
      " ('empresa_contrato::PETROBRAS', -897039237043338429309987918304245913554585210576, 1),\n",
      " ('objetos_contratos::serviços', -1234745389844524620944261860584224100257472638949, 0.32),\n",
      " ('objetos_contratos::qualidade', -905669612651332637935174638994319349010229460069, 0.36),\n",
      " ('objetos_contratos::software', 1453572788459237593296839874926258194858359387815, 0.32),\n",
      " ('SERVIÇOS DE QUALIDADE DE SOFTWARE::0.25', 687817940363961337163401402517328911971110535160, 1),\n",
      " ('objetos_contratos::SERVIÇOS DE QUALIDADE DE SOFTWARE', -411290322380217049256110253214300845257601573976, 1),\n",
      " ('objetos_contratos::serviços', -1234745389844524620944261860584224100257472638949, 0.13114754098360656),\n",
      " ('objetos_contratos::suporte', 1429696878189946767073850486508900849845971905959, 0.11475409836065574),\n",
      " ('objetos_contratos::processo', 823304447106420656414338367155036307771153323282, 0.13114754098360656),\n",
      " ('objetos_contratos::desenvolvimento', -32741037358293390041857130090796674332592747786, 0.2459016393442623),\n",
      " ('objetos_contratos::sustentação', 470651228718180594175989359697544669171395010871, 0.18032786885245902),\n",
      " ('objetos_contratos::soluções', -1359427425611538027943140714078382056081578319010, 0.13114754098360656),\n",
      " ('objetos_contratos::lote', 645463476376015898084069654913945215947951877396, 0.06557377049180328),\n",
      " ('SERVIÇOS DE SUPORTE AO PROCESSO DE DESENVOLVIMENTO E SUSTENTAÇÃO DE SOLUÇÕES DE TIC - LOTE 02::0.25', -1415555252686930074806017338101941543980446716041, 1),\n",
      " ('objetos_contratos::SERVIÇOS DE SUPORTE AO PROCESSO DE DESENVOLVIMENTO E SUSTENTAÇÃO DE SOLUÇÕES DE TIC - LOTE 02', -1431235752457668155184946074680377704613391938346, 1),\n",
      " ('cursos::visualização', 1240170333311615010354061290403818834839105772076, 0.42857142857142855),\n",
      " ('cursos::dados', -1367913281633068212744648540981938800189659610146, 0.17857142857142858),\n",
      " ('cursos::foco', 759551170613035531347172930505914459514735966509, 0.14285714285714285),\n",
      " ('cursos::pessoas', -1296693715181058694320511017594616628578760478802, 0.25),\n",
      " ('VISUALIZAÇÃO DE DADOS COM FOCO NAS PESSOAS::0.125', -148932877005926349240968013662937672615339567661, 1),\n",
      " ('cursos::VISUALIZAÇÃO DE DADOS COM FOCO NAS PESSOAS', -261787336482016173868260235842990065951676605075, 1),\n",
      " ('cursos::power', 1112388184902971008998894545334761286263040559980, 0.19230769230769232),\n",
      " ('cursos::consumindo', 939445726905760676178259357613958801212429095459, 0.38461538461538464),\n",
      " ('cursos::informações', -1179743796057965330803473588395848483190838990327, 0.4230769230769231),\n",
      " ('POWER BI - CONSUMINDO INFORMAÇÕES::0.125', -951719874291365297211165960243410412732367088600, 1),\n",
      " ('cursos::POWER BI - CONSUMINDO INFORMAÇÕES', -509089400392553157678359237718545476973775737787, 1),\n",
      " ('cursos::alura', -1182125047123891467602876163146339425631891417453, 0.38461538461538464),\n",
      " ('cursos::corp', -1407279949365888442177278366344638652188113845011, 0.3076923076923077),\n",
      " ('cursos::plus', -69334113397028399789106176635154119933221003891, 0.3076923076923077),\n",
      " ('ALURA CORP PLUS::0.125', 604833333055081170996679619462113614541764602520, 1),\n",
      " ('cursos::ALURA CORP PLUS', 682650876146401971858072360944165252249031424428, 1),\n",
      " ('cursos::mitigação', -1078709774297455251076248573564646225518661487796, 0.3333333333333333),\n",
      " ('cursos::mudança', 1202851040962004579061556799245395835959127184536, 0.25925925925925924),\n",
      " ('cursos::clima', -1133097256378761424816470116098836070246161919331, 0.18518518518518517),\n",
      " ('cursos::módulo', 1174156505898888795952275305670313738287222551175, 0.2222222222222222),\n",
      " ('EAD DE MITIGAÇÃO DA MUDANÇA DO CLIMA \\x13 MÓDULO 2::0.125', 125619504382600515400799337836875952336359320378, 1),\n",
      " ('cursos::EAD DE MITIGAÇÃO DA MUDANÇA DO CLIMA \\x13 MÓDULO 2', 213018495445657317978346805852485693843296982887, 1),\n",
      " ('cursos::analytics', 590647274588780006238210247239890191396823263684, 0.5),\n",
      " ('cursos::gerencial', -627264639245738454203420114173393805970226921321, 0.5),\n",
      " ('EAD ANALYTICS GERENCIAL::0.125', 377973750604910394370207241036671333133814083408, 1),\n",
      " ('cursos::EAD ANALYTICS GERENCIAL', -436938035699559641095368698543693181372433050632, 1),\n",
      " ('cursos::proteção', 261368053343956061291810585944865298405387227263, 0.18181818181818182),\n",
      " ('cursos::dados', -1367913281633068212744648540981938800189659610146, 0.11363636363636363),\n",
      " ('cursos::pessoais', 918010679008914157964480965664193326882253063613, 0.18181818181818182),\n",
      " ('cursos::conceitos', 672193315639688239575862772357760080268524359284, 0.20454545454545456),\n",
      " ('cursos::impactos', 597265535072373312271721678729415945735466291007, 0.18181818181818182),\n",
      " ('cursos::riscos', 720241060058360424585529805101824125475072048835, 0.13636363636363635),\n",
      " ('PROTEÇÃO DE DADOS PESSOAIS: CONCEITOS, IMPACTOS E RISCOS::0.125', 618710964503514245418546455550684509268374229180, 1),\n",
      " ('cursos::PROTEÇÃO DE DADOS PESSOAIS: CONCEITOS, IMPACTOS E RISCOS', -232205755907634678988086538974521316905426485529, 1),\n",
      " ('cursos::especialização', -980719359185890389638041036312182197512383310076, 0.7),\n",
      " ('cursos::brasil', 850558808060082335880788658054050981332415990131, 0.3),\n",
      " ('ESPECIALIZAÇÃO NO BRASIL::0.125', 287247727548954979810267286385044189607978614052, 1),\n",
      " ('cursos::ESPECIALIZAÇÃO NO BRASIL', -1261406619360051780556181135246166984732737401346, 1),\n",
      " ('cursos::classificação', -496901112879065245732119476018837978481844474027, 0.4482758620689655),\n",
      " ('cursos::informação', -1001190370562054781194407289047775051756434665859, 0.3448275862068966),\n",
      " ('cursos::módulo', 1174156505898888795952275305670313738287222551175, 0.20689655172413793),\n",
      " ('EAD CLASSIFICAÇÃO DA INFORMAÇÃO - MÓDULO 2::0.125', -1244364875342831560060561578612143216890197896061, 1),\n",
      " ('cursos::EAD CLASSIFICAÇÃO DA INFORMAÇÃO - MÓDULO 2', 1367936214056075638247434226546584427303754044683, 1),\n",
      " ('cursos::lgpd', 863594928053656534358157430302542978992621352416, 0.36363636363636365),\n",
      " ('cursos::prática', 1106901941311869318741477906362453656151795220976, 0.6363636363636364),\n",
      " ('LGPD NA PRÁTICA::0.125', -1248903360301919067955850778242062774223228646754, 1),\n",
      " ('cursos::LGPD NA PRÁTICA', 670356590539802312620233986192378631377216260603, 1),\n",
      " ('cursos::código', -184961815050780249752014566460379285995289909825, 0.3333333333333333),\n",
      " ('cursos::conduta', -726812781640111560787048257694709348683752826745, 0.3888888888888889),\n",
      " ('cursos::ética', -1029224125711097968813265819005238587835852162129, 0.2777777777777778),\n",
      " ('CÓDIGO DE CONDUTA ÉTICA::0.125', 387275415328410180074271421671885015205272738773, 1),\n",
      " ('cursos::CÓDIGO DE CONDUTA ÉTICA', 222037599689693742594328807976786611986815467069, 1),\n",
      " ('cursos::storytelling', -844224068099213998153739339683788461809889345725, 0.7058823529411765),\n",
      " ('cursos::dados', -1367913281633068212744648540981938800189659610146, 0.29411764705882354),\n",
      " ('EAD STORYTELLING COM DADOS::0.125', 1448557820167321803613063205942707535296160783752, 1),\n",
      " ('cursos::EAD STORYTELLING COM DADOS', 774212430657851001941915281321774390666508601707, 1),\n",
      " ('cursos::alfabetização', -849794572693814380195510647822044214801102598420, 0.52),\n",
      " ('cursos::cultura', 535996711133811112433449322656259056004745349265, 0.28),\n",
      " ('cursos::dados', -1367913281633068212744648540981938800189659610146, 0.2),\n",
      " ('ALFABETIZAÇÃO - CULTURA DE DADOS::0.125', -1455567340861368547218811561147218021768649176202, 1),\n",
      " ('cursos::ALFABETIZAÇÃO - CULTURA DE DADOS', 290994229766174713653749582103449817476316635630, 1),\n",
      " ('cursos::serviço', -751449517912447331299388121187028845790612506831, 0.3888888888888889),\n",
      " ('cursos::power', 1112388184902971008998894545334761286263040559980, 0.2777777777777778),\n",
      " ('cursos::módulo', 1174156505898888795952275305670313738287222551175, 0.3333333333333333),\n",
      " ('EAD SERVIÇO POWER BI \\x13 MÓDULO 3::0.125', 541766927209566823214856175076778981267490245254, 1),\n",
      " ('cursos::EAD SERVIÇO POWER BI \\x13 MÓDULO 3', 659114654346517318297755133149600482117576353751, 1),\n",
      " ('cursos::desafio', -663172096949125941121687556695754513549654147708, 0.21875),\n",
      " ('cursos::prático', -1110630187573478582274574738651745338496952047446, 0.21875),\n",
      " ('cursos::para', 1319156178715842332749543348326989560906766185481, 0.125),\n",
      " ('cursos::analistas', 1236098843571526675002862903465454526467508003688, 0.28125),\n",
      " ('cursos::dados', -1367913281633068212744648540981938800189659610146, 0.15625),\n",
      " ('DESAFIO PRÁTICO PARA ANALISTAS DE DADOS::0.125', 29798500295079378047793188500436227075892729734, 1),\n",
      " ('cursos::DESAFIO PRÁTICO PARA ANALISTAS DE DADOS', 1116136542322485743929910805613206974717839457539, 1),\n",
      " ('cursos::serviço', -751449517912447331299388121187028845790612506831, 0.3888888888888889),\n",
      " ('cursos::power', 1112388184902971008998894545334761286263040559980, 0.2777777777777778),\n",
      " ('cursos::módulo', 1174156505898888795952275305670313738287222551175, 0.3333333333333333),\n",
      " ('EAD SERVIÇO POWER BI \\x13 MÓDULO 1::0.125', -1383394771969593584929401366889359698277322041187, 1),\n",
      " ('cursos::EAD SERVIÇO POWER BI \\x13 MÓDULO 1', -220953724938209748388712496712942711519211257343, 1),\n",
      " ('cursos::cuidado', 720745472130934099933688186023645440126891804530, 0.6363636363636364),\n",
      " ('cursos::mãos', -941906974888277722465734585356878853170463676931, 0.36363636363636365),\n",
      " ('CUIDADO COM AS MÃOS::0.125', 1229582411601943594096075412253092120577995081084, 1),\n",
      " ('cursos::CUIDADO COM AS MÃOS', -1446508000974390275016440479782062282108466126642, 1),\n",
      " ('cursos::fatores', -1047946604710878192344015868370590853284885725221, 0.5833333333333334),\n",
      " ('cursos::risco', -1457714034208199975068232380769525698895812208355, 0.4166666666666667),\n",
      " ('FATORES DE RISCO::0.125', -1349488889150011553746384095452163006160953854815, 1),\n",
      " ('cursos::FATORES DE RISCO', -1263702245687735593396058851815774572092204277645, 1),\n",
      " ('cursos::comportamento', 1435620245812037037312404634106449645735643331596, 0.52),\n",
      " ('cursos::seguro', 601131100091650524257489696322235729973464235181, 0.24),\n",
      " ('cursos::módulo', 1174156505898888795952275305670313738287222551175, 0.24),\n",
      " ('COMPORTAMENTO SEGURO - MÓDULO 4::0.125', 82031982640926380502817705564563798830580120014, 1),\n",
      " ('cursos::COMPORTAMENTO SEGURO - MÓDULO 4', 1179152089996253048831557647396956131465731583156, 1),\n",
      " ('cursos::regras', -578134724157901523910340656195718913203653650699, 0.3157894736842105),\n",
      " ('cursos::ouro', -631224867207410035963485374228413587311203001584, 0.21052631578947367),\n",
      " ('cursos::petrobras', -1223507771063355629528886877623642191108261675239, 0.47368421052631576),\n",
      " ('REGRAS DE OURO PETROBRAS::0.125', -1212613440528824115869743761488065795085222552418, 1),\n",
      " ('cursos::REGRAS DE OURO PETROBRAS', -396031951949276899651682990149365286878143233933, 1),\n",
      " ('cursos::proteção', 261368053343956061291810585944865298405387227263, 0.16),\n",
      " ('cursos::permissão', -1086820311109280835976487968350583899495979357910, 0.18),\n",
      " ('cursos::acesso', -1352905612134040612277158799263668576958558457658, 0.12),\n",
      " ('cursos::arquivos', -1083505923566476931105027560457202236817973937352, 0.16),\n",
      " ('cursos::classificados', -958416176157402619587114137868781572389046155615, 0.26),\n",
      " ('cursos::módulo', 1174156505898888795952275305670313738287222551175, 0.12),\n",
      " ('EAD PROTEÇÃO E PERMISSÃO DE ACESSO EM ARQUIVOS CLASSIFICADOS - MÓDULO 3::0.125', -974702620659581262160902384064804717050824640951, 1),\n",
      " ('cursos::EAD PROTEÇÃO E PERMISSÃO DE ACESSO EM ARQUIVOS CLASSIFICADOS - MÓDULO 3', 328046620374480037045066006909369388906035405167, 1),\n",
      " ('cursos::spotfire', -1457428906764880420203813905741438054575700185761, 0.5714285714285714),\n",
      " ('cursos::módulo', 1174156505898888795952275305670313738287222551175, 0.42857142857142855),\n",
      " ('EAD SPOTFIRE MÓDULO 1::0.125', -1229056595713483626762954354003253200368569431014, 1),\n",
      " ('cursos::EAD SPOTFIRE MÓDULO 1', 1164175797747853954220205374332504255413988580794, 1),\n",
      " ('cursos::power', 1112388184902971008998894545334761286263040559980, 0.23809523809523808),\n",
      " ('cursos::desktop', -958063074818895436236279255694680778150792897128, 0.3333333333333333),\n",
      " ('cursos::microsoft', 899484131517639822996089184067167490923755457721, 0.42857142857142855),\n",
      " ('DAX NO POWER BI DESKTOP - MICROSOFT::0.125', 1164363884086670347629469600110763857897105701365, 1),\n",
      " ('cursos::DAX NO POWER BI DESKTOP - MICROSOFT', -1146121713329879350584398108403538923551145036411, 1),\n",
      " ('cursos::analysis', 740613897965246335775697044595595980660023544692, 0.36363636363636365),\n",
      " ('cursos::microsoft', 899484131517639822996089184067167490923755457721, 0.4090909090909091),\n",
      " ('cursos::excel', -880331461631903463970907135680959212999978018948, 0.22727272727272727),\n",
      " ('SAP ANALYSIS FOR MICROSOFT EXCEL::0.125', -469603431604675232444220275164736400153561494245, 1),\n",
      " ('cursos::SAP ANALYSIS FOR MICROSOFT EXCEL', 948775353793346991566192718743404818773249368525, 1),\n",
      " ('cursos::mitigação', -1078709774297455251076248573564646225518661487796, 0.3333333333333333),\n",
      " ('cursos::mudança', 1202851040962004579061556799245395835959127184536, 0.25925925925925924),\n",
      " ('cursos::clima', -1133097256378761424816470116098836070246161919331, 0.18518518518518517),\n",
      " ('cursos::módulo', 1174156505898888795952275305670313738287222551175, 0.2222222222222222),\n",
      " ('EAD DE MITIGAÇÃO DA MUDANÇA DO CLIMA - MÓDULO 1::0.125', 176573835429054840110662130528695161078783728745, 1),\n",
      " ('cursos::EAD DE MITIGAÇÃO DA MUDANÇA DO CLIMA - MÓDULO 1', 190474852564936251554228885247592251380065791965, 1),\n",
      " ('cursos::executor', -1030187929584982472547513346737129720861456945923, 0.2962962962962963),\n",
      " ('cursos::queries', -1373799119922832928741985289813485682656567009291, 0.25925925925925924),\n",
      " ('cursos::usuário', -162129886616943355055961432809526779040554631, 0.25925925925925924),\n",
      " ('cursos::final', -1274376248819511298438156845547318971955278982349, 0.18518518518518517),\n",
      " ('EXECUTOR DE QUERIES BW (USUÁRIO FINAL)::0.125', 1365513952052050166168895699518097790850634273644, 1),\n",
      " ('cursos::EXECUTOR DE QUERIES BW (USUÁRIO FINAL)', 32314386366480160477904215775432265994561550410, 1),\n",
      " ('cursos::prevenção', -312418422040504263278751790965842254378280487115, 0.3333333333333333),\n",
      " ('cursos::conflito', 243727289586564845793206960287100908839039835420, 0.2962962962962963),\n",
      " ('cursos::interesses', 2915375306384662713427491676024106801128767251, 0.37037037037037035),\n",
      " ('PREVENÇÃO AO CONFLITO DE INTERESSES::0.125', -1315797266871591471481681073106325595981550838487, 1),\n",
      " ('cursos::PREVENÇÃO AO CONFLITO DE INTERESSES', -337977707265825133890839210384060940986126345596, 1),\n",
      " ('cursos::petrobras', -1223507771063355629528886877623642191108261675239, 1.0),\n",
      " ('EVA NA PETROBRAS::0.125', 154417398644511816885195917580715561158369329421, 1),\n",
      " ('cursos::EVA NA PETROBRAS', 722600353893672408913326914357617406081878097677, 1),\n",
      " ('cursos::aprenda', -1022273850916597056872254393588001342704222697815, 0.19444444444444445),\n",
      " ('cursos::gerir', -665627438992574382539927070811869434185326768319, 0.1388888888888889),\n",
      " ('cursos::biblioteca', -726146268027718395638611688757513831571073288013, 0.2777777777777778),\n",
      " ('cursos::documentos', 157122714151955008226631598552073393392055389742, 0.2777777777777778),\n",
      " ('cursos::bdoc', 1360035740262227522883743210851685405406042676351, 0.1111111111111111),\n",
      " ('APRENDA A GERIR SUA BIBLIOTECA DE DOCUMENTOS (BDOC)::0.125', -719943985027435124592611504013511918286322051928, 1),\n",
      " ('cursos::APRENDA A GERIR SUA BIBLIOTECA DE DOCUMENTOS (BDOC)', -136025165457056891169628834902016308571964097340, 1),\n",
      " ('cursos::direitos', -688994036707527267182595184294230305094353406, 0.19047619047619047),\n",
      " ('cursos::humanos', -744535447042645987067296698425494185227977511689, 0.16666666666666666),\n",
      " ('cursos::empresas', 1285723481710988947916847260150059218846308828200, 0.19047619047619047),\n",
      " ('cursos::olhar', 1157852580214148026221483494230255217381907747875, 0.11904761904761904),\n",
      " ('cursos::sobre', -758606624281123362718670153123965277034841593623, 0.11904761904761904),\n",
      " ('cursos::petrobras', -1223507771063355629528886877623642191108261675239, 0.21428571428571427),\n",
      " ('DIREITOS HUMANOS E EMPRESAS: UM OLHAR SOBRE A PETROBRAS::0.125', 144966830101750745345573827711344381371777112955, 1),\n",
      " ('cursos::DIREITOS HUMANOS E EMPRESAS: UM OLHAR SOBRE A PETROBRAS', 922194776707121429037162476577254862224653232314, 1),\n",
      " ('cursos::básico', -1086264203302405425910756611458869462815834819511, 0.16666666666666666),\n",
      " ('cursos::sobre', -758606624281123362718670153123965277034841593623, 0.1388888888888889),\n",
      " ('cursos::segurança', -511489062006685908528899718449454478971166223702, 0.25),\n",
      " ('cursos::informação', -1001190370562054781194407289047775051756434665859, 0.2777777777777778),\n",
      " ('cursos::módulo', 1174156505898888795952275305670313738287222551175, 0.16666666666666666),\n",
      " ('EAD BÁSICO SOBRE SEGURANÇA DA INFORMAÇÃO - MÓDULO 1::0.125', 868481516797503531153739724993414950968877377640, 1),\n",
      " ('cursos::EAD BÁSICO SOBRE SEGURANÇA DA INFORMAÇÃO - MÓDULO 1', 800907664949912939103406237258765170766502504536, 1),\n",
      " ('cursos::design', 1093283691930088687420292402589462870430594981334, 0.2),\n",
      " ('cursos::dashboards', 760036545756158802767325953869005835303199623423, 0.3333333333333333),\n",
      " ('cursos::power', 1112388184902971008998894545334761286263040559980, 0.16666666666666666),\n",
      " ('cursos::microsoft', 899484131517639822996089184067167490923755457721, 0.3),\n",
      " ('DESIGN DE DASHBOARDS NO POWER BI - MICROSOFT::0.125', 685320765062903266977419328937498388445544667679, 1),\n",
      " ('cursos::DESIGN DE DASHBOARDS NO POWER BI - MICROSOFT', 542637333121396436265567165787725746845309470428, 1),\n",
      " ('cursos::power', 1112388184902971008998894545334761286263040559980, 0.45454545454545453),\n",
      " ('cursos::módulo', 1174156505898888795952275305670313738287222551175, 0.5454545454545454),\n",
      " ('EAD POWER BI MÓDULO 1::0.125', -702155754842778666892176754537488382375732486451, 1),\n",
      " ('cursos::EAD POWER BI MÓDULO 1', -1379932696060509215843690030795081953502685543239, 1),\n",
      " ('cursos::classificação', -496901112879065245732119476018837978481844474027, 0.3333333333333333),\n",
      " ('cursos::tratamento', -935192974372346104269944388863266562225724876252, 0.2564102564102564),\n",
      " ('cursos::informação', -1001190370562054781194407289047775051756434665859, 0.2564102564102564),\n",
      " ('cursos::módulo', 1174156505898888795952275305670313738287222551175, 0.15384615384615385),\n",
      " ('CLASSIFICAÇÃO E TRATAMENTO DA INFORMAÇÃO - MÓDULO 2::0.125', -127204003000529336539631728463160052434391398408, 1),\n",
      " ('cursos::CLASSIFICAÇÃO E TRATAMENTO DA INFORMAÇÃO - MÓDULO 2', 1013580259950477187199157318079521566650350247853, 1),\n",
      " ('cursos::serviço', -751449517912447331299388121187028845790612506831, 0.3888888888888889),\n",
      " ('cursos::power', 1112388184902971008998894545334761286263040559980, 0.2777777777777778),\n",
      " ('cursos::módulo', 1174156505898888795952275305670313738287222551175, 0.3333333333333333),\n",
      " ('EAD SERVIÇO POWER BI \\x13 MÓDULO 2::0.125', 329977379339486776836848923278029925791389416835, 1),\n",
      " ('cursos::EAD SERVIÇO POWER BI \\x13 MÓDULO 2', -1197757915095539987309550088398170115214805321915, 1),\n",
      " ('cursos::retorno', -1178881198788561889544681446847456731161269641007, 0.28),\n",
      " ('cursos::trabalho', -509110280353625494712952900106356007247774355281, 0.32),\n",
      " ('cursos::presencial', 1127513654255136939865005540914294617668585330562, 0.4),\n",
      " ('RETORNO AO TRABALHO PRESENCIAL::0.125', 63773147696566742690602763252092425017577084357, 1),\n",
      " ('cursos::RETORNO AO TRABALHO PRESENCIAL', 94860543119608945567559206725933618594822135156, 1),\n",
      " ('roles::ps_pb006_apontador_horas', 1218732398614842067723465329343909311972971347293, 1.0),\n",
      " ('Z:PS_PB006_APONTADOR_HORAS::1', -507958026850828199600589961604825841067099333684, 1),\n",
      " ('roles::Z:PS_PB006_APONTADOR_HORAS', 1174754401896197257834320355635175718009380128820, 1)]\n"
     ]
    },
    {
     "data": {
      "text/plain": [
       "242"
      ]
     },
     "execution_count": 26,
     "metadata": {},
     "output_type": "execute_result"
    }
   ],
   "source": [
    "row = dataset_df[dataset_df[\"chave_usuario\"] == \"U4UL\"].to_dict(orient=\"records\")[0]\n",
    "print(\"Chave do usuário processado: \" + row[\"chave_usuario\"])\n",
    "hashes = hash_row(row)\n",
    "pprint(hashes, width=200)\n",
    "len(hashes)"
   ]
  },
  {
   "cell_type": "markdown",
   "id": "b978db3f",
   "metadata": {},
   "source": [
    "A função abaixo recebe uma lista de hashes e os aplica em uma linha específica de uma matriz pré-alocada.\n",
    "\n",
    "A lista de hashes é composta tuplas no formato: (nome da feature, hash computado, peso da feature)\n",
    "\n",
    "Em caso de hash negativo, o sinal negativo é aplicado no peso da feature"
   ]
  },
  {
   "cell_type": "code",
   "execution_count": 27,
   "id": "1a9a6413",
   "metadata": {},
   "outputs": [],
   "source": [
    "def apply_hashes_into(hashes, row_idx, hashed_features, feature_count):\n",
    "    for feature, hash, p in hashes:\n",
    "        idx = abs(hash) % feature_count\n",
    "        sign = -1 if hash < 0 else 1\n",
    "        hashed_features[row_idx, idx] = sign * p"
   ]
  },
  {
   "cell_type": "markdown",
   "id": "09a03ddf",
   "metadata": {},
   "source": [
    "No exemplo abaixo, estamos alocando uma matriz com 1 linha e HASHED_FEATURE_COUNT colunas.\n",
    "\n",
    "O tipo np.float16 (apesar de não possuir suporte para operações diretas em ponto flutuante na CPU, somente em GPU's) é usado para economizar memória"
   ]
  },
  {
   "cell_type": "code",
   "execution_count": 28,
   "id": "446a591c",
   "metadata": {},
   "outputs": [
    {
     "data": {
      "text/plain": [
       "206"
      ]
     },
     "execution_count": 28,
     "metadata": {},
     "output_type": "execute_result"
    }
   ],
   "source": [
    "rows = 1\n",
    "cols = HASHED_FEATURE_COUNT\n",
    "shape = rows, cols\n",
    "hashed_features = np.zeros(shape, dtype=np.float16)\n",
    "apply_hashes_into(hashes, row_idx=0, hashed_features=hashed_features, feature_count=HASHED_FEATURE_COUNT)\n",
    "np.count_nonzero(hashed_features)"
   ]
  },
  {
   "cell_type": "markdown",
   "id": "dbadf1e4",
   "metadata": {},
   "source": [
    "Aqui alocamos uma matriz esparsa do tipo \"dictionary of keys\" para cada um dos 85.000+ funcionários da Petrobras e com HASHED_FEATURE_COUNT colunas.\n",
    "\n",
    "Este tipo de matriz esparsa é utilizada pois é de rápida construção iterativa. Utilizamos o tipo **float16** para redução do consumo total de memória"
   ]
  },
  {
   "cell_type": "code",
   "execution_count": 29,
   "id": "4760ad10",
   "metadata": {},
   "outputs": [
    {
     "data": {
      "text/plain": [
       "(91798, 250000)"
      ]
     },
     "execution_count": 29,
     "metadata": {},
     "output_type": "execute_result"
    }
   ],
   "source": [
    "rowcount = len(dataset_df)\n",
    "colcount = HASHED_FEATURE_COUNT\n",
    "shape = rowcount, colcount\n",
    "hashed_features = scipy.sparse.dok_array(shape, np.float16) # dictionary of keys - efficient O(1) element access\n",
    "hashed_features.shape"
   ]
  },
  {
   "cell_type": "markdown",
   "id": "26a5502e",
   "metadata": {},
   "source": [
    "O trecho de código abaixo aplica a função **apply_hashes_into** na matriz esparsa pré-alocada.\n",
    "\n",
    "Ela utiliza uma série de **generator comprehensions** para processar os dados sem que os mesmos consumam memória como uma **list comprehension** consumiria. Como o mecanismo de iteração das **generator comprehensions** é escrito em C, frequentemente este tipo de processamento apresenta uma performance melhor do que o uso de laços *for* explicitamente criados."
   ]
  },
  {
   "cell_type": "code",
   "execution_count": null,
   "id": "513222a7",
   "metadata": {},
   "outputs": [
    {
     "name": "stdout",
     "output_type": "stream",
     "text": [
      "-> 0/91798\n",
      "-> 5000/91798\n",
      "-> 10000/91798\n",
      "-> 15000/91798\n",
      "-> 20000/91798\n",
      "-> 25000/91798\n",
      "-> 30000/91798\n",
      "-> 35000/91798\n",
      "-> 40000/91798\n",
      "-> 45000/91798\n",
      "-> 50000/91798\n",
      "-> 55000/91798\n",
      "-> 60000/91798\n"
     ]
    }
   ],
   "source": [
    "column_names = dataset_df.columns\n",
    "f = lambda row_idx, hashes: apply_hashes_into(hashes, row_idx, hashed_features, HASHED_FEATURE_COUNT)\n",
    "\n",
    "# using generator compreehensions to save memory ... this is ugly, but uses less memory\n",
    "records      = (  list(r)                     for r                   in dataset_df.itertuples(index=False) )\n",
    "rows         = (  dict(zip(column_names, r))  for r                   in records                            )\n",
    "hashes_rows  = (  hash_row(row)               for row                 in rows                               )\n",
    "apply_hashes = (  f(row_idx, hashes_row)      for row_idx, hashes_row in enumerate(hashes_rows)             )\n",
    "\n",
    "for i, _ in enumerate(apply_hashes):\n",
    "    # for loop only used for logging purposes\n",
    "    if i % 5000 == 0:\n",
    "        print(f\"-> {i}/{rowcount}\")\n",
    "print(f\"-> {rowcount}/{rowcount}\")"
   ]
  },
  {
   "cell_type": "markdown",
   "id": "c85b7af8",
   "metadata": {},
   "source": [
    "A matriz preenchida é posteriormente salva no formato **compressed sparse row**. Este formato é utilizado pois possibilita o acesso a linhas individuais de maneira otimizada (necessário para o cômputo do KNN), assim como a possibilita a execução de operações aritméticas. Este é o formato que a biblioteca **PyNNDescent** utiliza para cômputo do KNN de maneira distribuída entre as múltiplas CPU's de um computador "
   ]
  },
  {
   "cell_type": "code",
   "execution_count": null,
   "id": "38ee0b54",
   "metadata": {},
   "outputs": [],
   "source": [
    "hashed_features = hashed_features.tocsr() # csr is fast for dot products and row slicing\n",
    "scipy.sparse.save_npz(HASHED_FEATURES, hashed_features)"
   ]
  },
  {
   "cell_type": "markdown",
   "id": "3e422094",
   "metadata": {},
   "source": [
    "As informações contidas na matriz esparsa são apenas numéricas sendo necessário correlacionar uma posição da matriz com dados de um usuário. Estas informações são salvas abaixo em formato parquet para consumo posterior"
   ]
  },
  {
   "cell_type": "code",
   "execution_count": null,
   "id": "1183522e",
   "metadata": {},
   "outputs": [],
   "source": [
    "hashed_features_df = pd.DataFrame({\n",
    "    \"index\"          : dataset_df.index.tolist()\n",
    ",   \"chave_usuario\"  : dataset_df[\"chave_usuario\"]\n",
    ",   \"lotacao_topo\"   : dataset_df[\"lotacao_topo\"]\n",
    ",   \"sigla_lotacao\"  : dataset_df[\"sigla_lotacao\"]\n",
    ",   \"tipo_usuario\"   : dataset_df[\"tipo_usuario\"]\n",
    ",   \"cargo\"          : dataset_df[\"cargo\"]\n",
    ",   \"enfase\"         : dataset_df[\"enfase\"]\n",
    ",   \"funcao\"         : dataset_df[\"funcao\"]\n",
    "})\n",
    "\n",
    "hashed_features_df.to_parquet(HASHED_FEATURES_IDX)\n",
    "hashed_features_df.head(100)"
   ]
  }
 ],
 "metadata": {
  "kernelspec": {
   "display_name": "Python 3 (ipykernel)",
   "language": "python",
   "name": "python3"
  },
  "language_info": {
   "codemirror_mode": {
    "name": "ipython",
    "version": 3
   },
   "file_extension": ".py",
   "mimetype": "text/x-python",
   "name": "python",
   "nbconvert_exporter": "python",
   "pygments_lexer": "ipython3",
   "version": "3.10.10"
  }
 },
 "nbformat": 4,
 "nbformat_minor": 5
}
