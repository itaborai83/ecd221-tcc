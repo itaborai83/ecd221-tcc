{
 "cells": [
  {
   "cell_type": "markdown",
   "id": "1a446520",
   "metadata": {},
   "source": [
    "# HASHING DE FEATURES\n",
    "---\n",
    "O conjunto de dados é estritamente categórico possuindo alta cardinalidade, estando sujeito também a adição e remoção de novos perfis e atribuições a qualquer momento.\n",
    "\n",
    "Este trabalho objetiva construir um recomendador de perfis que:\n",
    "\n",
    "1 - Não requeira qualquer tipo de ajuste manual dos dados processados quando ocorrerem modificações no conjunto de perfis existente e de suas atribuições.\n",
    "\n",
    "2 - Consiga lidar com uma ordem de magnitude a mais dos perfis existentes (de milhares para milhões), pois isto possibilitaria realizar a recomendação de, além de perfis dos SAP, também de direitos controlados pelo IdentityIQ e grupos do Active Directory.\n",
    "\n",
    "Tomado em conjunto os requisitos acima, constatou-se que a técnica conhecida como feature hashing associada ao uso de shingling atende ao cenário proposto.\n"
   ]
  },
  {
   "cell_type": "code",
   "execution_count": 1,
   "id": "8caba265",
   "metadata": {},
   "outputs": [],
   "source": [
    "import numpy as np\n",
    "import os\n",
    "import duckdb\n",
    "import pandas as pd\n",
    "import hashlib\n",
    "import math\n",
    "import scipy.sparse\n",
    "from pprint import pprint"
   ]
  },
  {
   "cell_type": "markdown",
   "id": "5ebd739c",
   "metadata": {},
   "source": [
    "As variáveis de ambiente abaixo precisam ser configuradas antes da execução deste notebook. Vide o arquivo **setenv.ps1.example**"
   ]
  },
  {
   "cell_type": "code",
   "execution_count": 2,
   "id": "e0fcc650",
   "metadata": {},
   "outputs": [],
   "source": [
    "DATASET                     = os.environ['DATASET']\n",
    "SHINGLER_N                  = int(os.environ['SHINGLER_N'])\n",
    "HASHED_FEATURE_COUNT        = int(os.environ['HASHED_FEATURE_COUNT'])\n",
    "HASHED_FEATURES             = os.environ['HASHED_FEATURES']\n",
    "HASHED_FEATURES_IDX         = os.environ[\"HASHED_FEATURES_IDX\"]"
   ]
  },
  {
   "cell_type": "markdown",
   "id": "3efecf03",
   "metadata": {},
   "source": [
    "Leitura do conjunto de dados contendo as informações da base integrada de RH e as atribuições de perfis"
   ]
  },
  {
   "cell_type": "code",
   "execution_count": 3,
   "id": "6235e899",
   "metadata": {},
   "outputs": [
    {
     "name": "stdout",
     "output_type": "stream",
     "text": [
      "<class 'pandas.core.frame.DataFrame'>\n",
      "RangeIndex: 86332 entries, 0 to 86331\n",
      "Data columns (total 20 columns):\n",
      " #   Column                   Non-Null Count  Dtype \n",
      "---  ------                   --------------  ----- \n",
      " 0   chave_usuario            86300 non-null  object\n",
      " 1   tipo_usuario             86332 non-null  object\n",
      " 2   centro_custo             39577 non-null  object\n",
      " 3   lotacao_topo             86332 non-null  object\n",
      " 4   sigla_lotacao            86332 non-null  object\n",
      " 5   nome_lotacao             86332 non-null  object\n",
      " 6   cargo                    86332 non-null  object\n",
      " 7   enfase                   86332 non-null  object\n",
      " 8   funcao                   86332 non-null  object\n",
      " 9   sindicato                39070 non-null  object\n",
      " 10  area_rh                  85902 non-null  object\n",
      " 11  imovel                   85902 non-null  object\n",
      " 12  local_negocio            85900 non-null  object\n",
      " 13  grupo_prestacao_servico  46192 non-null  object\n",
      " 14  regime_trabalho          73068 non-null  object\n",
      " 15  empresa_contrato         85831 non-null  object\n",
      " 16  tipo_localizacao         46247 non-null  object\n",
      " 17  status_cracha            46253 non-null  object\n",
      " 18  situacao_cracha          46253 non-null  object\n",
      " 19  roles                    86332 non-null  object\n",
      "dtypes: object(20)\n",
      "memory usage: 13.2+ MB\n"
     ]
    }
   ],
   "source": [
    "dataset_df = pd.read_parquet(DATASET)\n",
    "dataset_df.info(verbose=True, show_counts=True)"
   ]
  },
  {
   "cell_type": "markdown",
   "id": "796e6a19",
   "metadata": {},
   "source": [
    "Abaixo, segue as configurações de que campos serão processados usando a técnica de *shingling*.\n",
    "\n",
    "Constatamos que um mecanismo de pesos para os diferentes atributos pode eventualmente ser útil para realização do ajuste fino do classificador, mas dado a natureza exploratória desse trabalho, este mecanismo não foi utilizado."
   ]
  },
  {
   "cell_type": "code",
   "execution_count": 4,
   "id": "ac7979ed",
   "metadata": {},
   "outputs": [],
   "source": [
    "ROLES_COLUMN                = \"roles\"\n",
    "SHINGLED_FEATURES           = set([\n",
    "    'sigla_lotacao',\n",
    "    #'roles'  # CAUSOU VIZINHANÇAS SEM SENTIDO. NÃO É POSSÍVEL USAR SEM PESOS\n",
    "])\n",
    "EXCLUDED_FEATURES           = set([\n",
    "    'chave_usuario',\n",
    "])\n",
    "DEFAULT_FEATURE_WEIGHT      = 1\n",
    "FEATURE_WEIGHTS             = {'sigla_lotacao' : 1}"
   ]
  },
  {
   "cell_type": "markdown",
   "id": "cb25d7f7",
   "metadata": {},
   "source": [
    "A função de *shingling* utilizada neste trabalho é a função definida abaixo. Ela basicamente \"picota\" uma string em múltiplas substrings de tamanho n deslocando-as sempre uma posição para a direita"
   ]
  },
  {
   "cell_type": "code",
   "execution_count": 5,
   "id": "2dcb2d9e",
   "metadata": {},
   "outputs": [],
   "source": [
    "def shingler(n, s, as_set=False):\n",
    "    s = str(s)\n",
    "    result = []\n",
    "    l = len(s)\n",
    "    acc = []\n",
    "    \n",
    "    if l == 1 or l <= n:\n",
    "        return [s]\n",
    "    \n",
    "    for i in range(0, l-n+1):\n",
    "        shingle = s[i:i+n]\n",
    "        result.append(shingle)\n",
    "            \n",
    "    return set(result) if as_set else result"
   ]
  },
  {
   "cell_type": "markdown",
   "id": "6fd2144d",
   "metadata": {},
   "source": [
    "Segue abaixo um exemplo de saída para uma sigla de lotação resultando em 18 substrings"
   ]
  },
  {
   "cell_type": "code",
   "execution_count": 6,
   "id": "d5b58886",
   "metadata": {},
   "outputs": [
    {
     "data": {
      "text/plain": [
       "['TIC/CO',\n",
       " 'IC/COR',\n",
       " 'C/CORP',\n",
       " '/CORP/',\n",
       " 'CORP/D',\n",
       " 'ORP/DS',\n",
       " 'RP/DSC',\n",
       " 'P/DSCE',\n",
       " '/DSCES',\n",
       " 'DSCESI',\n",
       " 'SCESI/',\n",
       " 'CESI/D',\n",
       " 'ESI/DS',\n",
       " 'SI/DS-',\n",
       " 'I/DS-F',\n",
       " '/DS-FR',\n",
       " 'DS-FRJ',\n",
       " 'S-FRJD']"
      ]
     },
     "execution_count": 6,
     "metadata": {},
     "output_type": "execute_result"
    }
   ],
   "source": [
    "shingler(SHINGLER_N, \"TIC/CORP/DSCESI/DS-FRJD\")"
   ]
  },
  {
   "cell_type": "markdown",
   "id": "99e07ad3",
   "metadata": {},
   "source": [
    "Abaixo, o *shingler* foi executado para uma \"lotação irmã\" fictícia, resultando em 15 substrings"
   ]
  },
  {
   "cell_type": "code",
   "execution_count": 7,
   "id": "7d388441",
   "metadata": {},
   "outputs": [
    {
     "data": {
      "text/plain": [
       "['TIC/CO',\n",
       " 'IC/COR',\n",
       " 'C/CORP',\n",
       " '/CORP/',\n",
       " 'CORP/D',\n",
       " 'ORP/DS',\n",
       " 'RP/DSC',\n",
       " 'P/DSCE',\n",
       " '/DSCES',\n",
       " 'DSCESI',\n",
       " 'SCESI/',\n",
       " 'CESI/X',\n",
       " 'ESI/XX',\n",
       " 'SI/XXX',\n",
       " 'I/XXXX']"
      ]
     },
     "execution_count": 7,
     "metadata": {},
     "output_type": "execute_result"
    }
   ],
   "source": [
    "shingler(SHINGLER_N, \"TIC/CORP/DSCESI/XXXX\")"
   ]
  },
  {
   "cell_type": "markdown",
   "id": "ff789ec5",
   "metadata": {},
   "source": [
    "Ambas as lotações possuem 11 substrings em comum. Se considerarmos cada substring como uma feature, é possível constatar que existe uma proximidade estrutural entre estas lotações, apesar de não serem iguais.\n",
    "\n",
    "Esta funcionalidade é alcançada por meio do aumento da dimensionalidade do conjunto de dados. Este aumento, entretanto, é tratado pelo chamado *hashing trick* que será devidamente explicado na parte teórica deste trabalho"
   ]
  },
  {
   "cell_type": "code",
   "execution_count": 8,
   "id": "7ceca3da",
   "metadata": {},
   "outputs": [
    {
     "data": {
      "text/plain": [
       "11"
      ]
     },
     "execution_count": 8,
     "metadata": {},
     "output_type": "execute_result"
    }
   ],
   "source": [
    "lotacao1 = shingler(SHINGLER_N, \"TIC/CORP/DSCESI/DS-FRJD\")\n",
    "lotacao2 = shingler(SHINGLER_N, \"TIC/CORP/DSCESI/XXXX\")\n",
    "len(set(lotacao1).intersection(set(lotacao2)))"
   ]
  },
  {
   "cell_type": "markdown",
   "id": "41042270",
   "metadata": {},
   "source": [
    "A técnica de feature hashing necessita aplicar duas funções de hashing para um valor a ser convertido.\n",
    "\n",
    "A primeira função de hashing é utilizada para determinar a posição em que um atributo categórico será armazenado.\n",
    "\n",
    "A segunda função de hashing é utilizada para determinar o sinal do valor a ser armazenado na posição determinada pelo o primeiro hash calculado.\n",
    "\n",
    "Por se tratar de um método probabílistico em que colisões podem ocorrer, o sinal introduzido pela segunda função ajuda na tolerância à colisões. Maiores detalhes na parte teórica do trabalho"
   ]
  },
  {
   "cell_type": "code",
   "execution_count": 9,
   "id": "c33def3a",
   "metadata": {},
   "outputs": [],
   "source": [
    "def hash_string(s):\n",
    "    buf        = str(s).encode()\n",
    "    sha1       = hashlib.sha1(buf)\n",
    "    md5        = hashlib.md5(buf)\n",
    "    hash_value = int(sha1.hexdigest(), base=16)\n",
    "    sign_value = int(md5.hexdigest(), base=16)\n",
    "    sign       = -1 if abs(sign_value % 2) == 1 else 1 \n",
    "    result     = sign * hash_value \n",
    "    return result"
   ]
  },
  {
   "cell_type": "markdown",
   "id": "9c6a58f1",
   "metadata": {},
   "source": [
    "Abaixo, calculamos o hash de um feature categórico. O feature é codificado como **\"&lt;nome do feature&gt;::&lt;valor do feature&gt;\"**"
   ]
  },
  {
   "cell_type": "code",
   "execution_count": 10,
   "id": "55c3563c",
   "metadata": {},
   "outputs": [
    {
     "name": "stdout",
     "output_type": "stream",
     "text": [
      "\n",
      "valor                  : sigla_lotacao::TIC/CORP/DSCESI/DS-PDDS\n",
      "hash_lotacao           : 580521354414209253383885614425930233875981244812\n",
      "abs(hash_lotacao) % 64 : 12\n",
      "\n"
     ]
    }
   ],
   "source": [
    "n = 64\n",
    "valor_original = \"sigla_lotacao::TIC/CORP/DSCESI/DS-PDDS\"\n",
    "hash_lotacao = hash_string(valor_original)\n",
    "hash_original_mod_n = abs(hash_lotacao) % n \n",
    "print(f\"\"\"\n",
    "valor                  : {valor_original}\n",
    "hash_lotacao           : {hash_lotacao}\n",
    "abs(hash_lotacao) % {n} : {hash_original_mod_n}\n",
    "\"\"\")"
   ]
  },
  {
   "cell_type": "markdown",
   "id": "ea80005b",
   "metadata": {},
   "source": [
    "Abaixo, calculamos uma alteração em um feature que provoque uma colisão com o primeiro hash, mas não do segundo "
   ]
  },
  {
   "cell_type": "code",
   "execution_count": 11,
   "id": "acf98b97",
   "metadata": {},
   "outputs": [
    {
     "name": "stdout",
     "output_type": "stream",
     "text": [
      "\n",
      "valor                  : tipo_usuario::PRESTADOR DE SERVIÇOafk\n",
      "hash_colisao           : -152937679684757113643692380177006773294535406668\n",
      "abs(hash_colisao) % 64 : 12\n",
      "\n"
     ]
    }
   ],
   "source": [
    "valor_inicial = \"tipo_usuario::PRESTADOR DE SERVIÇO\"\n",
    "hash_colisao = None\n",
    "chs = \"abcdefghijklmnopqrstuvwxyzABCDEFGHIJKLMNOPQRSTUVWXYZ!?.,\"\n",
    "for ch1 in chs:\n",
    "    if hash_colisao is not None:\n",
    "        break\n",
    "    for ch2 in chs:\n",
    "        if hash_colisao is not None:\n",
    "            break\n",
    "        for ch3 in chs:\n",
    "            valor_final = valor_inicial + ch1 + ch2 + ch3\n",
    "            hash = hash_string(valor_final)\n",
    "            if hash < 0 and abs(hash) % n == hash_original_mod_n:\n",
    "                hash_colisao = hash\n",
    "                break\n",
    "print(f\"\"\"\n",
    "valor                  : {valor_final}\n",
    "hash_colisao           : {hash_colisao}\n",
    "abs(hash_colisao) % {n} : {abs(hash_colisao) % n}\n",
    "\"\"\")"
   ]
  },
  {
   "cell_type": "markdown",
   "id": "0084db0a",
   "metadata": {},
   "source": [
    "Neste cenário fictício, ambas as features seriam mapeadas para a posição 12 de um vetor de tamanho 16 (tamanho arbitrariamente reduzido para provocar colisão neste cenário artificial).\n",
    "\n",
    "Neste caso, o efeito da colisão é mitigado pela diferença de sinais. Vide detalhes na parte teórica do trabalho.\n",
    "\n",
    "Segue abaixo as funções utilizado para realizar o feature hashing com e sem *shingling*"
   ]
  },
  {
   "cell_type": "code",
   "execution_count": 12,
   "id": "961a0706",
   "metadata": {},
   "outputs": [],
   "source": [
    "def hash_feature(name, value):\n",
    "    if value is None or value == \"\" or value == 0:\n",
    "        return []\n",
    "    feature = f\"{name}::{value}\"\n",
    "    p = FEATURE_WEIGHTS.get(name, DEFAULT_FEATURE_WEIGHT)\n",
    "    return feature, hash_string(feature), p"
   ]
  },
  {
   "cell_type": "code",
   "execution_count": 13,
   "id": "968874cf",
   "metadata": {},
   "outputs": [
    {
     "name": "stdout",
     "output_type": "stream",
     "text": [
      "\n",
      "feature : sigla_lotacao::TIC/CORP/DSCESI/DS-PDDS\n",
      "hashes  : 580521354414209253383885614425930233875981244812\n",
      "p       : 1\n",
      "\n"
     ]
    }
   ],
   "source": [
    "feature, hashes, p = hash_feature(\"sigla_lotacao\", \"TIC/CORP/DSCESI/DS-PDDS\")\n",
    "print(f\"\"\"\n",
    "feature : {feature}\n",
    "hashes  : {hashes}\n",
    "p       : {p}\n",
    "\"\"\")"
   ]
  },
  {
   "cell_type": "code",
   "execution_count": 14,
   "id": "77064990",
   "metadata": {},
   "outputs": [
    {
     "name": "stdout",
     "output_type": "stream",
     "text": [
      "\n",
      "feature : tipo_usuario::PRESTADOR DE SERVIÇOafk\n",
      "hashes  : -152937679684757113643692380177006773294535406668\n",
      "p       : 1\n",
      "\n"
     ]
    }
   ],
   "source": [
    "feature, hashes, p = hash_feature(\"tipo_usuario\", \"PRESTADOR DE SERVIÇOafk\")\n",
    "print(f\"\"\"\n",
    "feature : {feature}\n",
    "hashes  : {hashes}\n",
    "p       : {p}\n",
    "\"\"\")"
   ]
  },
  {
   "cell_type": "code",
   "execution_count": 15,
   "id": "e56818b1",
   "metadata": {},
   "outputs": [],
   "source": [
    "def hash_shingles(name, value, k):\n",
    "    if value is None or value == \"\" or value == 0:\n",
    "        return []\n",
    "    \n",
    "    hashes = []\n",
    "    shingles = []\n",
    "    for shingle in shingler(k, value):\n",
    "        feature = f\"{name}::{shingle}\"\n",
    "        h = hash_string(feature)\n",
    "        shingles.append(feature)\n",
    "        hashes.append(h)\n",
    "    \n",
    "    shingle_count = len(hashes)\n",
    "    p = FEATURE_WEIGHTS.get(name, DEFAULT_FEATURE_WEIGHT)\n",
    "    ps = [ p / shingle_count ] * shingle_count\n",
    "    \n",
    "    return list(zip(shingles, hashes, ps))"
   ]
  },
  {
   "cell_type": "code",
   "execution_count": 16,
   "id": "283f775c",
   "metadata": {},
   "outputs": [
    {
     "data": {
      "text/plain": [
       "[('sigla_lotacao::TIC/CO',\n",
       "  -730274207718065717245553429308356210311740865032,\n",
       "  0.05555555555555555),\n",
       " ('sigla_lotacao::IC/COR',\n",
       "  -373633975827719757435700647505553931131855812956,\n",
       "  0.05555555555555555),\n",
       " ('sigla_lotacao::C/CORP',\n",
       "  1080979219743646486836742103071560908203812013451,\n",
       "  0.05555555555555555),\n",
       " ('sigla_lotacao::/CORP/',\n",
       "  -952594771626872110135713732559202401197871445227,\n",
       "  0.05555555555555555),\n",
       " ('sigla_lotacao::CORP/D',\n",
       "  -95097466763751454432359261244372763161453129758,\n",
       "  0.05555555555555555),\n",
       " ('sigla_lotacao::ORP/DS',\n",
       "  1239745038134983926731129470014433906122438776577,\n",
       "  0.05555555555555555),\n",
       " ('sigla_lotacao::RP/DSC',\n",
       "  239024900118180735701278668947112509290076429247,\n",
       "  0.05555555555555555),\n",
       " ('sigla_lotacao::P/DSCE',\n",
       "  1029606924163952446674767124603193492618110951838,\n",
       "  0.05555555555555555),\n",
       " ('sigla_lotacao::/DSCES',\n",
       "  -1110266309991503018367385692444359394226034410028,\n",
       "  0.05555555555555555),\n",
       " ('sigla_lotacao::DSCESI',\n",
       "  -249871783237836646717449202590535128189321490981,\n",
       "  0.05555555555555555),\n",
       " ('sigla_lotacao::SCESI/',\n",
       "  704496220813529596450514714926020265110247337797,\n",
       "  0.05555555555555555),\n",
       " ('sigla_lotacao::CESI/D',\n",
       "  1002104463976950780888732257609648344691360166945,\n",
       "  0.05555555555555555),\n",
       " ('sigla_lotacao::ESI/DS',\n",
       "  -1115760811558855900071233440461808169868364926915,\n",
       "  0.05555555555555555),\n",
       " ('sigla_lotacao::SI/DS-',\n",
       "  1041081676389501189893075290513395444750819649936,\n",
       "  0.05555555555555555),\n",
       " ('sigla_lotacao::I/DS-P',\n",
       "  -1076941746030278116890091395851382974312310791691,\n",
       "  0.05555555555555555),\n",
       " ('sigla_lotacao::/DS-PD',\n",
       "  151126193961931600213210395760456559420847566289,\n",
       "  0.05555555555555555),\n",
       " ('sigla_lotacao::DS-PDD',\n",
       "  1332698619113633814216307182783481979162532459758,\n",
       "  0.05555555555555555),\n",
       " ('sigla_lotacao::S-PDDS',\n",
       "  -724595588616463777605564827864647413476387732941,\n",
       "  0.05555555555555555)]"
      ]
     },
     "execution_count": 16,
     "metadata": {},
     "output_type": "execute_result"
    }
   ],
   "source": [
    "list(hash_shingles('sigla_lotacao', \"TIC/CORP/DSCESI/DS-PDDS\", SHINGLER_N))"
   ]
  },
  {
   "cell_type": "markdown",
   "id": "ecfe151c",
   "metadata": {},
   "source": [
    "A função abaixo é a funçaõ que recebe um dicionário contendo os dados dos usuários assim como uma lista de roles (como um atributo multi-valorado) e retorna uma lista de tuplas no formato (nome da feature, hash da feature, peso da feature) utilizado para preenchimento da matriz numérica que será utilizada para cômputo posterior do KNN"
   ]
  },
  {
   "cell_type": "code",
   "execution_count": 17,
   "id": "a4b438a7",
   "metadata": {},
   "outputs": [],
   "source": [
    "def hash_row(row, k):\n",
    "    result = []\n",
    "    for key, val in row.items():\n",
    "        if key in EXCLUDED_FEATURES:\n",
    "            continue\n",
    "        if key == ROLES_COLUMN:\n",
    "            for role in val:\n",
    "                if key in SHINGLED_FEATURES:\n",
    "                    feature_hashes_p = hash_shingles(\"role\", role, k)\n",
    "                    result.extend(feature_hashes_p)\n",
    "                feature_hash_p = hash_feature(role, 1)\n",
    "                result.append(feature_hash_p)\n",
    "        elif key in SHINGLED_FEATURES:\n",
    "            feature_hashes_p = hash_shingles(key, val, k) \n",
    "            result.extend(feature_hashes_p)\n",
    "        # roles are multivalued and always have the value 1\n",
    "        else:        \n",
    "            feature_hash_p = hash_feature(key, val)\n",
    "            if feature_hash_p:\n",
    "                result.append(feature_hash_p)\n",
    "    return result"
   ]
  },
  {
   "cell_type": "markdown",
   "id": "fdba0dd3",
   "metadata": {},
   "source": [
    "Segue abaixo a saída do *featurer hahser* & *shingler*. O número de features resultantes para este usuário é de 33.\n",
    "\n",
    "Este número varia de usuário para usuário e é importante que seja utilizado uma representação esparsa da matriz de dados a serem processados."
   ]
  },
  {
   "cell_type": "code",
   "execution_count": 18,
   "id": "28a10a72",
   "metadata": {},
   "outputs": [
    {
     "name": "stdout",
     "output_type": "stream",
     "text": [
      "Chave do usuário processado: U4UL\n",
      "[('tipo_usuario::EMPREGADO', -1143454999077322132947551267231288994892033570655, 1),\n",
      " ('centro_custo::ST75AT1B00', -1133144768198451777642148719479341277461087595357, 1),\n",
      " ('lotacao_topo::TIC', 883719330180455605187708388056895414972581655255, 1),\n",
      " ('sigla_lotacao::TIC/CO', -730274207718065717245553429308356210311740865032, 0.05555555555555555),\n",
      " ('sigla_lotacao::IC/COR', -373633975827719757435700647505553931131855812956, 0.05555555555555555),\n",
      " ('sigla_lotacao::C/CORP', 1080979219743646486836742103071560908203812013451, 0.05555555555555555),\n",
      " ('sigla_lotacao::/CORP/', -952594771626872110135713732559202401197871445227, 0.05555555555555555),\n",
      " ('sigla_lotacao::CORP/D', -95097466763751454432359261244372763161453129758, 0.05555555555555555),\n",
      " ('sigla_lotacao::ORP/DS', 1239745038134983926731129470014433906122438776577, 0.05555555555555555),\n",
      " ('sigla_lotacao::RP/DSC', 239024900118180735701278668947112509290076429247, 0.05555555555555555),\n",
      " ('sigla_lotacao::P/DSCE', 1029606924163952446674767124603193492618110951838, 0.05555555555555555),\n",
      " ('sigla_lotacao::/DSCES', -1110266309991503018367385692444359394226034410028, 0.05555555555555555),\n",
      " ('sigla_lotacao::DSCESI', -249871783237836646717449202590535128189321490981, 0.05555555555555555),\n",
      " ('sigla_lotacao::SCESI/', 704496220813529596450514714926020265110247337797, 0.05555555555555555),\n",
      " ('sigla_lotacao::CESI/D', 1002104463976950780888732257609648344691360166945, 0.05555555555555555),\n",
      " ('sigla_lotacao::ESI/DS', -1115760811558855900071233440461808169868364926915, 0.05555555555555555),\n",
      " ('sigla_lotacao::SI/DS-', 1041081676389501189893075290513395444750819649936, 0.05555555555555555),\n",
      " ('sigla_lotacao::I/DS-P', -1076941746030278116890091395851382974312310791691, 0.05555555555555555),\n",
      " ('sigla_lotacao::/DS-PD', 151126193961931600213210395760456559420847566289, 0.05555555555555555),\n",
      " ('sigla_lotacao::DS-PDD', 1332698619113633814216307182783481979162532459758, 0.05555555555555555),\n",
      " ('sigla_lotacao::S-PDDS', -724595588616463777605564827864647413476387732941, 0.05555555555555555),\n",
      " ('nome_lotacao::DESENVOLVIMENTO E SUSTENTACAO PARA AREAS DA PRESIDENCIA, DGC, DESEMPENHO E SUPRIMENTOS', -378118631766635756717178793471758309466816006599, 1),\n",
      " ('cargo::PROF. PETROBRAS DE NIVEL SUPERIOR SENIOR', 1249871142505440875276667808539795923336599226402, 1),\n",
      " ('enfase::PCR NS ANALISE DE SISTEMAS ENG SOFTWARE', 1318023573396303889862721058187149964822964827650, 1),\n",
      " ('funcao::n/a', -113497363075550702426643551364997006182542412518, 1),\n",
      " ('sindicato::SINDIPETRO/RJ', -719010716884604073925897807742100797624301267196, 1),\n",
      " ('area_rh::RIO DE JANEIRO', -1037136565844150377169243614312942668173564652491, 1),\n",
      " ('imovel::EDIHB', 637437066404560481458200205096349963686937672192, 1),\n",
      " ('local_negocio::PETROBRAS EDIHB', 839011932361261941135628806500536163316424094019, 1),\n",
      " ('regime_trabalho::ADMINISTRATIVO', 804816837966151626313586631297663831059215456518, 1),\n",
      " ('empresa_contrato::PETROBRAS', -897039237043338429309987918304245913554585210576, 1),\n",
      " ('Z:FI_AA_PB001_EXE_CON_REL_IMOB::1', 44046157049237097960389345886017548070773391926, 1),\n",
      " ('Z:PS_PB006_APONTADOR_HORAS::1', -507958026850828199600589961604825841067099333684, 1)]\n"
     ]
    },
    {
     "data": {
      "text/plain": [
       "33"
      ]
     },
     "execution_count": 18,
     "metadata": {},
     "output_type": "execute_result"
    }
   ],
   "source": [
    "row = dataset_df[dataset_df[\"chave_usuario\"] == \"U4UL\"].to_dict(orient=\"records\")[0]\n",
    "#row = dataset_df[0:1].to_dict(orient=\"records\")[0]\n",
    "print(\"Chave do usuário processado: \" + row[\"chave_usuario\"])\n",
    "hashes = hash_row(row, SHINGLER_N)\n",
    "pprint(hashes, width=200)\n",
    "len(hashes)"
   ]
  },
  {
   "cell_type": "markdown",
   "id": "b978db3f",
   "metadata": {},
   "source": [
    "A função abaixo recebe uma lista de hashes e os aplica em uma linha específica de uma matriz pré-alocada.\n",
    "\n",
    "A lista de hashes é composta tuplas no formato: (nome da feature, hash computado, peso da feature)\n",
    "\n",
    "Em caso de hash negativo, o sinal negativo é aplicado no peso da feature"
   ]
  },
  {
   "cell_type": "code",
   "execution_count": 19,
   "id": "1a9a6413",
   "metadata": {},
   "outputs": [],
   "source": [
    "def apply_hashes_into(hashes, row_idx, hashed_features, feature_count):\n",
    "    for feature, hash, p in hashes:\n",
    "        idx = abs(hash) % feature_count\n",
    "        sign = -1 if hash < 0 else 1\n",
    "        hashed_features[row_idx, idx] = sign * p"
   ]
  },
  {
   "cell_type": "markdown",
   "id": "09a03ddf",
   "metadata": {},
   "source": [
    "No exemplo abaixo, estamos alocando uma matriz com 1 linha e HASHED_FEATURE_COUNT colunas.\n",
    "\n",
    "O tipo np.float16 (apesar de não possuir suporte para operações diretas em ponto flutuante na CPU, somente em GPU's) é usado para economizar memória"
   ]
  },
  {
   "cell_type": "code",
   "execution_count": 20,
   "id": "446a591c",
   "metadata": {},
   "outputs": [
    {
     "data": {
      "text/plain": [
       "33"
      ]
     },
     "execution_count": 20,
     "metadata": {},
     "output_type": "execute_result"
    }
   ],
   "source": [
    "rows = 1\n",
    "cols = HASHED_FEATURE_COUNT\n",
    "shape = rows, cols\n",
    "hashed_features = np.zeros(shape, dtype=np.float16)\n",
    "apply_hashes_into(hashes, row_idx=0, hashed_features=hashed_features, feature_count=HASHED_FEATURE_COUNT)\n",
    "np.count_nonzero(hashed_features)"
   ]
  },
  {
   "cell_type": "markdown",
   "id": "dbadf1e4",
   "metadata": {},
   "source": [
    "Aqui alocamos uma matriz esparsa do tipo \"dictionary of keys\" para cada um dos 85.000+ funcionários da Petrobras e com HASHED_FEATURE_COUNT colunas.\n",
    "\n",
    "Este tipo de matriz esparsa é utilizada pois é de rápida construção iterativa. Utilizamos o tipo **float16** para redução do consumo total de memória"
   ]
  },
  {
   "cell_type": "code",
   "execution_count": 21,
   "id": "4760ad10",
   "metadata": {},
   "outputs": [
    {
     "data": {
      "text/plain": [
       "(86332, 500000)"
      ]
     },
     "execution_count": 21,
     "metadata": {},
     "output_type": "execute_result"
    }
   ],
   "source": [
    "rowcount = len(dataset_df)\n",
    "colcount = HASHED_FEATURE_COUNT\n",
    "shape = rowcount, colcount\n",
    "hashed_features = scipy.sparse.dok_array(shape, np.float16) # dictionary of keys - efficient O(1) element access\n",
    "hashed_features.shape"
   ]
  },
  {
   "cell_type": "markdown",
   "id": "26a5502e",
   "metadata": {},
   "source": [
    "O trecho de código abaixo aplica a função **apply_hashes_into** na matriz esparsa pré-alocada.\n",
    "\n",
    "Ela utiliza uma série de **generator comprehensions** para processar os dados sem que os mesmos consumam memória como uma **list comprehension** consumiria. Como o mecanismo de iteração das **generator comprehensions** é escrito em C, frequentemente este tipo de processamento apresenta uma performance melhor do que o uso de laços *for* explicitamente criados."
   ]
  },
  {
   "cell_type": "code",
   "execution_count": 22,
   "id": "513222a7",
   "metadata": {},
   "outputs": [
    {
     "name": "stdout",
     "output_type": "stream",
     "text": [
      "-> 0/86332\n",
      "-> 5000/86332\n",
      "-> 10000/86332\n",
      "-> 15000/86332\n",
      "-> 20000/86332\n",
      "-> 25000/86332\n",
      "-> 30000/86332\n",
      "-> 35000/86332\n",
      "-> 40000/86332\n",
      "-> 45000/86332\n",
      "-> 50000/86332\n",
      "-> 55000/86332\n",
      "-> 60000/86332\n",
      "-> 65000/86332\n",
      "-> 70000/86332\n",
      "-> 75000/86332\n",
      "-> 80000/86332\n",
      "-> 85000/86332\n",
      "-> 86332/86332\n"
     ]
    }
   ],
   "source": [
    "column_names = dataset_df.columns\n",
    "f = lambda row_idx, hashes: apply_hashes_into(hashes, row_idx, hashed_features, HASHED_FEATURE_COUNT)\n",
    "\n",
    "# using generator compreehensions to save memory ... this is ugly, but uses less memory\n",
    "records      = (  list(r)                     for r                   in dataset_df.itertuples(index=False) )\n",
    "rows         = (  dict(zip(column_names, r))  for r                   in records                            )\n",
    "hashes_rows  = (  hash_row(row, SHINGLER_N)   for row                 in rows                               )\n",
    "apply_hashes = (  f(row_idx, hashes_row)      for row_idx, hashes_row in enumerate(hashes_rows)             )\n",
    "\n",
    "for i, _ in enumerate(apply_hashes):\n",
    "    # for loop only used for logging purposes\n",
    "    if i % 5000 == 0:\n",
    "        print(f\"-> {i}/{rowcount}\")\n",
    "print(f\"-> {rowcount}/{rowcount}\")"
   ]
  },
  {
   "cell_type": "markdown",
   "id": "c85b7af8",
   "metadata": {},
   "source": [
    "A matriz preenchida é posteriormente salva no formato **compressed sparse row**. Este formato é utilizado pois possibilita o acesso a linhas individuais de maneira otimizada (necessário para o cômputo do KNN), assim como a possibilita a execução de operações aritméticas. Este é o formato que a biblioteca **PyNNDescent** utiliza para cômputo do KNN de maneira distribuída entre as múltiplas CPU's de um computador "
   ]
  },
  {
   "cell_type": "code",
   "execution_count": 23,
   "id": "38ee0b54",
   "metadata": {},
   "outputs": [],
   "source": [
    "hashed_features = hashed_features.tocsr() # csr is fast for dot products and row slicing\n",
    "scipy.sparse.save_npz(HASHED_FEATURES, hashed_features)"
   ]
  },
  {
   "cell_type": "markdown",
   "id": "3e422094",
   "metadata": {},
   "source": [
    "As informações contidas na matriz esparsa são apenas numéricas sendo necessário correlacionar uma posição da matriz com dados de um usuário. Estas informações são salvas abaixo em formato parquet para consumo posterior"
   ]
  },
  {
   "cell_type": "code",
   "execution_count": 24,
   "id": "1183522e",
   "metadata": {},
   "outputs": [
    {
     "data": {
      "text/html": [
       "<div>\n",
       "<style scoped>\n",
       "    .dataframe tbody tr th:only-of-type {\n",
       "        vertical-align: middle;\n",
       "    }\n",
       "\n",
       "    .dataframe tbody tr th {\n",
       "        vertical-align: top;\n",
       "    }\n",
       "\n",
       "    .dataframe thead th {\n",
       "        text-align: right;\n",
       "    }\n",
       "</style>\n",
       "<table border=\"1\" class=\"dataframe\">\n",
       "  <thead>\n",
       "    <tr style=\"text-align: right;\">\n",
       "      <th></th>\n",
       "      <th>index</th>\n",
       "      <th>chave_usuario</th>\n",
       "      <th>lotacao_topo</th>\n",
       "      <th>sigla_lotacao</th>\n",
       "      <th>tipo_usuario</th>\n",
       "      <th>cargo</th>\n",
       "      <th>enfase</th>\n",
       "      <th>funcao</th>\n",
       "    </tr>\n",
       "  </thead>\n",
       "  <tbody>\n",
       "    <tr>\n",
       "      <th>0</th>\n",
       "      <td>0</td>\n",
       "      <td>A00D</td>\n",
       "      <td>LOEP</td>\n",
       "      <td>LOEP/LON/OPTER/TTOFF</td>\n",
       "      <td>PRESTADOR DE SERVIÇO</td>\n",
       "      <td>n/a</td>\n",
       "      <td>n/a</td>\n",
       "      <td>n/a</td>\n",
       "    </tr>\n",
       "    <tr>\n",
       "      <th>1</th>\n",
       "      <td>1</td>\n",
       "      <td>A00E</td>\n",
       "      <td>ISC</td>\n",
       "      <td>ISC/OSC/SCRIO/SCCRJ</td>\n",
       "      <td>PRESTADOR DE SERVIÇO</td>\n",
       "      <td>n/a</td>\n",
       "      <td>n/a</td>\n",
       "      <td>n/a</td>\n",
       "    </tr>\n",
       "    <tr>\n",
       "      <th>2</th>\n",
       "      <td>2</td>\n",
       "      <td>A00Q</td>\n",
       "      <td>SUB</td>\n",
       "      <td>SUB/SSUB/PGDO/PCIOP</td>\n",
       "      <td>PRESTADOR DE SERVIÇO</td>\n",
       "      <td>n/a</td>\n",
       "      <td>n/a</td>\n",
       "      <td>n/a</td>\n",
       "    </tr>\n",
       "    <tr>\n",
       "      <th>3</th>\n",
       "      <td>3</td>\n",
       "      <td>A00R</td>\n",
       "      <td>LOEP</td>\n",
       "      <td>LOEP/LOFF/EO</td>\n",
       "      <td>PRESTADOR DE SERVIÇO</td>\n",
       "      <td>n/a</td>\n",
       "      <td>n/a</td>\n",
       "      <td>n/a</td>\n",
       "    </tr>\n",
       "    <tr>\n",
       "      <th>4</th>\n",
       "      <td>4</td>\n",
       "      <td>A01B</td>\n",
       "      <td>UN-AM</td>\n",
       "      <td>UN-AM/ATP-U/DPCM</td>\n",
       "      <td>PRESTADOR DE SERVIÇO</td>\n",
       "      <td>n/a</td>\n",
       "      <td>n/a</td>\n",
       "      <td>n/a</td>\n",
       "    </tr>\n",
       "    <tr>\n",
       "      <th>...</th>\n",
       "      <td>...</td>\n",
       "      <td>...</td>\n",
       "      <td>...</td>\n",
       "      <td>...</td>\n",
       "      <td>...</td>\n",
       "      <td>...</td>\n",
       "      <td>...</td>\n",
       "      <td>...</td>\n",
       "    </tr>\n",
       "    <tr>\n",
       "      <th>95</th>\n",
       "      <td>95</td>\n",
       "      <td>A0HO</td>\n",
       "      <td>UN-BUZ</td>\n",
       "      <td>UN-BUZ/SOP/GPS</td>\n",
       "      <td>PRESTADOR DE SERVIÇO</td>\n",
       "      <td>n/a</td>\n",
       "      <td>n/a</td>\n",
       "      <td>n/a</td>\n",
       "    </tr>\n",
       "    <tr>\n",
       "      <th>96</th>\n",
       "      <td>96</td>\n",
       "      <td>A0HW</td>\n",
       "      <td>LOEP</td>\n",
       "      <td>LOEP/LON/EO/RES</td>\n",
       "      <td>PRESTADOR DE SERVIÇO</td>\n",
       "      <td>n/a</td>\n",
       "      <td>n/a</td>\n",
       "      <td>n/a</td>\n",
       "    </tr>\n",
       "    <tr>\n",
       "      <th>97</th>\n",
       "      <td>97</td>\n",
       "      <td>A0I1</td>\n",
       "      <td>PGN</td>\n",
       "      <td>PGN/UN-AGN/APES/MI</td>\n",
       "      <td>EMPREGADO</td>\n",
       "      <td>PROF. PETROBRAS DE NIVEL TECNICO PLENO</td>\n",
       "      <td>PCR NT MANUTENCAO INSTRUMENTACAO</td>\n",
       "      <td>n/a</td>\n",
       "    </tr>\n",
       "    <tr>\n",
       "      <th>98</th>\n",
       "      <td>98</td>\n",
       "      <td>A0I2</td>\n",
       "      <td>PGN</td>\n",
       "      <td>PGN/UN-AGN/APES/MI</td>\n",
       "      <td>EMPREGADO</td>\n",
       "      <td>PROF. PETROBRAS DE NIVEL TECNICO PLENO</td>\n",
       "      <td>PCR NT MANUTENCAO INSTRUMENTACAO</td>\n",
       "      <td>n/a</td>\n",
       "    </tr>\n",
       "    <tr>\n",
       "      <th>99</th>\n",
       "      <td>99</td>\n",
       "      <td>A0I3</td>\n",
       "      <td>REDUC</td>\n",
       "      <td>REDUC/OPE/GPQ</td>\n",
       "      <td>EMPREGADO</td>\n",
       "      <td>PROF. PETROBRAS DE NIVEL TECNICO PLENO</td>\n",
       "      <td>PCR NT OPERACAO</td>\n",
       "      <td>n/a</td>\n",
       "    </tr>\n",
       "  </tbody>\n",
       "</table>\n",
       "<p>100 rows × 8 columns</p>\n",
       "</div>"
      ],
      "text/plain": [
       "    index chave_usuario lotacao_topo         sigla_lotacao  \\\n",
       "0       0          A00D         LOEP  LOEP/LON/OPTER/TTOFF   \n",
       "1       1          A00E          ISC   ISC/OSC/SCRIO/SCCRJ   \n",
       "2       2          A00Q          SUB   SUB/SSUB/PGDO/PCIOP   \n",
       "3       3          A00R         LOEP          LOEP/LOFF/EO   \n",
       "4       4          A01B        UN-AM      UN-AM/ATP-U/DPCM   \n",
       "..    ...           ...          ...                   ...   \n",
       "95     95          A0HO       UN-BUZ        UN-BUZ/SOP/GPS   \n",
       "96     96          A0HW         LOEP       LOEP/LON/EO/RES   \n",
       "97     97          A0I1          PGN    PGN/UN-AGN/APES/MI   \n",
       "98     98          A0I2          PGN    PGN/UN-AGN/APES/MI   \n",
       "99     99          A0I3        REDUC         REDUC/OPE/GPQ   \n",
       "\n",
       "            tipo_usuario                                   cargo  \\\n",
       "0   PRESTADOR DE SERVIÇO                                     n/a   \n",
       "1   PRESTADOR DE SERVIÇO                                     n/a   \n",
       "2   PRESTADOR DE SERVIÇO                                     n/a   \n",
       "3   PRESTADOR DE SERVIÇO                                     n/a   \n",
       "4   PRESTADOR DE SERVIÇO                                     n/a   \n",
       "..                   ...                                     ...   \n",
       "95  PRESTADOR DE SERVIÇO                                     n/a   \n",
       "96  PRESTADOR DE SERVIÇO                                     n/a   \n",
       "97             EMPREGADO  PROF. PETROBRAS DE NIVEL TECNICO PLENO   \n",
       "98             EMPREGADO  PROF. PETROBRAS DE NIVEL TECNICO PLENO   \n",
       "99             EMPREGADO  PROF. PETROBRAS DE NIVEL TECNICO PLENO   \n",
       "\n",
       "                              enfase funcao  \n",
       "0                                n/a    n/a  \n",
       "1                                n/a    n/a  \n",
       "2                                n/a    n/a  \n",
       "3                                n/a    n/a  \n",
       "4                                n/a    n/a  \n",
       "..                               ...    ...  \n",
       "95                               n/a    n/a  \n",
       "96                               n/a    n/a  \n",
       "97  PCR NT MANUTENCAO INSTRUMENTACAO    n/a  \n",
       "98  PCR NT MANUTENCAO INSTRUMENTACAO    n/a  \n",
       "99                   PCR NT OPERACAO    n/a  \n",
       "\n",
       "[100 rows x 8 columns]"
      ]
     },
     "execution_count": 24,
     "metadata": {},
     "output_type": "execute_result"
    }
   ],
   "source": [
    "hashed_features_df = pd.DataFrame({\n",
    "    \"index\"          : dataset_df.index.tolist()\n",
    ",   \"chave_usuario\"  : dataset_df[\"chave_usuario\"]\n",
    ",   \"lotacao_topo\"   : dataset_df[\"lotacao_topo\"]\n",
    ",   \"sigla_lotacao\"  : dataset_df[\"sigla_lotacao\"]\n",
    ",   \"tipo_usuario\"   : dataset_df[\"tipo_usuario\"]\n",
    ",   \"cargo\"          : dataset_df[\"cargo\"]\n",
    ",   \"enfase\"         : dataset_df[\"enfase\"]\n",
    ",   \"funcao\"         : dataset_df[\"funcao\"]\n",
    "})\n",
    "\n",
    "hashed_features_df.to_parquet(HASHED_FEATURES_IDX)\n",
    "hashed_features_df.head(100)"
   ]
  }
 ],
 "metadata": {
  "kernelspec": {
   "display_name": "Python 3 (ipykernel)",
   "language": "python",
   "name": "python3"
  },
  "language_info": {
   "codemirror_mode": {
    "name": "ipython",
    "version": 3
   },
   "file_extension": ".py",
   "mimetype": "text/x-python",
   "name": "python",
   "nbconvert_exporter": "python",
   "pygments_lexer": "ipython3",
   "version": "3.10.10"
  }
 },
 "nbformat": 4,
 "nbformat_minor": 5
}
