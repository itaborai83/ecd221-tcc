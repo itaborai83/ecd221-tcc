{
 "cells": [
  {
   "cell_type": "markdown",
   "id": "1d61502e",
   "metadata": {},
   "source": [
    "# INGESTÃO DE DADOS\n",
    "---\n",
    "É preciso agora ler o arquivo contendo as atribuições dos perfis do SAP e enriquecê-lo com os dados extraídos da base integrada de RH."
   ]
  },
  {
   "cell_type": "code",
   "execution_count": 1,
   "id": "e937e34b",
   "metadata": {},
   "outputs": [],
   "source": [
    "import os\n",
    "import duckdb\n",
    "import pandas as pd"
   ]
  },
  {
   "cell_type": "markdown",
   "id": "0da45945",
   "metadata": {},
   "source": [
    "As variáveis de ambiente abaixo precisam ser configuradas antes da execução deste notebook. Vide o arquivo **setenv.ps1.example**"
   ]
  },
  {
   "cell_type": "code",
   "execution_count": 2,
   "id": "9b5495d4",
   "metadata": {},
   "outputs": [
    {
     "name": "stdout",
     "output_type": "stream",
     "text": [
      "\n",
      "BIRH_DATA              = ./DATA/birh.parquet\n",
      "SAP_USER_ROLES_CSV     = ./DATA/chaveXperfil.csv\n",
      "DATASET                = ./DATA/dataset.parquet\n",
      "USER_ROLES             = ./DATA/user-roles.parquet\n",
      "ORGUNIT_ROLES          = ./DATA/orgunit-roles.parquet\n",
      "FUNCTION_ROLES         = ./DATA/function-roles.parquet\n",
      "\n"
     ]
    }
   ],
   "source": [
    "BIRH_DATA              = os.environ['BIRH_DATA']\n",
    "SAP_USER_ROLES_CSV     = os.environ['SAP_USER_ROLES_CSV']\n",
    "DATASET                = os.environ['DATASET']\n",
    "USER_ROLES             = os.environ['USER_ROLES']\n",
    "ORGUNIT_ROLES          = os.environ['ORGUNIT_ROLES']\n",
    "FUNCTION_ROLES         = os.environ['FUNCTION_ROLES']\n",
    "\n",
    "print(f\"\"\"\n",
    "BIRH_DATA              = {BIRH_DATA}\n",
    "SAP_USER_ROLES_CSV     = {SAP_USER_ROLES_CSV}\n",
    "DATASET                = {DATASET}\n",
    "USER_ROLES             = {USER_ROLES}\n",
    "ORGUNIT_ROLES          = {ORGUNIT_ROLES}\n",
    "FUNCTION_ROLES         = {FUNCTION_ROLES}\n",
    "\"\"\")"
   ]
  },
  {
   "cell_type": "markdown",
   "id": "8d30fc55",
   "metadata": {},
   "source": [
    "Os dados do BIRH extraídos anteriormente são lidos"
   ]
  },
  {
   "cell_type": "code",
   "execution_count": 3,
   "id": "20e78a97",
   "metadata": {},
   "outputs": [
    {
     "name": "stdout",
     "output_type": "stream",
     "text": [
      "<class 'pandas.core.frame.DataFrame'>\n",
      "RangeIndex: 86332 entries, 0 to 86331\n",
      "Data columns (total 19 columns):\n",
      " #   Column                   Non-Null Count  Dtype \n",
      "---  ------                   --------------  ----- \n",
      " 0   chave_usuario            86300 non-null  object\n",
      " 1   tipo_usuario             86332 non-null  object\n",
      " 2   centro_custo             39577 non-null  object\n",
      " 3   lotacao_topo             86332 non-null  object\n",
      " 4   sigla_lotacao            86332 non-null  object\n",
      " 5   nome_lotacao             86332 non-null  object\n",
      " 6   cargo                    86332 non-null  object\n",
      " 7   enfase                   86332 non-null  object\n",
      " 8   funcao                   86332 non-null  object\n",
      " 9   sindicato                39070 non-null  object\n",
      " 10  area_rh                  85902 non-null  object\n",
      " 11  imovel                   85902 non-null  object\n",
      " 12  local_negocio            85900 non-null  object\n",
      " 13  grupo_prestacao_servico  46192 non-null  object\n",
      " 14  regime_trabalho          73068 non-null  object\n",
      " 15  empresa_contrato         85831 non-null  object\n",
      " 16  tipo_localizacao         46247 non-null  object\n",
      " 17  status_cracha            46253 non-null  object\n",
      " 18  situacao_cracha          46253 non-null  object\n",
      "dtypes: object(19)\n",
      "memory usage: 12.5+ MB\n"
     ]
    }
   ],
   "source": [
    "# carrega dados do BIRH\n",
    "birh_df = pd.read_parquet(BIRH_DATA)\n",
    "birh_df.info(verbose=True, show_counts=True)"
   ]
  },
  {
   "cell_type": "markdown",
   "id": "046adbdc",
   "metadata": {},
   "source": [
    "As atribuições de perfis do SAP estão presente em um arquivo CSV delimitado por ';' contendo duas colunas, o usuário e o perfil atribuído. Este arquivo é gerado por pessoas da área de Segurança da Informação e disponibilizado para processamento."
   ]
  },
  {
   "cell_type": "code",
   "execution_count": 4,
   "id": "0bb3ab48",
   "metadata": {},
   "outputs": [
    {
     "data": {
      "text/html": [
       "<div>\n",
       "<style scoped>\n",
       "    .dataframe tbody tr th:only-of-type {\n",
       "        vertical-align: middle;\n",
       "    }\n",
       "\n",
       "    .dataframe tbody tr th {\n",
       "        vertical-align: top;\n",
       "    }\n",
       "\n",
       "    .dataframe thead th {\n",
       "        text-align: right;\n",
       "    }\n",
       "</style>\n",
       "<table border=\"1\" class=\"dataframe\">\n",
       "  <thead>\n",
       "    <tr style=\"text-align: right;\">\n",
       "      <th></th>\n",
       "      <th>role</th>\n",
       "      <th>chave_usuario</th>\n",
       "    </tr>\n",
       "  </thead>\n",
       "  <tbody>\n",
       "    <tr>\n",
       "      <th>0</th>\n",
       "      <td>Z:FI_AA_PB001_EXE_CON_REL_IMOB</td>\n",
       "      <td>JCGN</td>\n",
       "    </tr>\n",
       "    <tr>\n",
       "      <th>1</th>\n",
       "      <td>Z:FI_AA_PB001_EXE_CON_REL_IMOB</td>\n",
       "      <td>JCI2</td>\n",
       "    </tr>\n",
       "    <tr>\n",
       "      <th>2</th>\n",
       "      <td>Z:FI_AA_PB001_EXE_CON_REL_IMOB</td>\n",
       "      <td>JCI2</td>\n",
       "    </tr>\n",
       "    <tr>\n",
       "      <th>3</th>\n",
       "      <td>Z:FI_AA_PB001_EXE_CON_REL_IMOB</td>\n",
       "      <td>JCJ0</td>\n",
       "    </tr>\n",
       "    <tr>\n",
       "      <th>4</th>\n",
       "      <td>Z:FI_AA_PB001_EXE_CON_REL_IMOB</td>\n",
       "      <td>JCJ0</td>\n",
       "    </tr>\n",
       "    <tr>\n",
       "      <th>...</th>\n",
       "      <td>...</td>\n",
       "      <td>...</td>\n",
       "    </tr>\n",
       "    <tr>\n",
       "      <th>605434</th>\n",
       "      <td>Z:FI_AA_PB001_EXE_CON_REL_IMOB</td>\n",
       "      <td>CPO2</td>\n",
       "    </tr>\n",
       "    <tr>\n",
       "      <th>605435</th>\n",
       "      <td>Z:FI_AA_PB001_EXE_CON_REL_IMOB</td>\n",
       "      <td>CPO2</td>\n",
       "    </tr>\n",
       "    <tr>\n",
       "      <th>605436</th>\n",
       "      <td>Z:FI_AA_PB001_EXE_CON_REL_IMOB</td>\n",
       "      <td>CPOJ</td>\n",
       "    </tr>\n",
       "    <tr>\n",
       "      <th>605437</th>\n",
       "      <td>Z:FI_AA_PB001_EXE_CON_REL_IMOB</td>\n",
       "      <td>CPOJ</td>\n",
       "    </tr>\n",
       "    <tr>\n",
       "      <th>605438</th>\n",
       "      <td>Z:FI_AA_PB001_EXE_CON_REL_IMOB</td>\n",
       "      <td>CPPC</td>\n",
       "    </tr>\n",
       "  </tbody>\n",
       "</table>\n",
       "<p>605439 rows × 2 columns</p>\n",
       "</div>"
      ],
      "text/plain": [
       "                                  role chave_usuario\n",
       "0       Z:FI_AA_PB001_EXE_CON_REL_IMOB          JCGN\n",
       "1       Z:FI_AA_PB001_EXE_CON_REL_IMOB          JCI2\n",
       "2       Z:FI_AA_PB001_EXE_CON_REL_IMOB          JCI2\n",
       "3       Z:FI_AA_PB001_EXE_CON_REL_IMOB          JCJ0\n",
       "4       Z:FI_AA_PB001_EXE_CON_REL_IMOB          JCJ0\n",
       "...                                ...           ...\n",
       "605434  Z:FI_AA_PB001_EXE_CON_REL_IMOB          CPO2\n",
       "605435  Z:FI_AA_PB001_EXE_CON_REL_IMOB          CPO2\n",
       "605436  Z:FI_AA_PB001_EXE_CON_REL_IMOB          CPOJ\n",
       "605437  Z:FI_AA_PB001_EXE_CON_REL_IMOB          CPOJ\n",
       "605438  Z:FI_AA_PB001_EXE_CON_REL_IMOB          CPPC\n",
       "\n",
       "[605439 rows x 2 columns]"
      ]
     },
     "execution_count": 4,
     "metadata": {},
     "output_type": "execute_result"
    }
   ],
   "source": [
    "# carrega arquivo de perfis de usuários do SAP\n",
    "sap_user_roles_df = pd.read_csv(SAP_USER_ROLES_CSV, delimiter=';')\n",
    "sap_user_roles_df.rename(columns={'UNAME': 'chave_usuario', 'AGR_NAME': 'role'}, inplace=True)\n",
    "sap_user_roles_df"
   ]
  },
  {
   "cell_type": "markdown",
   "id": "08bd2730",
   "metadata": {},
   "source": [
    "A biblioteca **DuckDB**, um sistema gerenciador de bancos de dados baseado em SQL e executado no mesmo processo da aplicação, é utilizado diversas vezes no decorrer desse trabalho para processar dados em memória (DataFrames pandas), em disco (arquivos parquet) e dados mistos(parte em memória e parte em disco numa mesma query) de maneira transparente.\n",
    "\n",
    "A consulta abaixo realiza a junção dos dados do BIRH com as atribuições dos perfis do SAP.\n",
    "\n",
    "Inicialmente esta etapa era realizada através da construção de um PIVOT em cima da tabela de perfis, transformando cada perfil em uma coluna cujo valor indicava a atribuição ou não atribuição do perfil para o usuário vigente.\n",
    "\n",
    "Esta estratégia apresenta uma série de problemas relacionados com consumo excessivo de memória, pois estamos trabalhando com aproximadamente 4 mil perfis esparsamente atribuídos para os 85.000+ usuários.\n",
    "\n",
    "Após alguma pesquisa, foi possível constatar que armazenar os nomes dos perfis em um atributo multivalorado chamado *roles* reduzia o consumo de memória em uma ordem de magnitude. \n",
    "\n",
    "Segue abaixo a query utilizada:"
   ]
  },
  {
   "cell_type": "code",
   "execution_count": 5,
   "id": "1799346f",
   "metadata": {},
   "outputs": [],
   "source": [
    "conn = duckdb.connect(':memory:')"
   ]
  },
  {
   "cell_type": "code",
   "execution_count": 6,
   "id": "eb0a6dcf",
   "metadata": {},
   "outputs": [
    {
     "name": "stdout",
     "output_type": "stream",
     "text": [
      "<class 'pandas.core.frame.DataFrame'>\n",
      "RangeIndex: 86332 entries, 0 to 86331\n",
      "Data columns (total 20 columns):\n",
      " #   Column                   Non-Null Count  Dtype \n",
      "---  ------                   --------------  ----- \n",
      " 0   chave_usuario            86300 non-null  object\n",
      " 1   tipo_usuario             86332 non-null  object\n",
      " 2   centro_custo             39577 non-null  object\n",
      " 3   lotacao_topo             86332 non-null  object\n",
      " 4   sigla_lotacao            86332 non-null  object\n",
      " 5   nome_lotacao             86332 non-null  object\n",
      " 6   cargo                    86332 non-null  object\n",
      " 7   enfase                   86332 non-null  object\n",
      " 8   funcao                   86332 non-null  object\n",
      " 9   sindicato                39070 non-null  object\n",
      " 10  area_rh                  85902 non-null  object\n",
      " 11  imovel                   85902 non-null  object\n",
      " 12  local_negocio            85900 non-null  object\n",
      " 13  grupo_prestacao_servico  46192 non-null  object\n",
      " 14  regime_trabalho          73068 non-null  object\n",
      " 15  empresa_contrato         85831 non-null  object\n",
      " 16  tipo_localizacao         46247 non-null  object\n",
      " 17  status_cracha            46253 non-null  object\n",
      " 18  situacao_cracha          46253 non-null  object\n",
      " 19  roles                    86332 non-null  object\n",
      "dtypes: object(20)\n",
      "memory usage: 13.2+ MB\n"
     ]
    }
   ],
   "source": [
    "sql = \"\"\"\n",
    "    WITH cte_user_roles AS (\n",
    "        SELECT  a.chave_usuario\n",
    "        ,       LIST(DISTINCT a.role) AS roles\n",
    "        FROM    sap_user_roles_df AS a\n",
    "        GROUP   BY a.chave_usuario    \n",
    "    )\n",
    "    SELECT  a.chave_usuario\n",
    "    ,       a.tipo_usuario\n",
    "    ,       a.centro_custo\n",
    "    ,       a.lotacao_topo\n",
    "    ,       a.sigla_lotacao\n",
    "    ,       a.nome_lotacao\n",
    "    ,       a.cargo\n",
    "    ,       a.enfase\n",
    "    ,       a.funcao\n",
    "    ,       a.sindicato\n",
    "    ,       a.area_rh\n",
    "    ,       a.imovel\n",
    "    ,       a.local_negocio\n",
    "    ,       a.grupo_prestacao_servico\n",
    "    ,       a.regime_trabalho\n",
    "    ,       a.empresa_contrato\n",
    "    ,       a.tipo_localizacao\n",
    "    ,       a.status_cracha\n",
    "    ,       a.situacao_cracha    \n",
    "    ,       COALESCE(b.roles, []) AS roles        \n",
    "    FROM    birh_df a\n",
    "            --\n",
    "            LEFT OUTER JOIN cte_user_roles b\n",
    "            ON  a.chave_usuario          = b.chave_usuario\n",
    "            --\n",
    "    ORDER   BY a.chave_usuario\n",
    "\"\"\"\n",
    "dataset_df = conn.execute(sql).fetchdf()\n",
    "dataset_df.to_parquet(DATASET)\n",
    "dataset_df.info(verbose=True, show_counts=True)"
   ]
  },
  {
   "cell_type": "markdown",
   "id": "3fce7d9d",
   "metadata": {},
   "source": [
    "Gerado o conjunto de dados principal, gera-se uma listagem chave de usuário x perfil em formato parquet para consultar posteriormente:\n",
    "\n",
    "1 - Quais os perfis que os usuários vizinhos de uma pessoa tem; e\n",
    "\n",
    "2 - Quais perfis uma pessoa já tem para que os mesmos não sejam indicados como perfis candidatos pelo recomendador de perfis"
   ]
  },
  {
   "cell_type": "code",
   "execution_count": 7,
   "id": "5781897b",
   "metadata": {},
   "outputs": [
    {
     "data": {
      "application/vnd.jupyter.widget-view+json": {
       "model_id": "f16a95c2dac34c1e9af70a70bad74a3d",
       "version_major": 2,
       "version_minor": 0
      },
      "text/plain": [
       "FloatProgress(value=0.0, layout=Layout(width='auto'), style=ProgressStyle(bar_color='black'))"
      ]
     },
     "metadata": {},
     "output_type": "display_data"
    },
    {
     "name": "stdout",
     "output_type": "stream",
     "text": [
      "<class 'pandas.core.frame.DataFrame'>\n",
      "RangeIndex: 411381 entries, 0 to 411380\n",
      "Data columns (total 2 columns):\n",
      " #   Column         Non-Null Count   Dtype \n",
      "---  ------         --------------   ----- \n",
      " 0   chave_usuario  411381 non-null  object\n",
      " 1   role           411381 non-null  object\n",
      "dtypes: object(2)\n",
      "memory usage: 6.3+ MB\n"
     ]
    }
   ],
   "source": [
    "sql = \"\"\"\n",
    "WITH cte_dados AS (\n",
    "    SELECT  DISTINCT \n",
    "            a.chave_usuario\n",
    "    ,       UNNEST(a.roles) AS role\n",
    "    FROM    dataset_df a\n",
    ")\n",
    "SELECT  a.chave_usuario\n",
    ",       a.role\n",
    "FROM    cte_dados a\n",
    "WHERE   a.chave_usuario          <> 'n/a'\n",
    "AND     a.role                   IS NOT NULL\n",
    "ORDER   BY a.chave_usuario\n",
    ",       role\n",
    "\"\"\"\n",
    "user_roles_df = conn.execute(sql).fetchdf()\n",
    "user_roles_df.to_parquet(USER_ROLES)\n",
    "user_roles_df.info(verbose=True, show_counts=True)"
   ]
  },
  {
   "cell_type": "markdown",
   "id": "b4f3f65d",
   "metadata": {},
   "source": [
    "É preciso verificar que perfis estão atribuídos a cada lotação da empresa pois quando calcula-se a vizinhança de um usuário, os limites organizacionais não irão ser respeitados, principalmente em casos onde a sub-árvore de unidades organizacionais for parcamente povoada.\n",
    "\n",
    "O recomendador sendo desenvolvido não irá sugerir perfis que não possuam ao menos 3 atribuições a uma lotação topo, visando eliminar recomendações de perfis que, apesar de figurarem na vizinhança de um usuário, podem não ser relevantes para recomendação.\n",
    "\n",
    "De maneira análoga em um recomendador de filmes, seria o equivalente de recomendar um filme com censura 18+ para um adolescente de 15 anos."
   ]
  },
  {
   "cell_type": "code",
   "execution_count": 8,
   "id": "72fd6622",
   "metadata": {},
   "outputs": [
    {
     "data": {
      "application/vnd.jupyter.widget-view+json": {
       "model_id": "102d5134b8bc4ac18f45fb9e9e070e7f",
       "version_major": 2,
       "version_minor": 0
      },
      "text/plain": [
       "FloatProgress(value=0.0, layout=Layout(width='auto'), style=ProgressStyle(bar_color='black'))"
      ]
     },
     "metadata": {},
     "output_type": "display_data"
    },
    {
     "name": "stdout",
     "output_type": "stream",
     "text": [
      "<class 'pandas.core.frame.DataFrame'>\n",
      "RangeIndex: 28171 entries, 0 to 28170\n",
      "Data columns (total 4 columns):\n",
      " #   Column         Non-Null Count  Dtype \n",
      "---  ------         --------------  ----- \n",
      " 0   lotacao_topo   28171 non-null  object\n",
      " 1   sigla_lotacao  28171 non-null  object\n",
      " 2   role           28171 non-null  object\n",
      " 3   atribuicoes    28171 non-null  int64 \n",
      "dtypes: int64(1), object(3)\n",
      "memory usage: 880.5+ KB\n"
     ]
    }
   ],
   "source": [
    "sql = \"\"\"\n",
    "WITH cte_dados AS (\n",
    "    SELECT  a.lotacao_topo\n",
    "    ,       a.sigla_lotacao\n",
    "    ,       UNNEST(a.roles) AS role\n",
    "    FROM    dataset_df a\n",
    ")\n",
    "SELECT  a.lotacao_topo\n",
    ",       a.sigla_lotacao\n",
    ",       a.role\n",
    ",       COUNT(*) as atribuicoes\n",
    "FROM    cte_dados a\n",
    "WHERE   a.sigla_lotacao          <> 'n/a'\n",
    "AND     a.role                   IS NOT NULL\n",
    "GROUP   BY a.sigla_lotacao\n",
    ",       a.lotacao_topo\n",
    ",       a.role\n",
    "HAVING  COUNT(*) >= 3\n",
    "ORDER   BY a.sigla_lotacao\n",
    ",       role\n",
    "\"\"\"\n",
    "orgunit_roles_df = conn.execute(sql).fetchdf()\n",
    "orgunit_roles_df.to_parquet(ORGUNIT_ROLES)\n",
    "orgunit_roles_df.info(verbose=True, show_counts=True)"
   ]
  },
  {
   "cell_type": "markdown",
   "id": "2608f9d9",
   "metadata": {},
   "source": [
    "Ao gerar uma recomendação, o fato do perfil possuir atribuições pré-existentes para usuários com o mesmo tipo de usuário, cargo, ênfase ou função gratificada deverá ser levado em conta para determinar a qualidade da recomendação.\n",
    "\n",
    "Por existirem diferenças significativas entre os perfis atribuídos para funcionários e prestadores de serviço, o recomendador de perfis somente recomenda perfis que já possuam atribuições para o mesmo tipo de funcionário."
   ]
  },
  {
   "cell_type": "code",
   "execution_count": 9,
   "id": "d52af301",
   "metadata": {},
   "outputs": [
    {
     "data": {
      "application/vnd.jupyter.widget-view+json": {
       "model_id": "24a6f6a179de46a8b2fd5cec8acd66a1",
       "version_major": 2,
       "version_minor": 0
      },
      "text/plain": [
       "FloatProgress(value=0.0, layout=Layout(width='auto'), style=ProgressStyle(bar_color='black'))"
      ]
     },
     "metadata": {},
     "output_type": "display_data"
    },
    {
     "name": "stdout",
     "output_type": "stream",
     "text": [
      "<class 'pandas.core.frame.DataFrame'>\n",
      "RangeIndex: 13865 entries, 0 to 13864\n",
      "Data columns (total 6 columns):\n",
      " #   Column        Non-Null Count  Dtype \n",
      "---  ------        --------------  ----- \n",
      " 0   tipo_usuario  13865 non-null  object\n",
      " 1   cargo         13865 non-null  object\n",
      " 2   enfase        13865 non-null  object\n",
      " 3   funcao        13865 non-null  object\n",
      " 4   role          13865 non-null  object\n",
      " 5   atribuicoes   13865 non-null  int64 \n",
      "dtypes: int64(1), object(5)\n",
      "memory usage: 650.0+ KB\n"
     ]
    }
   ],
   "source": [
    "sql = \"\"\"\n",
    "WITH cte_dados AS (\n",
    "    SELECT  a.tipo_usuario\n",
    "    ,       a.cargo\n",
    "    ,       a.enfase\n",
    "    ,       a.funcao\n",
    "    ,       UNNEST(a.roles) AS role\n",
    "    FROM    dataset_df a\n",
    ")\n",
    "SELECT  a.tipo_usuario\n",
    ",       a.cargo\n",
    ",       a.enfase\n",
    ",       a.funcao\n",
    ",       a.role\n",
    ",       COUNT(*) as atribuicoes\n",
    "FROM    cte_dados a\n",
    "WHERE   1=1\n",
    "AND     a.role                   IS NOT NULL\n",
    "GROUP   BY a.tipo_usuario\n",
    ",       a.cargo\n",
    ",       a.enfase\n",
    ",       a.funcao\n",
    ",       a.role\n",
    "HAVING  COUNT(*) >= 3 -- número mínimo de ocorrências\n",
    "ORDER   BY a.tipo_usuario\n",
    ",       a.cargo\n",
    ",       a.enfase\n",
    ",       a.funcao\n",
    ",       a.role\n",
    "\"\"\"\n",
    "function_roles_df = conn.execute(sql).fetchdf()\n",
    "function_roles_df.to_parquet(FUNCTION_ROLES)\n",
    "function_roles_df.info(verbose=True, show_counts=True)"
   ]
  },
  {
   "cell_type": "markdown",
   "id": "64cb11eb",
   "metadata": {},
   "source": [
    "Dado um usuário para recomendação de perfis, a existência de atribuições prévias para:\n",
    "\n",
    " - a mesma lotação topo;\n",
    " - a mesma lotação;\n",
    " - o mesmo tipo de usuário;\n",
    " - o mesmo cargo (ou falta de, no caso de prestadores de serviço);\n",
    " - a mesma ênfase (ou falta de, no caso de prestadores de serviço); e\n",
    " - a mesma função gratificada (ou falta de, no caso de prestadores de serviço e funcionários)\n",
    " \n",
    " São conjuntamente chamadas de atribuições categóricas e elas figuram de maneira proeminente no mecanismo de scoring das recomendações desenvolvido\n",
    " "
   ]
  }
 ],
 "metadata": {
  "kernelspec": {
   "display_name": "Python 3 (ipykernel)",
   "language": "python",
   "name": "python3"
  },
  "language_info": {
   "codemirror_mode": {
    "name": "ipython",
    "version": 3
   },
   "file_extension": ".py",
   "mimetype": "text/x-python",
   "name": "python",
   "nbconvert_exporter": "python",
   "pygments_lexer": "ipython3",
   "version": "3.10.10"
  }
 },
 "nbformat": 4,
 "nbformat_minor": 5
}
