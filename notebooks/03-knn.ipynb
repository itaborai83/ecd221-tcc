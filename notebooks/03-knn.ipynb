{
 "cells": [
  {
   "cell_type": "code",
   "execution_count": 1,
   "id": "016aee2c",
   "metadata": {},
   "outputs": [],
   "source": [
    "import os\n",
    "import numpy as np\n",
    "import pandas as pd\n",
    "import pynndescent\n",
    "import duckdb\n",
    "import pickle\n",
    "import scipy.sparse\n",
    "import importlib\n",
    "import json"
   ]
  },
  {
   "cell_type": "markdown",
   "id": "e940ae85",
   "metadata": {},
   "source": [
    "As variáveis de ambiente abaixo precisam ser configuradas antes da execução deste notebook. Vide o arquivo **setenv.ps1.example**"
   ]
  },
  {
   "cell_type": "code",
   "execution_count": 2,
   "id": "7d3fa15c",
   "metadata": {},
   "outputs": [
    {
     "name": "stdout",
     "output_type": "stream",
     "text": [
      "\n",
      "HASHED_FEATURES        = ./DATA/EXPERIMENTO-01/hashed_features.dat\n",
      "HASHED_FEATURES_IDX    = ./DATA/EXPERIMENTO-01/hashed_features_idx.parquet\n",
      "KNN_RANDOM_STATE       = 42\n",
      "KNN_METRIC             = manhattan\n",
      "KNN_NEIGHBORS          = 250\n",
      "KNN_INDEX              = ./DATA/EXPERIMENTO-01/knn_index.pickle\n",
      "\n"
     ]
    }
   ],
   "source": [
    "HASHED_FEATURES        = os.environ[\"HASHED_FEATURES\"]\n",
    "HASHED_FEATURES_IDX    = os.environ[\"HASHED_FEATURES_IDX\"]\n",
    "KNN_RANDOM_STATE       = int(os.environ[\"KNN_RANDOM_STATE\"])\n",
    "KNN_METRIC             = os.environ[\"KNN_METRIC\"]\n",
    "KNN_METRIC_PARAMS      = json.loads(os.environ[\"KNN_METRIC_PARAMS\"]) if json.loads(os.environ[\"KNN_METRIC_PARAMS\"]) else None\n",
    "KNN_NEIGHBORS          = int(os.environ[\"KNN_NEIGHBORS\"])\n",
    "KNN_INDEX              = os.environ[\"KNN_INDEX\"]\n",
    "\n",
    "print(f\"\"\"\n",
    "HASHED_FEATURES        = {HASHED_FEATURES}\n",
    "HASHED_FEATURES_IDX    = {HASHED_FEATURES_IDX}\n",
    "KNN_RANDOM_STATE       = {KNN_RANDOM_STATE}\n",
    "KNN_METRIC             = {KNN_METRIC}\n",
    "KNN_METRIC_PARAMS      = {KNN_METRIC_PARAMS}\n",
    "KNN_NEIGHBORS          = {KNN_NEIGHBORS}\n",
    "KNN_INDEX              = {KNN_INDEX}\n",
    "\"\"\")"
   ]
  },
  {
   "cell_type": "markdown",
   "id": "bbeda346",
   "metadata": {},
   "source": [
    "Os dados gerados pelo notebook anterior são lidos abaixo"
   ]
  },
  {
   "cell_type": "code",
   "execution_count": 3,
   "id": "c0e360ec",
   "metadata": {},
   "outputs": [
    {
     "data": {
      "text/plain": [
       "(91798, 100000)"
      ]
     },
     "execution_count": 3,
     "metadata": {},
     "output_type": "execute_result"
    }
   ],
   "source": [
    "hashed_features = scipy.sparse.load_npz(HASHED_FEATURES + \".npz\").tocsr()\n",
    "hashed_features.shape"
   ]
  },
  {
   "cell_type": "code",
   "execution_count": 4,
   "id": "e1f9aceb",
   "metadata": {},
   "outputs": [
    {
     "data": {
      "text/plain": [
       "scipy.sparse._csr.csr_matrix"
      ]
     },
     "execution_count": 4,
     "metadata": {},
     "output_type": "execute_result"
    }
   ],
   "source": [
    "type(hashed_features)"
   ]
  },
  {
   "cell_type": "code",
   "execution_count": 5,
   "id": "648ca8e4",
   "metadata": {},
   "outputs": [
    {
     "name": "stdout",
     "output_type": "stream",
     "text": [
      "<class 'pandas.core.frame.DataFrame'>\n",
      "RangeIndex: 91798 entries, 0 to 91797\n",
      "Data columns (total 8 columns):\n",
      " #   Column         Non-Null Count  Dtype \n",
      "---  ------         --------------  ----- \n",
      " 0   index          91798 non-null  int64 \n",
      " 1   chave_usuario  91798 non-null  object\n",
      " 2   lotacao_topo   91798 non-null  object\n",
      " 3   sigla_lotacao  91798 non-null  object\n",
      " 4   tipo_usuario   91798 non-null  object\n",
      " 5   cargo          91798 non-null  object\n",
      " 6   enfase         91798 non-null  object\n",
      " 7   funcao         91798 non-null  object\n",
      "dtypes: int64(1), object(7)\n",
      "memory usage: 5.6+ MB\n"
     ]
    }
   ],
   "source": [
    "hashed_features_idx = pd.read_parquet(HASHED_FEATURES_IDX)\n",
    "hashed_features_idx.info(verbose=True, show_counts=True)"
   ]
  },
  {
   "cell_type": "markdown",
   "id": "bf07b758",
   "metadata": {},
   "source": [
    "A biblioteca PyNNDescent é utilizada na classe abaixo para indexar a matriz esparsa de usuários x hashed features.\n",
    "\n",
    "Como esta funcionalidade precisará ser reutilizada no recomendador, estamos escrevendo a mesma em uma classe separada para possibilitar posterior reuso."
   ]
  },
  {
   "cell_type": "code",
   "execution_count": 6,
   "id": "f3f305a0",
   "metadata": {},
   "outputs": [
    {
     "name": "stdout",
     "output_type": "stream",
     "text": [
      "Overwriting knn_indexer.py\n"
     ]
    }
   ],
   "source": [
    "%%writefile knn_indexer.py\n",
    "import numpy as np\n",
    "import pickle\n",
    "import pynndescent\n",
    "\n",
    "class KnnIndex:\n",
    "    \n",
    "    def __init__(self, metric, metric_params, n_neighbors, random_state):\n",
    "        self.metric        = metric\n",
    "        self.metric_params = metric_params\n",
    "        self.n_neighbors   = n_neighbors\n",
    "        self.random_state  = random_state\n",
    "        self.data          = None\n",
    "        self.neighbors_of  = None\n",
    "        self.distances_of  = None\n",
    "\n",
    "    def index(self, data):\n",
    "        knn_index = pynndescent.NNDescent(\n",
    "            data         = data\n",
    "        ,   metric       = self.metric\n",
    "        ,   metric_kwds  = self.metric_params \n",
    "        ,   n_neighbors  = self.n_neighbors\n",
    "        ,   random_state = self.random_state\n",
    "        ,   n_jobs       = -1\n",
    "        ,   low_memory   = False\n",
    "        ,   verbose      = True\n",
    "        ,   compressed   = False # neighbor_graph is deleted when the index is compressed\n",
    "        )\n",
    "        neighbors, distances = knn_index.neighbor_graph\n",
    "        self.data            = data\n",
    "        self.neighbors_of    = neighbors.astype(\"int32\", copy=False)\n",
    "        self.distances_of    = distances.astype(\"float32\", copy=False)\n",
    "\n",
    "    def save(self, filename):\n",
    "        with open(filename, \"wb\") as fh:\n",
    "            pickle.dump(self, fh)\n",
    "            \n",
    "    def get_row(self, idx):\n",
    "        assert self.data is not None\n",
    "        return self.data[idx]\n",
    "    \n",
    "    def get_neighbors(self, idx):\n",
    "        assert self.data is not None\n",
    "        neighbors = self.neighbors_of[idx]\n",
    "        distances = self.distances_of[idx]\n",
    "        return neighbors, distances\n",
    "    \n",
    "    @classmethod\n",
    "    def load(klass, filename):\n",
    "        with open(filename, \"rb\") as fh:\n",
    "            return pickle.load(fh)"
   ]
  },
  {
   "cell_type": "markdown",
   "id": "f8ba9873",
   "metadata": {},
   "source": [
    "O código abaixo serve para recarregar o módulo em que a classe **KnnIndex** é criada.\n",
    "\n",
    "Por padrão um módulo não é reimportado caso uma instrução import seja repetida"
   ]
  },
  {
   "cell_type": "code",
   "execution_count": 7,
   "id": "ab798a33",
   "metadata": {},
   "outputs": [],
   "source": [
    "import knn_indexer\n",
    "importlib.reload(knn_indexer)\n",
    "from knn_indexer import KnnIndex"
   ]
  },
  {
   "cell_type": "markdown",
   "id": "f35d2573",
   "metadata": {},
   "source": [
    "O método abaixo indexa os 85.000+ usuários indicando quais são os KNN_NEIGHBORS mais próximos utilizando a biblioteca PyNNDescent.\n",
    "\n",
    "Esta é a parte mais lenta do processamento da solução, apesar do uso de múltiplas CPU's.\n",
    "\n",
    "Dado a elevada dimensionalidade do conjunto de dados somada ao uso de KNN_NEIGHBORS(atualmente 250), a biblioteca PyNNDescent não consegue criar o grafo de vizinhos que possibilita o cômputo dinâmico do KNN aproximado (grafo criado implicitamente na primeira query ou quando o método *prepare* é chamado). Ao tentar criar o grafo, o consumo de memória excede 20+ gigas e ocasiona no término do processo.\n",
    "\n",
    "Esta limitação indica que o recomendador não funciona para usuários não presentes no conjunto de dados processado.\n",
    "\n",
    "Para que seja possível recomendar perfis para usuários ainda não vistos, seria preciso avaliar algumas das possibilidades abaixo:\n",
    "\n",
    " 1 - Entender a causa da explosão do consumo de memória dentro da biblioteca PyNNDescent. Potencialmente sendo causada pela  convertão (possivelmente implícita) de linhas da matriz esparsa (que hoje utiliza 500.000 colunas) em linhas densas.\n",
    " \n",
    " 2 - Utilizar alguma técnica de redução de dimensionalidade, como por exemplo o refatoramento da matriz usando **Singular Value Decomposition** ou **Non-Negative Matrix Factorization**.\n",
    " \n",
    " 3 - Reduzir o conjunto de dados global por múltiplos conjuntos de dados por lotação topo.\n",
    " \n",
    " Estes 3 pontos, entretanto, encontram-se fora do escopo desse trabalho"
   ]
  },
  {
   "cell_type": "code",
   "execution_count": 8,
   "id": "59b1e155",
   "metadata": {},
   "outputs": [
    {
     "name": "stdout",
     "output_type": "stream",
     "text": [
      "Sun Aug 27 17:35:18 2023 Building RP forest with 22 trees\n",
      "Sun Aug 27 17:35:37 2023 metric NN descent for 16 iterations\n",
      "\t 1  /  16\n",
      "\t 2  /  16\n",
      "\t 3  /  16\n",
      "\t 4  /  16\n",
      "\t 5  /  16\n",
      "\t 6  /  16\n",
      "\t 7  /  16\n",
      "\tStopping threshold met -- exiting after 7 iterations\n"
     ]
    }
   ],
   "source": [
    "knn_index = KnnIndex(\n",
    "    metric        = KNN_METRIC\n",
    ",   metric_params = KNN_METRIC_PARAMS\n",
    ",   n_neighbors   = KNN_NEIGHBORS\n",
    ",   random_state  = KNN_RANDOM_STATE\n",
    ")\n",
    "knn_index.index(hashed_features)"
   ]
  },
  {
   "cell_type": "markdown",
   "id": "e1232980",
   "metadata": {},
   "source": [
    "Uma vez calculado os K vizinhos mais próximos, é possível obter a lista de índices dos vizinhos assim como suas respectivas distâncias. O arquivo parquet HASHED_FEATURES_IDX contém os índices das linhas correspondentes a cada usuário no conjunto de dados processado.\n",
    "\n",
    "Atualmente a métrica de distância utilizada é a distância do cosseno baseada na similaridade do cosseno (1 - similaridade). Esta distância calcula basicamente o ângulo em espaço n-vetorial que dois vetores formam entre si, sendo que quanto menor a distância mais próximos estes vetores se encontram. A distância varia entre 0.0 e 1.0 e este intervalo limitado é utilizado posteriormente na fórmula de *scoring* dos perfis recomendados"
   ]
  },
  {
   "cell_type": "code",
   "execution_count": 9,
   "id": "6982bd2e",
   "metadata": {},
   "outputs": [
    {
     "data": {
      "text/plain": [
       "array([    0, 29301, 16115, 85550, 27715, 69840, 29939, 29008, 25392,\n",
       "       19955, 40571, 61978,   958,  8853, 27035, 55804, 11492, 26039,\n",
       "        5356, 63071, 61360,  5624, 62911, 10523, 27483,  5663, 20132,\n",
       "       27484, 30088,  3673, 25557, 68230, 14074, 63010, 57121, 26533,\n",
       "       26093, 14721, 62846, 28929, 26792, 35310, 70013,  1609, 34924,\n",
       "       31611, 85531, 26134, 76791, 26430, 58558, 28586, 64330, 34070,\n",
       "       35295,  5596, 87270,  9960, 30490, 35230, 34123, 28583,  8680,\n",
       "       33236,  1021,  5862, 35024, 14868, 63679, 28390, 64022, 19596,\n",
       "       34034, 68663,  1207, 62974, 18846, 34923,  1707, 25323, 35710,\n",
       "       24243, 58823, 40446,  2222, 26534, 30285,  2241, 27355,  2235,\n",
       "       26416, 13147, 26990, 85494, 58697, 40488, 63805, 18435, 73850,\n",
       "       11969, 32633,  2229, 87377, 26193, 26927, 39901, 76662, 40579,\n",
       "        2923, 70699,  3185, 16682, 18450,  2937, 32675, 26857, 90735,\n",
       "       32641, 78922, 31347, 32624, 70475, 28617,  2223, 26635, 16132,\n",
       "         155, 73762,  8556, 39920, 33989, 59523,  7859, 69698, 26008,\n",
       "       85293, 26195, 38813, 16732, 38300, 72883, 19254,  1083, 29154,\n",
       "        3134, 25338, 13645, 39352, 85500,  1279, 48439, 70751, 48632,\n",
       "        7925, 32627, 28508, 36511, 14097, 26422, 48636, 60950, 25801,\n",
       "        7873, 67470, 72279, 14722, 32822,  7388, 34027, 40586, 44177,\n",
       "        1019, 28595,  7323, 11552, 19850, 67600, 11891, 17850,  7004,\n",
       "       27538, 26660, 62484, 55149, 16939, 91672, 83821, 85270, 61863,\n",
       "        8292, 16053, 85446, 16383, 75577, 29116, 91789, 55494, 10145,\n",
       "       68410, 87811, 63388, 90883,  7247, 21968, 64701, 59631, 16423,\n",
       "       78367,  7664,  7191, 42369, 20082, 28608, 63072, 35236, 85791,\n",
       "       91604, 69803, 16424, 75363, 18230, 40516, 26805, 34735, 90850,\n",
       "       39964, 76671, 62071, 18880,  5539, 11092, 10004, 61183, 29397,\n",
       "       43095, 43878, 36307,  3271,  7640, 76669, 27027, 39916, 91749,\n",
       "       63861, 31346, 87281, 68881, 85296,  2032, 60737])"
      ]
     },
     "metadata": {},
     "output_type": "display_data"
    },
    {
     "data": {
      "text/plain": [
       "array([ 0.       ,  9.8494625, 10.169329 , 12.091906 , 12.121661 ,\n",
       "       12.275476 , 13.914285 , 13.970804 , 13.979214 , 13.983862 ,\n",
       "       14.044023 , 14.10435  , 14.469419 , 14.5154915, 14.598303 ,\n",
       "       14.896113 , 14.943519 , 14.968422 , 15.047182 , 15.07796  ,\n",
       "       15.117229 , 15.139833 , 15.157316 , 15.194816 , 15.358604 ,\n",
       "       15.490989 , 15.607591 , 15.632371 , 15.664402 , 15.872202 ,\n",
       "       15.929386 , 15.973163 , 16.023907 , 16.085327 , 16.200129 ,\n",
       "       16.282007 , 16.297909 , 16.351389 , 16.668652 , 16.89818  ,\n",
       "       17.00733  , 17.108398 , 17.221188 , 17.44167  , 17.64549  ,\n",
       "       17.6684   , 18.03335  , 18.03909  , 18.202145 , 18.386244 ,\n",
       "       19.075531 , 19.147734 , 19.227869 , 19.371809 , 19.491138 ,\n",
       "       19.638369 , 19.76654  , 19.813269 , 19.869047 , 19.881018 ,\n",
       "       20.264196 , 20.330889 , 20.413258 , 20.807522 , 20.811481 ,\n",
       "       21.049875 , 21.277863 , 21.58285  , 21.846647 , 22.107939 ,\n",
       "       22.431646 , 22.563532 , 22.574785 , 23.868124 , 23.877634 ,\n",
       "       24.372395 , 24.417242 , 24.4202   , 24.463682 , 24.526995 ,\n",
       "       24.636175 , 24.788229 , 25.44478  , 25.4579   , 25.524963 ,\n",
       "       25.59844  , 26.278955 , 26.380589 , 26.582512 , 26.60012  ,\n",
       "       26.698446 , 27.064041 , 27.264154 , 27.679873 , 28.099964 ,\n",
       "       28.641006 , 28.648693 , 28.730284 , 28.905472 , 29.020628 ,\n",
       "       29.34637  , 29.785458 , 29.88015  , 29.905643 , 29.936043 ,\n",
       "       30.526558 , 31.098219 , 31.355146 , 31.653786 , 31.78888  ,\n",
       "       32.32217  , 32.550873 , 33.77298  , 33.938927 , 34.308784 ,\n",
       "       34.368404 , 34.37003  , 34.8252   , 34.88744  , 34.982525 ,\n",
       "       35.07387  , 35.676907 , 35.83426  , 36.558178 , 36.658676 ,\n",
       "       36.66555  , 36.679726 , 36.900146 , 38.115364 , 38.600864 ,\n",
       "       39.588066 , 40.58336  , 41.68648  , 41.717945 , 41.955326 ,\n",
       "       42.20153  , 42.24357  , 42.440643 , 42.83336  , 43.040512 ,\n",
       "       44.433117 , 44.575363 , 44.86581  , 45.910107 , 46.140793 ,\n",
       "       46.233192 , 46.418224 , 46.433796 , 46.46831  , 46.574535 ,\n",
       "       46.66507  , 46.93181  , 46.959175 , 47.18487  , 47.432735 ,\n",
       "       47.868107 , 48.358017 , 48.557884 , 48.582508 , 48.66507  ,\n",
       "       49.07094  , 49.493855 , 49.555683 , 49.8524   , 50.186028 ,\n",
       "       50.245052 , 50.54891  , 50.959515 , 51.097088 , 51.455154 ,\n",
       "       51.534023 , 51.566483 , 51.67506  , 52.30419  , 52.40937  ,\n",
       "       52.561188 , 52.614033 , 52.643288 , 52.823452 , 53.110348 ,\n",
       "       53.180275 , 53.328945 , 53.58426  , 53.64186  , 53.69648  ,\n",
       "       53.72162  , 53.99771  , 54.263805 , 54.301483 , 54.3446   ,\n",
       "       54.353104 , 54.45387  , 54.535885 , 54.535885 , 54.623104 ,\n",
       "       54.688496 , 54.758106 , 54.786377 , 54.78961  , 54.831474 ,\n",
       "       54.93327  , 55.015465 , 55.191486 , 55.325085 , 55.373055 ,\n",
       "       55.394722 , 55.426483 , 55.49068  , 55.575085 , 55.575085 ,\n",
       "       55.660885 , 55.888966 , 55.90195  , 55.962185 , 56.050327 ,\n",
       "       56.094463 , 56.249397 , 56.304993 , 56.44426  , 56.450085 ,\n",
       "       56.450085 , 56.5826   , 56.73339  , 56.750805 , 56.804127 ,\n",
       "       57.072487 , 57.264984 , 57.31148  , 57.318214 , 57.35565  ,\n",
       "       57.64977  , 57.716015 , 58.02722  , 58.204967 , 58.2093   ,\n",
       "       58.28305  , 58.306973 , 58.413895 , 58.42473  , 58.42904  ,\n",
       "       58.430103 , 58.75664  , 58.764397 , 58.785885 , 58.86704  ,\n",
       "       58.98281  , 59.04469  , 59.214455 , 59.28937  , 59.33629  ],\n",
       "      dtype=float32)"
      ]
     },
     "metadata": {},
     "output_type": "display_data"
    }
   ],
   "source": [
    "neighbors, distances = knn_index.get_neighbors(0)\n",
    "display(neighbors)\n",
    "display(distances)"
   ]
  },
  {
   "cell_type": "markdown",
   "id": "c005010c",
   "metadata": {},
   "source": [
    "O índice, uma vez calculado, é salvo para poder ser consultado posteriormente."
   ]
  },
  {
   "cell_type": "code",
   "execution_count": 10,
   "id": "d0c90354",
   "metadata": {},
   "outputs": [
    {
     "name": "stdout",
     "output_type": "stream",
     "text": [
      "knn index has been built -> ./DATA/EXPERIMENTO-01/knn_index.pickle\n"
     ]
    }
   ],
   "source": [
    "knn_index.save(KNN_INDEX)\n",
    "print(f\"knn index has been built -> {KNN_INDEX}\")"
   ]
  }
 ],
 "metadata": {
  "kernelspec": {
   "display_name": "Python 3 (ipykernel)",
   "language": "python",
   "name": "python3"
  },
  "language_info": {
   "codemirror_mode": {
    "name": "ipython",
    "version": 3
   },
   "file_extension": ".py",
   "mimetype": "text/x-python",
   "name": "python",
   "nbconvert_exporter": "python",
   "pygments_lexer": "ipython3",
   "version": "3.10.10"
  }
 },
 "nbformat": 4,
 "nbformat_minor": 5
}
