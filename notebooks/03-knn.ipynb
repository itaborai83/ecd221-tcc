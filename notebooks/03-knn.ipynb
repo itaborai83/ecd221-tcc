{
 "cells": [
  {
   "cell_type": "code",
   "execution_count": 1,
   "id": "016aee2c",
   "metadata": {},
   "outputs": [],
   "source": [
    "import os\n",
    "import numpy as np\n",
    "import pandas as pd\n",
    "import pynndescent\n",
    "import duckdb\n",
    "import pickle\n",
    "import scipy.sparse\n",
    "import importlib"
   ]
  },
  {
   "cell_type": "markdown",
   "id": "e940ae85",
   "metadata": {},
   "source": [
    "As variáveis de ambiente abaixo precisam ser configuradas antes da execução deste notebook. Vide o arquivo **setenv.ps1.example**"
   ]
  },
  {
   "cell_type": "code",
   "execution_count": 2,
   "id": "7d3fa15c",
   "metadata": {},
   "outputs": [
    {
     "name": "stdout",
     "output_type": "stream",
     "text": [
      "\n",
      "HASHED_FEATURES        = ./DATA/hashed_features.dat\n",
      "HASHED_FEATURES_IDX    = ./DATA/hashed_features_idx.parquet\n",
      "KNN_RANDOM_STATE       = 42\n",
      "KNN_METRIC             = cosine\n",
      "KNN_NEIGHBORS          = 250\n",
      "KNN_INDEX              = ./DATA/knn_index.pickle\n",
      "\n"
     ]
    }
   ],
   "source": [
    "HASHED_FEATURES        = os.environ[\"HASHED_FEATURES\"]\n",
    "HASHED_FEATURES_IDX    = os.environ[\"HASHED_FEATURES_IDX\"]\n",
    "KNN_RANDOM_STATE       = int(os.environ[\"KNN_RANDOM_STATE\"])\n",
    "KNN_METRIC             = os.environ[\"KNN_METRIC\"]\n",
    "KNN_NEIGHBORS          = int(os.environ[\"KNN_NEIGHBORS\"])\n",
    "KNN_INDEX              = os.environ[\"KNN_INDEX\"]\n",
    "\n",
    "print(f\"\"\"\n",
    "HASHED_FEATURES        = {HASHED_FEATURES}\n",
    "HASHED_FEATURES_IDX    = {HASHED_FEATURES_IDX}\n",
    "KNN_RANDOM_STATE       = {KNN_RANDOM_STATE}\n",
    "KNN_METRIC             = {KNN_METRIC}\n",
    "KNN_NEIGHBORS          = {KNN_NEIGHBORS}\n",
    "KNN_INDEX              = {KNN_INDEX}\n",
    "\"\"\")"
   ]
  },
  {
   "cell_type": "markdown",
   "id": "bbeda346",
   "metadata": {},
   "source": [
    "Os dados gerados pelo notebook anterior são lidos abaixo"
   ]
  },
  {
   "cell_type": "code",
   "execution_count": 3,
   "id": "c0e360ec",
   "metadata": {},
   "outputs": [
    {
     "data": {
      "text/plain": [
       "(86332, 500000)"
      ]
     },
     "execution_count": 3,
     "metadata": {},
     "output_type": "execute_result"
    }
   ],
   "source": [
    "hashed_features = scipy.sparse.load_npz(HASHED_FEATURES + \".npz\").tocsr()\n",
    "hashed_features.shape"
   ]
  },
  {
   "cell_type": "code",
   "execution_count": 4,
   "id": "e1f9aceb",
   "metadata": {},
   "outputs": [
    {
     "data": {
      "text/plain": [
       "scipy.sparse._csr.csr_matrix"
      ]
     },
     "execution_count": 4,
     "metadata": {},
     "output_type": "execute_result"
    }
   ],
   "source": [
    "type(hashed_features)"
   ]
  },
  {
   "cell_type": "code",
   "execution_count": 5,
   "id": "648ca8e4",
   "metadata": {},
   "outputs": [
    {
     "name": "stdout",
     "output_type": "stream",
     "text": [
      "<class 'pandas.core.frame.DataFrame'>\n",
      "RangeIndex: 86332 entries, 0 to 86331\n",
      "Data columns (total 8 columns):\n",
      " #   Column         Non-Null Count  Dtype \n",
      "---  ------         --------------  ----- \n",
      " 0   index          86332 non-null  int64 \n",
      " 1   chave_usuario  86300 non-null  object\n",
      " 2   lotacao_topo   86332 non-null  object\n",
      " 3   sigla_lotacao  86332 non-null  object\n",
      " 4   tipo_usuario   86332 non-null  object\n",
      " 5   cargo          86332 non-null  object\n",
      " 6   enfase         86332 non-null  object\n",
      " 7   funcao         86332 non-null  object\n",
      "dtypes: int64(1), object(7)\n",
      "memory usage: 5.3+ MB\n"
     ]
    }
   ],
   "source": [
    "hashed_features_idx = pd.read_parquet(HASHED_FEATURES_IDX)\n",
    "hashed_features_idx.info(verbose=True, show_counts=True)"
   ]
  },
  {
   "cell_type": "markdown",
   "id": "bf07b758",
   "metadata": {},
   "source": [
    "A biblioteca PyNNDescent é utilizada na classe abaixo para indexar a matriz esparsa de usuários x hashed features.\n",
    "\n",
    "Como esta funcionalidade precisará ser reutilizada no recomendador, estamos escrevendo a mesma em uma classe separada para possibilitar posterior reuso."
   ]
  },
  {
   "cell_type": "code",
   "execution_count": 6,
   "id": "f3f305a0",
   "metadata": {},
   "outputs": [
    {
     "name": "stdout",
     "output_type": "stream",
     "text": [
      "Overwriting knn_indexer.py\n"
     ]
    }
   ],
   "source": [
    "%%writefile knn_indexer.py\n",
    "import numpy as np\n",
    "import pickle\n",
    "import pynndescent\n",
    "\n",
    "class KnnIndex:\n",
    "    \n",
    "    def __init__(self, metric, n_neighbors, random_state):\n",
    "        self.metric       = metric\n",
    "        self.n_neighbors  = n_neighbors\n",
    "        self.random_state = random_state\n",
    "        self.data         = None\n",
    "        self.neighbors_of = None\n",
    "        self.distances_of = None\n",
    "\n",
    "    def index(self, data):\n",
    "        knn_index = pynndescent.NNDescent(\n",
    "            data         = data\n",
    "        ,   metric       = self.metric\n",
    "        ,   n_neighbors  = self.n_neighbors\n",
    "        ,   random_state = self.random_state\n",
    "        ,   low_memory   = True\n",
    "        ,   verbose      = True\n",
    "        ,   compressed   = False # neighbor_graph is deleted when the index is compressed\n",
    "        )\n",
    "        neighbors, distances = knn_index.neighbor_graph\n",
    "        self.data            = data\n",
    "        self.neighbors_of    = neighbors.astype(\"int32\", copy=False)\n",
    "        self.distances_of    = distances.astype(\"float32\", copy=False)\n",
    "\n",
    "    def save(self, filename):\n",
    "        with open(filename, \"wb\") as fh:\n",
    "            pickle.dump(self, fh)\n",
    "            \n",
    "    def get_row(self, idx):\n",
    "        assert self.data is not None\n",
    "        return self.data[idx]\n",
    "    \n",
    "    def get_neighbors(self, idx):\n",
    "        assert self.data is not None\n",
    "        neighbors = self.neighbors_of[idx]\n",
    "        distances = self.distances_of[idx]\n",
    "        return neighbors, distances\n",
    "    \n",
    "    @classmethod\n",
    "    def load(klass, filename):\n",
    "        with open(filename, \"rb\") as fh:\n",
    "            return pickle.load(fh)"
   ]
  },
  {
   "cell_type": "markdown",
   "id": "f8ba9873",
   "metadata": {},
   "source": [
    "O código abaixo serve para recarregar o módulo em que a classe **KnnIndex** é criada.\n",
    "\n",
    "Por padrão um módulo não é reimportado caso uma instrução import seja repetida"
   ]
  },
  {
   "cell_type": "code",
   "execution_count": 7,
   "id": "ab798a33",
   "metadata": {},
   "outputs": [],
   "source": [
    "import knn_indexer\n",
    "importlib.reload(knn_indexer)\n",
    "from knn_indexer import KnnIndex"
   ]
  },
  {
   "cell_type": "markdown",
   "id": "f35d2573",
   "metadata": {},
   "source": [
    "O método abaixo indexa os 85.000+ usuários indicando quais são os KNN_NEIGHBORS mais próximos utilizando a biblioteca PyNNDescent.\n",
    "\n",
    "Esta é a parte mais lenta do processamento da solução, apesar do uso de múltiplas CPU's.\n",
    "\n",
    "Dado a elevada dimensionalidade do conjunto de dados somada ao uso de KNN_NEIGHBORS(atualmente 250), a biblioteca PyNNDescent não consegue criar o grafo de vizinhos que possibilita o cômputo dinâmico do KNN aproximadO (grafo criado implicitamente na primeira query ou quando o método *prepare* é chamado). Ao tentar criar o grafo, o consumo de memória excede 20+ gigas e ocasiona no término do processo.\n",
    "\n",
    "Esta limitação indica que o recomendador não funciona para usuários não presentes no conjunto de dados processado.\n",
    "\n",
    "Para que seja possível recomendar perfis para usuários ainda não vistos, seria preciso avaliar algumas das possibilidades abaixo:\n",
    "\n",
    " 1 - Entender a causa da explosão do consumo de memória dentro da biblioteca PyNNDescent. Potencialmente sendo causada pela  convertão (possivelmente implícita) de linhas da matriz esparsa (que hoje utiliza 500.000 colunas) em linhas densas.\n",
    " \n",
    " 2 - Utilizar alguma técnica de redução de dimensionalidade, como por exemplo o refatoramento da matriz usando **Singular Value Decomposition** ou **Non-Negative Matrix Factorization**.\n",
    " \n",
    " 3 - Reduzir o conjunto de dados global por múltiplos conjuntos de dados por lotação topo.\n",
    " \n",
    " Estes 3 pontos, entretanto, encontram-se fora do escopo desse trabalho"
   ]
  },
  {
   "cell_type": "code",
   "execution_count": null,
   "id": "59b1e155",
   "metadata": {},
   "outputs": [
    {
     "name": "stdout",
     "output_type": "stream",
     "text": [
      "Sun Jul 16 16:29:31 2023 Building RP forest with 22 trees\n",
      "Sun Jul 16 16:29:43 2023 metric NN descent for 16 iterations\n"
     ]
    }
   ],
   "source": [
    "knn_index = KnnIndex(\n",
    "    metric       = KNN_METRIC\n",
    ",   n_neighbors  = KNN_NEIGHBORS\n",
    ",   random_state = KNN_RANDOM_STATE\n",
    ")\n",
    "knn_index.index(hashed_features)"
   ]
  },
  {
   "cell_type": "markdown",
   "id": "e1232980",
   "metadata": {},
   "source": [
    "Uma vez calculado os K vizinhos mais próximos, é possível obter a lista de índices dos vizinhos assim como suas respectivas distâncias. O arquivo parquet HASHED_FEATURES_IDX contém os índices das linhas correspondentes a cada usuário no conjunto de dados processado.\n",
    "\n",
    "Atualmente a métrica de distância utilizada é a distância do cosseno baseada na similaridade do cosseno (1 - similaridade). Esta distância calcula basicamente o ângulo em espaço n-vetorial que dois vetores formam entre si, sendo que quanto menor a distância mais próximos estes vetores se encontram. A distância varia entre 0.0 e 1.0 e este intervalo limitado é utilizado posteriormente na fórmula de *scoring* dos perfis recomendados"
   ]
  },
  {
   "cell_type": "code",
   "execution_count": 11,
   "id": "6982bd2e",
   "metadata": {},
   "outputs": [
    {
     "data": {
      "text/plain": [
       "array([11080,     0, 59152, 51250, 24581, 24742, 58253,  5381, 29334,\n",
       "       19220, 81875,  5129, 64794, 59437, 28229,   967, 80180, 58105,\n",
       "       27382, 26544, 58198, 38320, 27953, 56639, 10148, 14332, 25573,\n",
       "         908, 26130, 64954, 25287, 58041, 26495, 15523, 28842, 26753,\n",
       "        5354, 63230,  5418,  9597, 32426, 57225, 28978, 32496, 13568,\n",
       "        8499, 19391, 25197, 71572, 14190, 33207,  3496, 33537, 52526,\n",
       "       33525, 33464, 58827,  8329, 53906, 30310, 26543,  1146, 31718,\n",
       "        5602, 25909, 32453, 27874,  1514, 80161, 63641, 33206, 18867,\n",
       "       27564, 27567, 54165, 23454, 12672, 27360,  1602,  7567, 18159,\n",
       "       38197, 68702, 26431, 25670, 65608, 58165, 29158, 24517,  2119,\n",
       "        2101,  8208, 54040, 25559, 33876, 38327, 80129, 38239, 11533,\n",
       "        2113, 26032, 17764, 31191,  2108, 81978, 26091, 71450, 37677,\n",
       "       15539, 85250, 73627, 58949, 54850,  7533, 32389,  2780, 45425,\n",
       "       45592, 25760,  2102, 16067,  2791,  7597, 36230, 45589, 27496,\n",
       "       31234, 31198, 31186, 17778, 36671,  7546, 30065,   145, 25344,\n",
       "       13162, 79938, 11138,  2973, 64653, 25165,  3021, 24531,  7435,\n",
       "       25765, 37153, 28088, 37694, 13591, 68622, 26590, 33245, 25922,\n",
       "        9637, 16111,  6720, 14191, 34592, 32419,  7094, 58254, 34408,\n",
       "       52742,  1025, 67757, 80134, 29889, 62494, 25565, 27576, 31188,\n",
       "        1212, 28322, 71458, 18193, 41545, 11458, 25530, 33470, 39897,\n",
       "       57118, 54949, 50692,  9776, 50950, 15467, 70398, 15782, 59790,\n",
       "       64757, 33538, 19116, 65394, 31355, 17199, 41278, 40576, 27717,\n",
       "       16311,  7335, 15817, 57310, 57698, 65662, 24969, 19347, 26317,\n",
       "       80417, 30608, 38334, 79917, 33527, 15818, 78487, 38266, 26284,\n",
       "       37691, 50621, 56245, 62623, 57061, 76354, 80079, 70708, 71457,\n",
       "       80080, 41035,  6902,  7358, 15492,  7414,  7316, 25676, 63852,\n",
       "       64499, 79749, 53309, 37738, 26216, 62702, 74127, 71467, 56111,\n",
       "       53872, 51609, 41482, 32847, 33052, 73084, 65355])"
      ]
     },
     "metadata": {},
     "output_type": "display_data"
    },
    {
     "data": {
      "text/plain": [
       "array([1.19209268e-07, 1.19209268e-07, 1.09134745e-02, 1.09134745e-02,\n",
       "       1.09134745e-02, 1.09134745e-02, 1.09134745e-02, 1.09134745e-02,\n",
       "       1.11570377e-02, 1.11570377e-02, 1.11570377e-02, 1.11570377e-02,\n",
       "       1.11570377e-02, 1.11570377e-02, 1.11570377e-02, 1.11570377e-02,\n",
       "       1.11570377e-02, 1.11570377e-02, 1.11570377e-02, 1.11570377e-02,\n",
       "       1.11570377e-02, 1.11570377e-02, 1.11570377e-02, 1.11570377e-02,\n",
       "       1.11570377e-02, 1.11570377e-02, 1.11570377e-02, 1.11570377e-02,\n",
       "       1.11570377e-02, 1.11570377e-02, 1.11570377e-02, 1.11570377e-02,\n",
       "       1.11570377e-02, 1.11570377e-02, 1.11570377e-02, 1.11570377e-02,\n",
       "       2.14771815e-02, 2.14771815e-02, 2.21894905e-02, 2.21894905e-02,\n",
       "       2.21894905e-02, 2.21894905e-02, 2.21894905e-02, 2.21894905e-02,\n",
       "       2.21894905e-02, 2.21894905e-02, 2.21894905e-02, 2.21894905e-02,\n",
       "       2.21894905e-02, 2.21894905e-02, 2.21894905e-02, 2.21894905e-02,\n",
       "       2.21894905e-02, 2.21894905e-02, 3.28606367e-02, 3.28606367e-02,\n",
       "       3.28606367e-02, 3.28606367e-02, 3.28606367e-02, 3.35967802e-02,\n",
       "       3.35967802e-02, 3.35967802e-02, 3.38572338e-02, 4.31899726e-02,\n",
       "       4.43788283e-02, 4.43788283e-02, 4.43788283e-02, 4.43788283e-02,\n",
       "       4.54098433e-02, 5.12466095e-02, 5.48078157e-02, 5.60364090e-02,\n",
       "       5.60364090e-02, 5.60364090e-02, 5.68242483e-02, 6.49028346e-02,\n",
       "       6.65681809e-02, 6.65681809e-02, 6.65681809e-02, 6.65681809e-02,\n",
       "       6.65681809e-02, 6.70399070e-02, 6.96469843e-02, 7.46809989e-02,\n",
       "       7.89530799e-02, 7.89530799e-02, 7.89530799e-02, 7.89530799e-02,\n",
       "       7.89530799e-02, 7.89530799e-02, 7.89530799e-02, 8.06851760e-02,\n",
       "       8.41587111e-02, 8.87574703e-02, 8.87574703e-02, 8.92280117e-02,\n",
       "       8.92280117e-02, 8.92280117e-02, 8.92280117e-02, 8.92280117e-02,\n",
       "       9.27773342e-02, 9.27773342e-02, 9.27773342e-02, 9.33510587e-02,\n",
       "       9.61667821e-02, 1.02758087e-01, 1.05424397e-01, 1.05424397e-01,\n",
       "       1.08083166e-01, 1.08328335e-01, 1.08786754e-01, 1.11416273e-01,\n",
       "       1.17652535e-01, 1.26690090e-01, 1.30498484e-01, 1.34575337e-01,\n",
       "       1.35455489e-01, 1.35491833e-01, 1.38549909e-01, 1.39138237e-01,\n",
       "       1.40442267e-01, 1.40442267e-01, 1.46682814e-01, 1.47955701e-01,\n",
       "       1.48691967e-01, 1.51753947e-01, 1.53368741e-01, 1.53368741e-01,\n",
       "       1.53368741e-01, 1.53368741e-01, 1.55565590e-01, 1.56206131e-01,\n",
       "       1.61634326e-01, 1.64274767e-01, 1.64807290e-01, 1.64807290e-01,\n",
       "       1.65243030e-01, 1.65417686e-01, 1.68707132e-01, 1.69132486e-01,\n",
       "       1.70494854e-01, 1.71658948e-01, 1.72254652e-01, 1.73887193e-01,\n",
       "       1.74333915e-01, 1.74769774e-01, 1.77668542e-01, 1.77980736e-01,\n",
       "       1.78403556e-01, 1.79037407e-01, 1.79060087e-01, 1.79900855e-01,\n",
       "       1.79900855e-01, 1.79900855e-01, 1.81332439e-01, 1.83437392e-01,\n",
       "       1.83799312e-01, 1.84659332e-01, 1.84659332e-01, 1.84879184e-01,\n",
       "       1.86227173e-01, 1.86227173e-01, 1.86344787e-01, 1.88610569e-01,\n",
       "       1.88730553e-01, 1.88730553e-01, 1.91341311e-01, 1.91474810e-01,\n",
       "       1.94625929e-01, 1.97492689e-01, 1.98612168e-01, 1.99051082e-01,\n",
       "       1.99460164e-01, 1.99704245e-01, 2.00591773e-01, 2.08124116e-01,\n",
       "       2.08130777e-01, 2.10734814e-01, 2.10835353e-01, 2.10835353e-01,\n",
       "       2.10835353e-01, 2.10835353e-01, 2.10835353e-01, 2.10835353e-01,\n",
       "       2.10835353e-01, 2.10835353e-01, 2.10835353e-01, 2.10835353e-01,\n",
       "       2.16892302e-01, 2.16892302e-01, 2.17184201e-01, 2.17766047e-01,\n",
       "       2.18339697e-01, 2.21893579e-01, 2.22357258e-01, 2.23423511e-01,\n",
       "       2.23423511e-01, 2.24253193e-01, 2.24529207e-01, 2.24529207e-01,\n",
       "       2.24529207e-01, 2.24529207e-01, 2.25021601e-01, 2.26729900e-01,\n",
       "       2.27204710e-01, 2.30408445e-01, 2.30997890e-01, 2.31933922e-01,\n",
       "       2.33018413e-01, 2.37180412e-01, 2.37686038e-01, 2.38595441e-01,\n",
       "       2.38952860e-01, 2.40559787e-01, 2.41153494e-01, 2.42423952e-01,\n",
       "       2.44082958e-01, 2.44082958e-01, 2.44082958e-01, 2.44082958e-01,\n",
       "       2.44082958e-01, 2.44082958e-01, 2.44082958e-01, 2.44082958e-01,\n",
       "       2.44082958e-01, 2.44082958e-01, 2.48839587e-01, 2.50104457e-01,\n",
       "       2.50104457e-01, 2.50905782e-01, 2.50905782e-01, 2.50905782e-01,\n",
       "       2.50905782e-01, 2.50905782e-01, 2.50955701e-01, 2.50955701e-01,\n",
       "       2.52262473e-01, 2.52332568e-01, 2.54342526e-01, 2.54613906e-01,\n",
       "       2.54725277e-01, 2.55442351e-01, 2.55442351e-01, 2.56092250e-01,\n",
       "       2.58955598e-01, 2.58955598e-01, 2.59204924e-01, 2.59604603e-01,\n",
       "       2.59763092e-01, 2.60317832e-01], dtype=float32)"
      ]
     },
     "metadata": {},
     "output_type": "display_data"
    }
   ],
   "source": [
    "neighbors, distances = knn_index.get_neighbors(0)\n",
    "display(neighbors)\n",
    "display(distances)"
   ]
  },
  {
   "cell_type": "markdown",
   "id": "c005010c",
   "metadata": {},
   "source": [
    "O índice, uma vez calculado, é salvo para poder ser consultado posteriormente."
   ]
  },
  {
   "cell_type": "code",
   "execution_count": 13,
   "id": "d0c90354",
   "metadata": {},
   "outputs": [
    {
     "name": "stdout",
     "output_type": "stream",
     "text": [
      "knn index has been built -> ./DATA/knn_index.pickle\n"
     ]
    }
   ],
   "source": [
    "knn_index.save(KNN_INDEX)\n",
    "print(f\"knn index has been built -> {KNN_INDEX}\")"
   ]
  }
 ],
 "metadata": {
  "kernelspec": {
   "display_name": "Python 3 (ipykernel)",
   "language": "python",
   "name": "python3"
  },
  "language_info": {
   "codemirror_mode": {
    "name": "ipython",
    "version": 3
   },
   "file_extension": ".py",
   "mimetype": "text/x-python",
   "name": "python",
   "nbconvert_exporter": "python",
   "pygments_lexer": "ipython3",
   "version": "3.10.10"
  }
 },
 "nbformat": 4,
 "nbformat_minor": 5
}
